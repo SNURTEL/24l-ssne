{
 "cells": [
  {
   "cell_type": "markdown",
   "source": [
    "# SSNE Miniproject 3\n",
    "### 318703 Tomasz Owienko\n",
    "### 318718 Anna Schäfer\n",
    "### Grupa piątek"
   ],
   "metadata": {
    "collapsed": false
   },
   "id": "7e11a7bd6121478"
  },
  {
   "cell_type": "code",
   "execution_count": 1,
   "id": "initial_id",
   "metadata": {
    "collapsed": true,
    "ExecuteTime": {
     "end_time": "2024-04-18T17:30:19.817499907Z",
     "start_time": "2024-04-18T17:30:15.957927998Z"
    }
   },
   "outputs": [],
   "source": [
    "import os\n",
    "from typing import Any, Callable\n",
    "\n",
    "import PIL.Image\n",
    "import pandas as pd\n",
    "import torch\n",
    "import torchmetrics\n",
    "import torch.nn as nn\n",
    "import torchvision.transforms as transforms\n",
    "from pytorch_lightning.callbacks import ModelCheckpoint\n",
    "from pytorch_lightning.utilities.types import TRAIN_DATALOADERS, EVAL_DATALOADERS\n",
    "from torch.utils.data import DataLoader, Dataset\n",
    "from torchvision.datasets import ImageFolder\n",
    "import pytorch_lightning as pl"
   ]
  },
  {
   "cell_type": "code",
   "outputs": [
    {
     "data": {
      "text/plain": "<torch._C.Generator at 0x7fd21cf26c50>"
     },
     "execution_count": 2,
     "metadata": {},
     "output_type": "execute_result"
    }
   ],
   "source": [
    "RANDOM_SEED = 123\n",
    "torch.manual_seed(RANDOM_SEED)"
   ],
   "metadata": {
    "collapsed": false,
    "ExecuteTime": {
     "end_time": "2024-04-18T17:30:19.826292026Z",
     "start_time": "2024-04-18T17:30:19.819406584Z"
    }
   },
   "id": "77b016a920782844",
   "execution_count": 2
  },
  {
   "cell_type": "code",
   "outputs": [],
   "source": [
    "device = torch.device('cuda') if torch.cuda.is_available() else torch.device('cpu')\n",
    "torch.set_float32_matmul_precision('medium')"
   ],
   "metadata": {
    "collapsed": false,
    "ExecuteTime": {
     "end_time": "2024-04-18T17:30:19.865594223Z",
     "start_time": "2024-04-18T17:30:19.827493287Z"
    }
   },
   "id": "1d9a0540a7f6c891",
   "execution_count": 3
  },
  {
   "cell_type": "code",
   "execution_count": 4,
   "outputs": [],
   "source": [
    "class ImagesDataModule(pl.LightningDataModule):\n",
    "    class FastDataset(Dataset):\n",
    "        def __init__(self, data, labels, num_classes):\n",
    "            self.dataset = data\n",
    "            self.labels = labels\n",
    "            self.number_classes = num_classes\n",
    "\n",
    "        def __len__(self):\n",
    "            return len(self.dataset)\n",
    "\n",
    "        def __getitem__(self, index):\n",
    "            return self.dataset[index], self.labels[index]\n",
    "\n",
    "    def __init__(self, path: str, transform: Callable[[Any], torch.Tensor], *, val_fraction: float,\n",
    "                 test_fraction: float, in_memory=False):\n",
    "        super().__init__()\n",
    "        assert 0 <= val_fraction + test_fraction <= 1\n",
    "        assert val_fraction * test_fraction >= 0\n",
    "\n",
    "        self.image_folder = ImageFolder(path, transform=transform)\n",
    "        self.dataset: ImagesDataModule.FastDataset | None = None\n",
    "        self._val_fraction = val_fraction\n",
    "        self._test_fraction = test_fraction\n",
    "        self._in_memory = in_memory\n",
    "\n",
    "        self._train = self._val = self._test = None\n",
    "\n",
    "    def prepare_data(self) -> None:\n",
    "        if self._in_memory:\n",
    "            loader = DataLoader(self.image_folder, batch_size=len(self.image_folder))\n",
    "            data = next(iter(loader))\n",
    "            dataset = ImagesDataModule.FastDataset(data[0], data[1], num_classes=len(self.image_folder.classes))\n",
    "        else:\n",
    "            dataset = self.image_folder\n",
    "\n",
    "        val_size = int(len(dataset) * self._val_fraction)\n",
    "        test_size = int(len(dataset) * self._test_fraction)\n",
    "        train_size = len(dataset) - val_size - test_size\n",
    "\n",
    "        self._train, self._val, self._test = torch.utils.data.random_split(dataset, [train_size, val_size, test_size])\n",
    "\n",
    "    def train_dataloader(self) -> TRAIN_DATALOADERS:\n",
    "        return DataLoader(self._train, batch_size=4096, shuffle=True, num_workers=8 if not self._in_memory else 0,\n",
    "                          pin_memory=True)\n",
    "\n",
    "    def val_dataloader(self) -> EVAL_DATALOADERS:\n",
    "        return DataLoader(self._val, batch_size=64, shuffle=False, num_workers=8 if not self._in_memory else 0,\n",
    "                          pin_memory=True)\n",
    "\n",
    "    def test_dataloader(self) -> EVAL_DATALOADERS:\n",
    "        return DataLoader(self._test, batch_size=64, shuffle=False, num_workers=8 if not self._in_memory else 0,\n",
    "                          pin_memory=True)"
   ],
   "metadata": {
    "collapsed": false,
    "ExecuteTime": {
     "end_time": "2024-04-18T17:30:19.871738337Z",
     "start_time": "2024-04-18T17:30:19.846018073Z"
    }
   },
   "id": "7f032492ee9524f7"
  },
  {
   "cell_type": "code",
   "outputs": [],
   "source": [
    "class ImageClassifier(pl.LightningModule):\n",
    "    def __init__(self, num_classes, lr, weight_decay, loss):\n",
    "        super().__init__()\n",
    "        self.conv1_1 = nn.Conv2d(3, 32, 5, padding=2)\n",
    "        self.conv1_2 = nn.Conv2d(32, 32, 5, padding=2)\n",
    "        self.bn1 = nn.BatchNorm2d(32)\n",
    "        self.pool1 = nn.MaxPool2d(3, 3)\n",
    "        self.act1 = nn.ReLU()\n",
    "        self.conv2_1 = nn.Conv2d(32, 64, 3, padding=1)\n",
    "        self.conv2_2 = nn.Conv2d(64, 64, 3, padding=1)\n",
    "        self.bn2 = nn.BatchNorm2d(64)\n",
    "        self.pool2 = nn.MaxPool2d(2, 2)\n",
    "        self.act2 = nn.ReLU()\n",
    "        self.conv3 = nn.Conv2d(64, 128, 3, padding=1)\n",
    "        self.bn3 = nn.BatchNorm2d(128)\n",
    "        self.pool3 = nn.MaxPool2d(2, 2)\n",
    "        self.act3 = nn.ReLU()\n",
    "        self.conv4 = nn.Conv2d(128, 256, 3, padding=1)\n",
    "        self.bn4 = nn.BatchNorm2d(256)\n",
    "        self.pool4 = nn.MaxPool2d(2, 2)\n",
    "        self.act4 = nn.ReLU()\n",
    "        self.flatten = nn.Flatten()\n",
    "        self.dropout1 = nn.Dropout(0.2)\n",
    "        self.fc1 = nn.Linear(1024, 1024)\n",
    "        self.act5 = nn.ReLU()\n",
    "        self.bn5 = nn.BatchNorm1d(1024)\n",
    "        self.dropout2 = nn.Dropout(0.2)\n",
    "        self.fc2 = nn.Linear(1024, 512)\n",
    "        self.act6 = nn.ReLU()\n",
    "        self.fc3 = nn.Linear(512, num_classes)\n",
    "\n",
    "        self._accuracy = torchmetrics.classification.MulticlassAccuracy(num_classes=num_classes)\n",
    "\n",
    "        self.example_input_array = torch.rand((16, 3, 64, 64)).to(device)\n",
    "\n",
    "        self._lr = lr\n",
    "        self._weight_decay = weight_decay\n",
    "        self._loss = loss\n",
    "        \n",
    "        self._val_preds: list | None = None\n",
    "        self._test_preds: list | None = None\n",
    "\n",
    "    def forward(self, x: torch.Tensor):\n",
    "        x = self.act1(self.pool1(self.bn1(self.conv1_2(self.conv1_1(x)))))\n",
    "        x = self.act2(self.pool2(self.bn2(self.conv2_2(self.conv2_1(x)))))\n",
    "        x = self.act3(self.pool3(self.bn3(self.conv3(x))))\n",
    "        x = self.act4(self.pool4(self.bn4(self.conv4(x))))\n",
    "        x = self.flatten(x)\n",
    "        x = self.dropout1(x)\n",
    "        x = self.act5(self.fc1(x))\n",
    "        x = self.bn5(x)\n",
    "        x = self.dropout2(x)\n",
    "        x = self.act6(self.fc2(x))\n",
    "        x = self.fc3(x)\n",
    "        return x\n",
    "\n",
    "    def configure_optimizers(self):\n",
    "        optimizer = torch.optim.Adam(self.parameters(), lr=0.001, weight_decay=0.001)\n",
    "        return optimizer\n",
    "\n",
    "    def on_train_start(self) -> None:\n",
    "        self.logger.experiment.add_graph(self, self.example_input_array)\n",
    "        \n",
    "    def training_step(self, batch, batch_idx):\n",
    "        assert self.training\n",
    "        images, labels = batch\n",
    "        out = self.forward(images)\n",
    "        loss = self._loss(out, labels)\n",
    "        self.log('train_loss', loss, on_step=False, on_epoch=True)\n",
    "        return loss\n",
    "    \n",
    "    def on_validation_epoch_start(self) -> None:\n",
    "        self._val_preds = []\n",
    "\n",
    "    def validation_step(self, batch, batch_idx):\n",
    "        assert not self.training\n",
    "        images, labels = batch\n",
    "        out = self.forward(images)\n",
    "        loss = self._loss(out, labels)\n",
    "        self.log('val_loss', loss, on_step=False, on_epoch=True)\n",
    "        out = self.forward(images)\n",
    "        preds = torch.argmax(out, dim=1)\n",
    "        \n",
    "        self._val_preds.append((preds, labels))\n",
    "\n",
    "        return loss\n",
    "    \n",
    "    def on_validation_epoch_end(self) -> None:\n",
    "        preds, labels = zip(*self._val_preds)\n",
    "        acc = self._accuracy(torch.cat(preds), torch.cat(labels))\n",
    "        self.log('val_accuracy', acc)\n",
    "    \n",
    "    def on_test_epoch_start(self) -> None:\n",
    "        self._test_preds = []\n",
    "\n",
    "    def test_step(self, batch, batch_idx):\n",
    "        assert not self.training\n",
    "        images, labels = batch\n",
    "        out = self.forward(images)\n",
    "        preds = torch.argmax(out, dim=1)\n",
    "        loss = self._loss(out, labels)\n",
    "        self.log('test_loss', loss, on_step=False, on_epoch=True)\n",
    "\n",
    "        self.logger.log_hyperparams(\n",
    "            {\n",
    "                'lr': self._lr,\n",
    "                'weight_decay': self._weight_decay,\n",
    "                'loss': str(self._loss)\n",
    "            }\n",
    "        )\n",
    "        \n",
    "        self._test_preds.append((preds, labels))\n",
    "        \n",
    "        return loss\n",
    "        \n",
    "    def on_test_epoch_end(self) -> None:\n",
    "        preds, labels = zip(*self._test_preds)\n",
    "        acc = self._accuracy(torch.cat(preds), torch.cat(labels))\n",
    "        self.log('test_accuracy', acc)\n"
   ],
   "metadata": {
    "collapsed": false,
    "ExecuteTime": {
     "end_time": "2024-04-18T17:30:19.890470843Z",
     "start_time": "2024-04-18T17:30:19.848241160Z"
    }
   },
   "id": "80e5674c2e730b66",
   "execution_count": 5
  },
  {
   "cell_type": "code",
   "execution_count": 6,
   "outputs": [],
   "source": [
    "transform = transforms.Compose([\n",
    "    transforms.RandAugment(),\n",
    "    transforms.ToTensor(),\n",
    "    transforms.Normalize((0.5, 0.5, 0.5,), (0.5, 0.5, 0.5)),\n",
    "])\n",
    "\n",
    "dm = ImagesDataModule('data/train', transform, val_fraction=0.1, test_fraction=0.1)"
   ],
   "metadata": {
    "collapsed": false,
    "ExecuteTime": {
     "end_time": "2024-04-18T17:30:19.988735475Z",
     "start_time": "2024-04-18T17:30:19.889960257Z"
    }
   },
   "id": "7929f31ac1708650"
  },
  {
   "cell_type": "markdown",
   "source": [
    "#### Przetestowane modyfikacje:\n",
    "- Funkcje aktywacji - sigmoid, tanh, ReLU; zgodnie z oczekiwaniami ReLU spisuje się najlepiej\n",
    "- Wprowadzenie normalizacji pakietowej (w taki sposób, jak w obecnej konfiguracji) - niewielka poprawa wartości funkcji straty i dokładności na zbiorze walidacyjnym\n",
    "- Umieszczenie dwóch warstw splotowych ciągiem przed warstwą max-pool (tak jak w *vggnet*) - korzystne przy pierwszych dwóch warstwach, w przypadku \"podwojenia\" wszystkich warstw splotowych brak zbieżności - potencjalnie problem zanikającego gradientu\n",
    "- Dodanie kolejnych bloków splot + normalizacja pakietowa + max-pooling + ReLU - brak zbieżności\n",
    "- Rozmiar okna splotu - korzystne jedynie niewielkie zwiększenie w płytszych warstwach, w innych przypadkach spadek jakości modelu\n",
    "- Dodanie dodatkowych warstw w pełni połączonych na końcu sieci - spadek jakości, ale model nadal zbieżny"
   ],
   "metadata": {
    "collapsed": false
   },
   "id": "465a939483319849"
  },
  {
   "cell_type": "code",
   "outputs": [
    {
     "name": "stderr",
     "output_type": "stream",
     "text": [
      "GPU available: True (cuda), used: True\n",
      "TPU available: False, using: 0 TPU cores\n",
      "IPU available: False, using: 0 IPUs\n",
      "HPU available: False, using: 0 HPUs\n",
      "LOCAL_RANK: 0 - CUDA_VISIBLE_DEVICES: [0]\n",
      "\n",
      "   | Name      | Type               | Params | In sizes          | Out sizes        \n",
      "------------------------------------------------------------------------------------------\n",
      "0  | conv1_1   | Conv2d             | 2.4 K  | [16, 3, 64, 64]   | [16, 32, 64, 64] \n",
      "1  | conv1_2   | Conv2d             | 25.6 K | [16, 32, 64, 64]  | [16, 32, 64, 64] \n",
      "2  | bn1       | BatchNorm2d        | 64     | [16, 32, 64, 64]  | [16, 32, 64, 64] \n",
      "3  | pool1     | MaxPool2d          | 0      | [16, 32, 64, 64]  | [16, 32, 21, 21] \n",
      "4  | act1      | ReLU               | 0      | [16, 32, 21, 21]  | [16, 32, 21, 21] \n",
      "5  | conv2_1   | Conv2d             | 18.5 K | [16, 32, 21, 21]  | [16, 64, 21, 21] \n",
      "6  | conv2_2   | Conv2d             | 36.9 K | [16, 64, 21, 21]  | [16, 64, 21, 21] \n",
      "7  | bn2       | BatchNorm2d        | 128    | [16, 64, 21, 21]  | [16, 64, 21, 21] \n",
      "8  | pool2     | MaxPool2d          | 0      | [16, 64, 21, 21]  | [16, 64, 10, 10] \n",
      "9  | act2      | ReLU               | 0      | [16, 64, 10, 10]  | [16, 64, 10, 10] \n",
      "10 | conv3     | Conv2d             | 73.9 K | [16, 64, 10, 10]  | [16, 128, 10, 10]\n",
      "11 | bn3       | BatchNorm2d        | 256    | [16, 128, 10, 10] | [16, 128, 10, 10]\n",
      "12 | pool3     | MaxPool2d          | 0      | [16, 128, 10, 10] | [16, 128, 5, 5]  \n",
      "13 | act3      | ReLU               | 0      | [16, 128, 5, 5]   | [16, 128, 5, 5]  \n",
      "14 | conv4     | Conv2d             | 295 K  | [16, 128, 5, 5]   | [16, 256, 5, 5]  \n",
      "15 | bn4       | BatchNorm2d        | 512    | [16, 256, 5, 5]   | [16, 256, 5, 5]  \n",
      "16 | pool4     | MaxPool2d          | 0      | [16, 256, 5, 5]   | [16, 256, 2, 2]  \n",
      "17 | act4      | ReLU               | 0      | [16, 256, 2, 2]   | [16, 256, 2, 2]  \n",
      "18 | flatten   | Flatten            | 0      | [16, 256, 2, 2]   | [16, 1024]       \n",
      "19 | dropout1  | Dropout            | 0      | [16, 1024]        | [16, 1024]       \n",
      "20 | fc1       | Linear             | 1.0 M  | [16, 1024]        | [16, 1024]       \n",
      "21 | act5      | ReLU               | 0      | [16, 1024]        | [16, 1024]       \n",
      "22 | bn5       | BatchNorm1d        | 2.0 K  | [16, 1024]        | [16, 1024]       \n",
      "23 | dropout2  | Dropout            | 0      | [16, 1024]        | [16, 1024]       \n",
      "24 | fc2       | Linear             | 524 K  | [16, 1024]        | [16, 512]        \n",
      "25 | act6      | ReLU               | 0      | [16, 512]         | [16, 512]        \n",
      "26 | fc3       | Linear             | 25.7 K | [16, 512]         | [16, 50]         \n",
      "27 | _accuracy | MulticlassAccuracy | 0      | ?                 | ?                \n",
      "28 | _loss     | CrossEntropyLoss   | 0      | ?                 | ?                \n",
      "------------------------------------------------------------------------------------------\n",
      "2.1 M     Trainable params\n",
      "0         Non-trainable params\n",
      "2.1 M     Total params\n",
      "8.222     Total estimated model params size (MB)\n"
     ]
    },
    {
     "data": {
      "text/plain": "Sanity Checking: 0it [00:00, ?it/s]",
      "application/vnd.jupyter.widget-view+json": {
       "version_major": 2,
       "version_minor": 0,
       "model_id": "19dedd989c23474092978b4958c659c3"
      }
     },
     "metadata": {},
     "output_type": "display_data"
    },
    {
     "name": "stderr",
     "output_type": "stream",
     "text": [
      "/home/tomek/miniconda3/envs/ssne_p3/lib/python3.11/site-packages/pytorch_lightning/loops/fit_loop.py:280: PossibleUserWarning: The number of training batches (18) is smaller than the logging interval Trainer(log_every_n_steps=50). Set a lower value for log_every_n_steps if you want to see logs for the training epoch.\n",
      "  rank_zero_warn(\n"
     ]
    },
    {
     "data": {
      "text/plain": "Training: 0it [00:00, ?it/s]",
      "application/vnd.jupyter.widget-view+json": {
       "version_major": 2,
       "version_minor": 0,
       "model_id": "4d2675849c89462aaff6829bad23f5b4"
      }
     },
     "metadata": {},
     "output_type": "display_data"
    },
    {
     "data": {
      "text/plain": "Validation: 0it [00:00, ?it/s]",
      "application/vnd.jupyter.widget-view+json": {
       "version_major": 2,
       "version_minor": 0,
       "model_id": "7d5a1fa00b524f7f841dfa0ae403f194"
      }
     },
     "metadata": {},
     "output_type": "display_data"
    },
    {
     "data": {
      "text/plain": "Validation: 0it [00:00, ?it/s]",
      "application/vnd.jupyter.widget-view+json": {
       "version_major": 2,
       "version_minor": 0,
       "model_id": "22ec443866fe47858903e7b2ed9f8bd8"
      }
     },
     "metadata": {},
     "output_type": "display_data"
    },
    {
     "data": {
      "text/plain": "Validation: 0it [00:00, ?it/s]",
      "application/vnd.jupyter.widget-view+json": {
       "version_major": 2,
       "version_minor": 0,
       "model_id": "a8a2ab85c4ca4df9bfa26de45c98b9d1"
      }
     },
     "metadata": {},
     "output_type": "display_data"
    },
    {
     "data": {
      "text/plain": "Validation: 0it [00:00, ?it/s]",
      "application/vnd.jupyter.widget-view+json": {
       "version_major": 2,
       "version_minor": 0,
       "model_id": "c06599e62473497099bca725440a0002"
      }
     },
     "metadata": {},
     "output_type": "display_data"
    },
    {
     "data": {
      "text/plain": "Validation: 0it [00:00, ?it/s]",
      "application/vnd.jupyter.widget-view+json": {
       "version_major": 2,
       "version_minor": 0,
       "model_id": "070b00b8cbbd42b9b5f8127d8310d53e"
      }
     },
     "metadata": {},
     "output_type": "display_data"
    },
    {
     "data": {
      "text/plain": "Validation: 0it [00:00, ?it/s]",
      "application/vnd.jupyter.widget-view+json": {
       "version_major": 2,
       "version_minor": 0,
       "model_id": "925e51e3f6d8411d88bad2828a91d1e2"
      }
     },
     "metadata": {},
     "output_type": "display_data"
    },
    {
     "data": {
      "text/plain": "Validation: 0it [00:00, ?it/s]",
      "application/vnd.jupyter.widget-view+json": {
       "version_major": 2,
       "version_minor": 0,
       "model_id": "7fa1e4a692fd4154a68dcf2e663b00e6"
      }
     },
     "metadata": {},
     "output_type": "display_data"
    },
    {
     "data": {
      "text/plain": "Validation: 0it [00:00, ?it/s]",
      "application/vnd.jupyter.widget-view+json": {
       "version_major": 2,
       "version_minor": 0,
       "model_id": "625b3f5d115345a0b2ebecc0bb095f25"
      }
     },
     "metadata": {},
     "output_type": "display_data"
    },
    {
     "data": {
      "text/plain": "Validation: 0it [00:00, ?it/s]",
      "application/vnd.jupyter.widget-view+json": {
       "version_major": 2,
       "version_minor": 0,
       "model_id": "ebe33cfe44c9461993176463e20d7d0b"
      }
     },
     "metadata": {},
     "output_type": "display_data"
    },
    {
     "data": {
      "text/plain": "Validation: 0it [00:00, ?it/s]",
      "application/vnd.jupyter.widget-view+json": {
       "version_major": 2,
       "version_minor": 0,
       "model_id": "97c82afa591a42cfbc9e4d73bcb33e44"
      }
     },
     "metadata": {},
     "output_type": "display_data"
    },
    {
     "data": {
      "text/plain": "Validation: 0it [00:00, ?it/s]",
      "application/vnd.jupyter.widget-view+json": {
       "version_major": 2,
       "version_minor": 0,
       "model_id": "922468eed05e40f1907795df17a4e23e"
      }
     },
     "metadata": {},
     "output_type": "display_data"
    },
    {
     "data": {
      "text/plain": "Validation: 0it [00:00, ?it/s]",
      "application/vnd.jupyter.widget-view+json": {
       "version_major": 2,
       "version_minor": 0,
       "model_id": "55cd184ac1014376ba48440da0cdbfdd"
      }
     },
     "metadata": {},
     "output_type": "display_data"
    },
    {
     "data": {
      "text/plain": "Validation: 0it [00:00, ?it/s]",
      "application/vnd.jupyter.widget-view+json": {
       "version_major": 2,
       "version_minor": 0,
       "model_id": "eb3a71863122421b9b9bd17f9d4ea9a6"
      }
     },
     "metadata": {},
     "output_type": "display_data"
    },
    {
     "data": {
      "text/plain": "Validation: 0it [00:00, ?it/s]",
      "application/vnd.jupyter.widget-view+json": {
       "version_major": 2,
       "version_minor": 0,
       "model_id": "cb8d56e941c54fadb4f8e733ac8a6c4a"
      }
     },
     "metadata": {},
     "output_type": "display_data"
    },
    {
     "data": {
      "text/plain": "Validation: 0it [00:00, ?it/s]",
      "application/vnd.jupyter.widget-view+json": {
       "version_major": 2,
       "version_minor": 0,
       "model_id": "0b1918c836024f8e9a3e70e08dfe5170"
      }
     },
     "metadata": {},
     "output_type": "display_data"
    },
    {
     "data": {
      "text/plain": "Validation: 0it [00:00, ?it/s]",
      "application/vnd.jupyter.widget-view+json": {
       "version_major": 2,
       "version_minor": 0,
       "model_id": "792a32509f5d400fb689c5476c9a47af"
      }
     },
     "metadata": {},
     "output_type": "display_data"
    },
    {
     "data": {
      "text/plain": "Validation: 0it [00:00, ?it/s]",
      "application/vnd.jupyter.widget-view+json": {
       "version_major": 2,
       "version_minor": 0,
       "model_id": "da565bfb53ae46eca58973bbaa1ca106"
      }
     },
     "metadata": {},
     "output_type": "display_data"
    },
    {
     "data": {
      "text/plain": "Validation: 0it [00:00, ?it/s]",
      "application/vnd.jupyter.widget-view+json": {
       "version_major": 2,
       "version_minor": 0,
       "model_id": "8bf8062a9f8045e5aa6e7945dc739091"
      }
     },
     "metadata": {},
     "output_type": "display_data"
    },
    {
     "data": {
      "text/plain": "Validation: 0it [00:00, ?it/s]",
      "application/vnd.jupyter.widget-view+json": {
       "version_major": 2,
       "version_minor": 0,
       "model_id": "c5ea2455131245509b17ecdc2f300524"
      }
     },
     "metadata": {},
     "output_type": "display_data"
    },
    {
     "data": {
      "text/plain": "Validation: 0it [00:00, ?it/s]",
      "application/vnd.jupyter.widget-view+json": {
       "version_major": 2,
       "version_minor": 0,
       "model_id": "11c04819b3a1487a85e2aede5a426fd2"
      }
     },
     "metadata": {},
     "output_type": "display_data"
    },
    {
     "data": {
      "text/plain": "Validation: 0it [00:00, ?it/s]",
      "application/vnd.jupyter.widget-view+json": {
       "version_major": 2,
       "version_minor": 0,
       "model_id": "18d97d2e09354cccbf182818ac0ec416"
      }
     },
     "metadata": {},
     "output_type": "display_data"
    },
    {
     "data": {
      "text/plain": "Validation: 0it [00:00, ?it/s]",
      "application/vnd.jupyter.widget-view+json": {
       "version_major": 2,
       "version_minor": 0,
       "model_id": "865e12c6b5154430b8696df097b8ce35"
      }
     },
     "metadata": {},
     "output_type": "display_data"
    },
    {
     "data": {
      "text/plain": "Validation: 0it [00:00, ?it/s]",
      "application/vnd.jupyter.widget-view+json": {
       "version_major": 2,
       "version_minor": 0,
       "model_id": "76d29f958d7c41a5bfcdbbf4463e9070"
      }
     },
     "metadata": {},
     "output_type": "display_data"
    },
    {
     "data": {
      "text/plain": "Validation: 0it [00:00, ?it/s]",
      "application/vnd.jupyter.widget-view+json": {
       "version_major": 2,
       "version_minor": 0,
       "model_id": "d0f5c4c816fb4f6ca7280b0bf5a4aa8c"
      }
     },
     "metadata": {},
     "output_type": "display_data"
    },
    {
     "data": {
      "text/plain": "Validation: 0it [00:00, ?it/s]",
      "application/vnd.jupyter.widget-view+json": {
       "version_major": 2,
       "version_minor": 0,
       "model_id": "99b5681fb8bb4f18bd551631bcb3a4f3"
      }
     },
     "metadata": {},
     "output_type": "display_data"
    },
    {
     "data": {
      "text/plain": "Validation: 0it [00:00, ?it/s]",
      "application/vnd.jupyter.widget-view+json": {
       "version_major": 2,
       "version_minor": 0,
       "model_id": "f76323cf9d9149d9bfac4b71c4601d11"
      }
     },
     "metadata": {},
     "output_type": "display_data"
    },
    {
     "data": {
      "text/plain": "Validation: 0it [00:00, ?it/s]",
      "application/vnd.jupyter.widget-view+json": {
       "version_major": 2,
       "version_minor": 0,
       "model_id": "f6fc5194f1e7422db6be271d1560bbf5"
      }
     },
     "metadata": {},
     "output_type": "display_data"
    },
    {
     "data": {
      "text/plain": "Validation: 0it [00:00, ?it/s]",
      "application/vnd.jupyter.widget-view+json": {
       "version_major": 2,
       "version_minor": 0,
       "model_id": "9da9e44a2f0441829bd29aea83196b47"
      }
     },
     "metadata": {},
     "output_type": "display_data"
    },
    {
     "data": {
      "text/plain": "Validation: 0it [00:00, ?it/s]",
      "application/vnd.jupyter.widget-view+json": {
       "version_major": 2,
       "version_minor": 0,
       "model_id": "11e07e469df6454f8d303dae05d182cc"
      }
     },
     "metadata": {},
     "output_type": "display_data"
    },
    {
     "data": {
      "text/plain": "Validation: 0it [00:00, ?it/s]",
      "application/vnd.jupyter.widget-view+json": {
       "version_major": 2,
       "version_minor": 0,
       "model_id": "b06081dc30fc4a83988cd00f7505337d"
      }
     },
     "metadata": {},
     "output_type": "display_data"
    },
    {
     "data": {
      "text/plain": "Validation: 0it [00:00, ?it/s]",
      "application/vnd.jupyter.widget-view+json": {
       "version_major": 2,
       "version_minor": 0,
       "model_id": "8e768766f0574569b2e200ee8ef94dd6"
      }
     },
     "metadata": {},
     "output_type": "display_data"
    },
    {
     "data": {
      "text/plain": "Validation: 0it [00:00, ?it/s]",
      "application/vnd.jupyter.widget-view+json": {
       "version_major": 2,
       "version_minor": 0,
       "model_id": "e9172c9677214eecacc7f9135de6ac66"
      }
     },
     "metadata": {},
     "output_type": "display_data"
    },
    {
     "data": {
      "text/plain": "Validation: 0it [00:00, ?it/s]",
      "application/vnd.jupyter.widget-view+json": {
       "version_major": 2,
       "version_minor": 0,
       "model_id": "a4bcb4a9d1594e7283dab8ea0f3e39d9"
      }
     },
     "metadata": {},
     "output_type": "display_data"
    },
    {
     "data": {
      "text/plain": "Validation: 0it [00:00, ?it/s]",
      "application/vnd.jupyter.widget-view+json": {
       "version_major": 2,
       "version_minor": 0,
       "model_id": "467762259ea84201b62e0d18effd9abe"
      }
     },
     "metadata": {},
     "output_type": "display_data"
    },
    {
     "data": {
      "text/plain": "Validation: 0it [00:00, ?it/s]",
      "application/vnd.jupyter.widget-view+json": {
       "version_major": 2,
       "version_minor": 0,
       "model_id": "5064289ea1a742f8a962bd9ef8627e80"
      }
     },
     "metadata": {},
     "output_type": "display_data"
    },
    {
     "data": {
      "text/plain": "Validation: 0it [00:00, ?it/s]",
      "application/vnd.jupyter.widget-view+json": {
       "version_major": 2,
       "version_minor": 0,
       "model_id": "80973032d047458b9b95c4f2a0376b4e"
      }
     },
     "metadata": {},
     "output_type": "display_data"
    },
    {
     "data": {
      "text/plain": "Validation: 0it [00:00, ?it/s]",
      "application/vnd.jupyter.widget-view+json": {
       "version_major": 2,
       "version_minor": 0,
       "model_id": "54bed75d1bb64bdf9f1b33a13e8d11f3"
      }
     },
     "metadata": {},
     "output_type": "display_data"
    },
    {
     "data": {
      "text/plain": "Validation: 0it [00:00, ?it/s]",
      "application/vnd.jupyter.widget-view+json": {
       "version_major": 2,
       "version_minor": 0,
       "model_id": "a32b2cad135640ea9aa053dca62b2126"
      }
     },
     "metadata": {},
     "output_type": "display_data"
    },
    {
     "data": {
      "text/plain": "Validation: 0it [00:00, ?it/s]",
      "application/vnd.jupyter.widget-view+json": {
       "version_major": 2,
       "version_minor": 0,
       "model_id": "a267d76787c2469d8b6f0125a5586707"
      }
     },
     "metadata": {},
     "output_type": "display_data"
    },
    {
     "data": {
      "text/plain": "Validation: 0it [00:00, ?it/s]",
      "application/vnd.jupyter.widget-view+json": {
       "version_major": 2,
       "version_minor": 0,
       "model_id": "dc0c416687834dc386ac4e1df3859ec7"
      }
     },
     "metadata": {},
     "output_type": "display_data"
    },
    {
     "name": "stderr",
     "output_type": "stream",
     "text": [
      "`Trainer.fit` stopped: `max_epochs=40` reached.\n"
     ]
    }
   ],
   "source": [
    "model = ImageClassifier(num_classes=len(dm.image_folder.classes), lr=1e-3, weight_decay=1e-4,\n",
    "                        loss=torch.nn.CrossEntropyLoss().to(device))\n",
    "\n",
    "checkpoint_callback = ModelCheckpoint(\n",
    "    save_top_k=10,\n",
    "    monitor=\"val_loss\",\n",
    "    mode=\"min\",\n",
    "    filename=\"checkpoint-{epoch:02d}-{val_loss:.2f}\",\n",
    ")\n",
    "\n",
    "trainer = pl.Trainer(max_epochs=40, callbacks=[checkpoint_callback])\n",
    "trainer.fit(model, datamodule=dm)"
   ],
   "metadata": {
    "collapsed": false,
    "ExecuteTime": {
     "end_time": "2024-04-18T17:39:30.851775190Z",
     "start_time": "2024-04-18T17:30:19.991455668Z"
    }
   },
   "id": "8363a94cb514b7fc",
   "execution_count": 7
  },
  {
   "cell_type": "code",
   "execution_count": 8,
   "outputs": [
    {
     "name": "stderr",
     "output_type": "stream",
     "text": [
      "LOCAL_RANK: 0 - CUDA_VISIBLE_DEVICES: [0]\n"
     ]
    },
    {
     "data": {
      "text/plain": "Testing: 0it [00:00, ?it/s]",
      "application/vnd.jupyter.widget-view+json": {
       "version_major": 2,
       "version_minor": 0,
       "model_id": "6993e165ea064512b25dfab2a69fc931"
      }
     },
     "metadata": {},
     "output_type": "display_data"
    },
    {
     "data": {
      "text/plain": "┏━━━━━━━━━━━━━━━━━━━━━━━━━━━┳━━━━━━━━━━━━━━━━━━━━━━━━━━━┓\n┃\u001B[1m \u001B[0m\u001B[1m  Runningstage.testing   \u001B[0m\u001B[1m \u001B[0m┃\u001B[1m                           \u001B[0m┃\n┃\u001B[1m \u001B[0m\u001B[1m         metric          \u001B[0m\u001B[1m \u001B[0m┃\u001B[1m \u001B[0m\u001B[1m      DataLoader 0       \u001B[0m\u001B[1m \u001B[0m┃\n┡━━━━━━━━━━━━━━━━━━━━━━━━━━━╇━━━━━━━━━━━━━━━━━━━━━━━━━━━┩\n│\u001B[36m \u001B[0m\u001B[36m      test_accuracy      \u001B[0m\u001B[36m \u001B[0m│\u001B[35m \u001B[0m\u001B[35m   0.6731699705123901    \u001B[0m\u001B[35m \u001B[0m│\n│\u001B[36m \u001B[0m\u001B[36m        test_loss        \u001B[0m\u001B[36m \u001B[0m│\u001B[35m \u001B[0m\u001B[35m   1.1165883541107178    \u001B[0m\u001B[35m \u001B[0m│\n└───────────────────────────┴───────────────────────────┘\n",
      "text/html": "<pre style=\"white-space:pre;overflow-x:auto;line-height:normal;font-family:Menlo,'DejaVu Sans Mono',consolas,'Courier New',monospace\">┏━━━━━━━━━━━━━━━━━━━━━━━━━━━┳━━━━━━━━━━━━━━━━━━━━━━━━━━━┓\n┃<span style=\"font-weight: bold\">   Runningstage.testing    </span>┃<span style=\"font-weight: bold\">                           </span>┃\n┃<span style=\"font-weight: bold\">          metric           </span>┃<span style=\"font-weight: bold\">       DataLoader 0        </span>┃\n┡━━━━━━━━━━━━━━━━━━━━━━━━━━━╇━━━━━━━━━━━━━━━━━━━━━━━━━━━┩\n│<span style=\"color: #008080; text-decoration-color: #008080\">       test_accuracy       </span>│<span style=\"color: #800080; text-decoration-color: #800080\">    0.6731699705123901     </span>│\n│<span style=\"color: #008080; text-decoration-color: #008080\">         test_loss         </span>│<span style=\"color: #800080; text-decoration-color: #800080\">    1.1165883541107178     </span>│\n└───────────────────────────┴───────────────────────────┘\n</pre>\n"
     },
     "metadata": {},
     "output_type": "display_data"
    },
    {
     "data": {
      "text/plain": "[{'test_loss': 1.1165883541107178, 'test_accuracy': 0.6731699705123901}]"
     },
     "execution_count": 8,
     "metadata": {},
     "output_type": "execute_result"
    }
   ],
   "source": [
    "trainer.test(model, datamodule=dm)"
   ],
   "metadata": {
    "collapsed": false,
    "ExecuteTime": {
     "end_time": "2024-04-18T17:39:32.518352669Z",
     "start_time": "2024-04-18T17:39:30.852007522Z"
    }
   },
   "id": "701c6f4ebbe0b436"
  },
  {
   "cell_type": "code",
   "outputs": [
    {
     "data": {
      "text/plain": "Launching TensorBoard..."
     },
     "metadata": {},
     "output_type": "display_data"
    }
   ],
   "source": [
    "%load_ext tensorboard\n",
    "%tensorboard --logdir=lightning_logs"
   ],
   "metadata": {
    "collapsed": false,
    "ExecuteTime": {
     "end_time": "2024-04-18T17:39:34.514483Z",
     "start_time": "2024-04-18T17:39:32.518010156Z"
    }
   },
   "id": "dc68e08a15db7e72",
   "execution_count": 9
  },
  {
   "cell_type": "code",
   "execution_count": 10,
   "outputs": [
    {
     "data": {
      "text/plain": "ImageClassifier(\n  (conv1_1): Conv2d(3, 32, kernel_size=(5, 5), stride=(1, 1), padding=(2, 2))\n  (conv1_2): Conv2d(32, 32, kernel_size=(5, 5), stride=(1, 1), padding=(2, 2))\n  (bn1): BatchNorm2d(32, eps=1e-05, momentum=0.1, affine=True, track_running_stats=True)\n  (pool1): MaxPool2d(kernel_size=3, stride=3, padding=0, dilation=1, ceil_mode=False)\n  (act1): ReLU()\n  (conv2_1): Conv2d(32, 64, kernel_size=(3, 3), stride=(1, 1), padding=(1, 1))\n  (conv2_2): Conv2d(64, 64, kernel_size=(3, 3), stride=(1, 1), padding=(1, 1))\n  (bn2): BatchNorm2d(64, eps=1e-05, momentum=0.1, affine=True, track_running_stats=True)\n  (pool2): MaxPool2d(kernel_size=2, stride=2, padding=0, dilation=1, ceil_mode=False)\n  (act2): ReLU()\n  (conv3): Conv2d(64, 128, kernel_size=(3, 3), stride=(1, 1), padding=(1, 1))\n  (bn3): BatchNorm2d(128, eps=1e-05, momentum=0.1, affine=True, track_running_stats=True)\n  (pool3): MaxPool2d(kernel_size=2, stride=2, padding=0, dilation=1, ceil_mode=False)\n  (act3): ReLU()\n  (conv4): Conv2d(128, 256, kernel_size=(3, 3), stride=(1, 1), padding=(1, 1))\n  (bn4): BatchNorm2d(256, eps=1e-05, momentum=0.1, affine=True, track_running_stats=True)\n  (pool4): MaxPool2d(kernel_size=2, stride=2, padding=0, dilation=1, ceil_mode=False)\n  (act4): ReLU()\n  (flatten): Flatten(start_dim=1, end_dim=-1)\n  (dropout1): Dropout(p=0.2, inplace=False)\n  (fc1): Linear(in_features=1024, out_features=1024, bias=True)\n  (act5): ReLU()\n  (bn5): BatchNorm1d(1024, eps=1e-05, momentum=0.1, affine=True, track_running_stats=True)\n  (dropout2): Dropout(p=0.2, inplace=False)\n  (fc2): Linear(in_features=1024, out_features=512, bias=True)\n  (act6): ReLU()\n  (fc3): Linear(in_features=512, out_features=50, bias=True)\n  (_accuracy): MulticlassAccuracy()\n  (_loss): CrossEntropyLoss()\n)"
     },
     "execution_count": 10,
     "metadata": {},
     "output_type": "execute_result"
    }
   ],
   "source": [
    "acc = torchmetrics.classification.MulticlassAccuracy(num_classes=50)\n",
    "model.eval()"
   ],
   "metadata": {
    "collapsed": false,
    "ExecuteTime": {
     "end_time": "2024-04-18T17:39:34.522376568Z",
     "start_time": "2024-04-18T17:39:34.516514711Z"
    }
   },
   "id": "e4e4e999c0a11f81"
  },
  {
   "cell_type": "code",
   "execution_count": 11,
   "outputs": [
    {
     "name": "stdout",
     "output_type": "stream",
     "text": [
      "tensor(0.6731)\n"
     ]
    }
   ],
   "source": [
    "# sanity check\n",
    "\n",
    "with torch.no_grad():\n",
    "    test_dl = dm.test_dataloader()\n",
    "    test_res = [(torch.argmax(model.forward(x), dim=1), y) for x, y in test_dl]\n",
    "    test_preds, test_labels = zip(*test_res)\n",
    "    print(acc(torch.cat(test_preds), torch.cat(test_labels)))"
   ],
   "metadata": {
    "collapsed": false,
    "ExecuteTime": {
     "end_time": "2024-04-18T17:39:47.604998128Z",
     "start_time": "2024-04-18T17:39:34.521367815Z"
    }
   },
   "id": "a3ad5d11906cdaad"
  },
  {
   "cell_type": "code",
   "execution_count": 12,
   "outputs": [
    {
     "name": "stdout",
     "output_type": "stream",
     "text": [
      "tensor(0.6712)\n"
     ]
    }
   ],
   "source": [
    "# sanity check\n",
    "\n",
    "with torch.no_grad():\n",
    "    val_dl = dm.val_dataloader()\n",
    "    val_res = [(torch.argmax(model.forward(x), dim=1), y) for x, y in val_dl]\n",
    "    val_preds, val_labels = zip(*val_res)\n",
    "    print(acc(torch.cat(val_preds), torch.cat(val_labels)))"
   ],
   "metadata": {
    "collapsed": false,
    "ExecuteTime": {
     "end_time": "2024-04-18T17:40:04.287704936Z",
     "start_time": "2024-04-18T17:39:47.604918686Z"
    }
   },
   "id": "389ad21c0290b6e5"
  },
  {
   "cell_type": "markdown",
   "source": [
    "### Predykcje na zbiorze testowym"
   ],
   "metadata": {
    "collapsed": false
   },
   "id": "9b5fab3f443b283"
  },
  {
   "cell_type": "code",
   "execution_count": 13,
   "outputs": [
    {
     "name": "stderr",
     "output_type": "stream",
     "text": [
      "GPU available: True (cuda), used: True\n",
      "TPU available: False, using: 0 TPU cores\n",
      "IPU available: False, using: 0 IPUs\n",
      "HPU available: False, using: 0 HPUs\n",
      "LOCAL_RANK: 0 - CUDA_VISIBLE_DEVICES: [0]\n",
      "\n",
      "   | Name      | Type               | Params | In sizes          | Out sizes        \n",
      "------------------------------------------------------------------------------------------\n",
      "0  | conv1_1   | Conv2d             | 2.4 K  | [16, 3, 64, 64]   | [16, 32, 64, 64] \n",
      "1  | conv1_2   | Conv2d             | 25.6 K | [16, 32, 64, 64]  | [16, 32, 64, 64] \n",
      "2  | bn1       | BatchNorm2d        | 64     | [16, 32, 64, 64]  | [16, 32, 64, 64] \n",
      "3  | pool1     | MaxPool2d          | 0      | [16, 32, 64, 64]  | [16, 32, 21, 21] \n",
      "4  | act1      | ReLU               | 0      | [16, 32, 21, 21]  | [16, 32, 21, 21] \n",
      "5  | conv2_1   | Conv2d             | 18.5 K | [16, 32, 21, 21]  | [16, 64, 21, 21] \n",
      "6  | conv2_2   | Conv2d             | 36.9 K | [16, 64, 21, 21]  | [16, 64, 21, 21] \n",
      "7  | bn2       | BatchNorm2d        | 128    | [16, 64, 21, 21]  | [16, 64, 21, 21] \n",
      "8  | pool2     | MaxPool2d          | 0      | [16, 64, 21, 21]  | [16, 64, 10, 10] \n",
      "9  | act2      | ReLU               | 0      | [16, 64, 10, 10]  | [16, 64, 10, 10] \n",
      "10 | conv3     | Conv2d             | 73.9 K | [16, 64, 10, 10]  | [16, 128, 10, 10]\n",
      "11 | bn3       | BatchNorm2d        | 256    | [16, 128, 10, 10] | [16, 128, 10, 10]\n",
      "12 | pool3     | MaxPool2d          | 0      | [16, 128, 10, 10] | [16, 128, 5, 5]  \n",
      "13 | act3      | ReLU               | 0      | [16, 128, 5, 5]   | [16, 128, 5, 5]  \n",
      "14 | conv4     | Conv2d             | 295 K  | [16, 128, 5, 5]   | [16, 256, 5, 5]  \n",
      "15 | bn4       | BatchNorm2d        | 512    | [16, 256, 5, 5]   | [16, 256, 5, 5]  \n",
      "16 | pool4     | MaxPool2d          | 0      | [16, 256, 5, 5]   | [16, 256, 2, 2]  \n",
      "17 | act4      | ReLU               | 0      | [16, 256, 2, 2]   | [16, 256, 2, 2]  \n",
      "18 | flatten   | Flatten            | 0      | [16, 256, 2, 2]   | [16, 1024]       \n",
      "19 | dropout1  | Dropout            | 0      | [16, 1024]        | [16, 1024]       \n",
      "20 | fc1       | Linear             | 1.0 M  | [16, 1024]        | [16, 1024]       \n",
      "21 | act5      | ReLU               | 0      | [16, 1024]        | [16, 1024]       \n",
      "22 | bn5       | BatchNorm1d        | 2.0 K  | [16, 1024]        | [16, 1024]       \n",
      "23 | dropout2  | Dropout            | 0      | [16, 1024]        | [16, 1024]       \n",
      "24 | fc2       | Linear             | 524 K  | [16, 1024]        | [16, 512]        \n",
      "25 | act6      | ReLU               | 0      | [16, 512]         | [16, 512]        \n",
      "26 | fc3       | Linear             | 25.7 K | [16, 512]         | [16, 50]         \n",
      "27 | _accuracy | MulticlassAccuracy | 0      | ?                 | ?                \n",
      "28 | _loss     | CrossEntropyLoss   | 0      | ?                 | ?                \n",
      "------------------------------------------------------------------------------------------\n",
      "2.1 M     Trainable params\n",
      "0         Non-trainable params\n",
      "2.1 M     Total params\n",
      "8.222     Total estimated model params size (MB)\n"
     ]
    },
    {
     "data": {
      "text/plain": "Sanity Checking: 0it [00:00, ?it/s]",
      "application/vnd.jupyter.widget-view+json": {
       "version_major": 2,
       "version_minor": 0,
       "model_id": "e48fdf50f3994ade9f24bdf0ec77e8f5"
      }
     },
     "metadata": {},
     "output_type": "display_data"
    },
    {
     "name": "stderr",
     "output_type": "stream",
     "text": [
      "/home/tomek/miniconda3/envs/ssne_p3/lib/python3.11/site-packages/pytorch_lightning/utilities/data.py:103: UserWarning: Total length of `DataLoader` across ranks is zero. Please make sure this was your intention.\n",
      "  rank_zero_warn(\n"
     ]
    },
    {
     "data": {
      "text/plain": "Training: 0it [00:00, ?it/s]",
      "application/vnd.jupyter.widget-view+json": {
       "version_major": 2,
       "version_minor": 0,
       "model_id": "f69c374464014d0e847d1ede0cd25454"
      }
     },
     "metadata": {},
     "output_type": "display_data"
    },
    {
     "name": "stderr",
     "output_type": "stream",
     "text": [
      "`Trainer.fit` stopped: `max_epochs=250` reached.\n"
     ]
    }
   ],
   "source": [
    "full_dm = ImagesDataModule('data/train', transform=transform, val_fraction=0., test_fraction=0.)\n",
    "final_model = ImageClassifier(num_classes=len(full_dm.image_folder.classes), lr=1e-3, weight_decay=1e-4,\n",
    "                        loss=torch.nn.CrossEntropyLoss().to(device))\n",
    "final_trainer = pl.Trainer(max_epochs=250, enable_checkpointing=False)\n",
    "final_trainer.fit(final_model, datamodule=full_dm)"
   ],
   "metadata": {
    "collapsed": false,
    "ExecuteTime": {
     "end_time": "2024-04-15T03:32:59.123397488Z",
     "start_time": "2024-04-15T00:38:58.049611273Z"
    }
   },
   "id": "ba88e45107c96978"
  },
  {
   "cell_type": "code",
   "execution_count": 14,
   "outputs": [
    {
     "name": "stdout",
     "output_type": "stream",
     "text": [
      "                           0   1\n",
      "0       835086824463163.JPEG  38\n",
      "1     39130056525035284.JPEG  36\n",
      "2     22458983111906805.JPEG  24\n",
      "3      2359038148696866.JPEG  18\n",
      "4      8048582063490501.JPEG  23\n",
      "...                      ...  ..\n",
      "9995   3292234890542963.JPEG   8\n",
      "9996   7254685650337267.JPEG  43\n",
      "9997   7494989598289197.JPEG   1\n",
      "9998   7850868808571556.JPEG  28\n",
      "9999   7409775133938961.JPEG  37\n",
      "\n",
      "[10000 rows x 2 columns]\n"
     ]
    }
   ],
   "source": [
    "class TestDataset(Dataset):\n",
    "    def __init__(self, path, num_classes, transform):\n",
    "        self.img_paths = [f\"{path}/{file}\" for file in os.listdir(path)]\n",
    "        self.number_classes = num_classes\n",
    "        self.transform = transform\n",
    "\n",
    "    def __len__(self):\n",
    "        return len(self.img_paths)\n",
    "\n",
    "    def __getitem__(self, index):\n",
    "        return (self.img_paths[index], self.transform(PIL.Image.open(self.img_paths[index]).convert('RGB'))), torch.tensor(0)\n",
    "    \n",
    "    \n",
    "test_dataset = TestDataset('data/test_all', num_classes=50, transform=transforms.Compose([\n",
    "    transforms.ToTensor(),\n",
    "    transforms.Normalize((0.5, 0.5, 0.5,), (0.5, 0.5, 0.5)),\n",
    "]))\n",
    "\n",
    "test_dataloader = DataLoader(test_dataset, batch_size=1, shuffle=False, num_workers=1, pin_memory=True)\n",
    "\n",
    "final_model.eval()\n",
    "with torch.no_grad():\n",
    "    preds = pd.DataFrame([(path[0].split('/')[-1], int(final_model(x).argmax(axis=1))) for (path, x), _ in test_dataloader])\n",
    "preds.to_csv('owienko_schafer.csv', header=None, index=None)\n",
    "print(preds)"
   ],
   "metadata": {
    "collapsed": false,
    "ExecuteTime": {
     "end_time": "2024-04-15T03:33:27.590969981Z",
     "start_time": "2024-04-15T03:32:58.491001009Z"
    }
   },
   "id": "864a62931249aa04"
  },
  {
   "cell_type": "code",
   "execution_count": 14,
   "outputs": [],
   "source": [],
   "metadata": {
    "collapsed": false,
    "ExecuteTime": {
     "end_time": "2024-04-15T03:33:27.605769841Z",
     "start_time": "2024-04-15T03:33:27.503318840Z"
    }
   },
   "id": "28bd250749d5419b"
  }
 ],
 "metadata": {
  "kernelspec": {
   "display_name": "Python 3",
   "language": "python",
   "name": "python3"
  },
  "language_info": {
   "codemirror_mode": {
    "name": "ipython",
    "version": 2
   },
   "file_extension": ".py",
   "mimetype": "text/x-python",
   "name": "python",
   "nbconvert_exporter": "python",
   "pygments_lexer": "ipython2",
   "version": "2.7.6"
  }
 },
 "nbformat": 4,
 "nbformat_minor": 5
}
