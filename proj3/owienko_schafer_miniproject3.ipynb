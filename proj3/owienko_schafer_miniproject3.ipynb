{
 "cells": [
  {
   "cell_type": "markdown",
   "source": [
    "# SSNE Miniproject 3\n",
    "### 318703 Tomasz Owienko\n",
    "### 318718 Anna Schäfer\n",
    "### Grupa piątek"
   ],
   "metadata": {
    "collapsed": false
   },
   "id": "7e11a7bd6121478"
  },
  {
   "cell_type": "code",
   "execution_count": 1,
   "id": "initial_id",
   "metadata": {
    "collapsed": true,
    "ExecuteTime": {
     "end_time": "2024-04-15T13:34:06.547984488Z",
     "start_time": "2024-04-15T13:34:04.165574841Z"
    }
   },
   "outputs": [],
   "source": [
    "import os\n",
    "from typing import Any, Callable\n",
    "\n",
    "import PIL.Image\n",
    "import pandas as pd\n",
    "import torch\n",
    "import torchmetrics\n",
    "import torch.nn as nn\n",
    "import torchvision.transforms as transforms\n",
    "from pytorch_lightning.callbacks import ModelCheckpoint\n",
    "from pytorch_lightning.utilities.types import TRAIN_DATALOADERS, EVAL_DATALOADERS\n",
    "from torch.utils.data import DataLoader, Dataset\n",
    "from torchvision.datasets import ImageFolder\n",
    "import pytorch_lightning as pl"
   ]
  },
  {
   "cell_type": "code",
   "outputs": [
    {
     "data": {
      "text/plain": "<torch._C.Generator at 0x7fd9ab886c50>"
     },
     "execution_count": 2,
     "metadata": {},
     "output_type": "execute_result"
    }
   ],
   "source": [
    "RANDOM_SEED = 123\n",
    "torch.manual_seed(RANDOM_SEED)"
   ],
   "metadata": {
    "collapsed": false,
    "ExecuteTime": {
     "end_time": "2024-04-15T13:34:06.556212154Z",
     "start_time": "2024-04-15T13:34:06.548628175Z"
    }
   },
   "id": "77b016a920782844",
   "execution_count": 2
  },
  {
   "cell_type": "code",
   "outputs": [],
   "source": [
    "device = torch.device('cuda') if torch.cuda.is_available() else torch.device('cpu')\n",
    "torch.set_float32_matmul_precision('medium')"
   ],
   "metadata": {
    "collapsed": false,
    "ExecuteTime": {
     "end_time": "2024-04-15T13:34:06.573656883Z",
     "start_time": "2024-04-15T13:34:06.555162848Z"
    }
   },
   "id": "1d9a0540a7f6c891",
   "execution_count": 3
  },
  {
   "cell_type": "code",
   "execution_count": 4,
   "outputs": [],
   "source": [
    "class ImagesDataModule(pl.LightningDataModule):\n",
    "    class FastDataset(Dataset):\n",
    "        def __init__(self, data, labels, num_classes):\n",
    "            self.dataset = data\n",
    "            self.labels = labels\n",
    "            self.number_classes = num_classes\n",
    "\n",
    "        def __len__(self):\n",
    "            return len(self.dataset)\n",
    "\n",
    "        def __getitem__(self, index):\n",
    "            return self.dataset[index], self.labels[index]\n",
    "\n",
    "    def __init__(self, path: str, transform: Callable[[Any], torch.Tensor], *, val_fraction: float,\n",
    "                 test_fraction: float, in_memory=False):\n",
    "        super().__init__()\n",
    "        assert 0 <= val_fraction + test_fraction <= 1\n",
    "        assert val_fraction * test_fraction >= 0\n",
    "\n",
    "        self.image_folder = ImageFolder(path, transform=transform)\n",
    "        self.dataset: ImagesDataModule.FastDataset | None = None\n",
    "        self._val_fraction = val_fraction\n",
    "        self._test_fraction = test_fraction\n",
    "        self._in_memory = in_memory\n",
    "\n",
    "        self._train = self._val = self._test = None\n",
    "\n",
    "    def prepare_data(self) -> None:\n",
    "        if self._in_memory:\n",
    "            loader = DataLoader(self.image_folder, batch_size=len(self.image_folder))\n",
    "            data = next(iter(loader))\n",
    "            dataset = ImagesDataModule.FastDataset(data[0], data[1], num_classes=len(self.image_folder.classes))\n",
    "        else:\n",
    "            dataset = self.image_folder\n",
    "\n",
    "        val_size = int(len(dataset) * self._val_fraction)\n",
    "        test_size = int(len(dataset) * self._test_fraction)\n",
    "        train_size = len(dataset) - val_size - test_size\n",
    "\n",
    "        self._train, self._val, self._test = torch.utils.data.random_split(dataset, [train_size, val_size, test_size])\n",
    "\n",
    "    def train_dataloader(self) -> TRAIN_DATALOADERS:\n",
    "        return DataLoader(self._train, batch_size=1536, shuffle=True, num_workers=8 if not self._in_memory else 0,\n",
    "                          pin_memory=True)\n",
    "\n",
    "    def val_dataloader(self) -> EVAL_DATALOADERS:\n",
    "        return DataLoader(self._val, batch_size=64, shuffle=False, num_workers=8 if not self._in_memory else 0,\n",
    "                          pin_memory=True)\n",
    "\n",
    "    def test_dataloader(self) -> EVAL_DATALOADERS:\n",
    "        return DataLoader(self._test, batch_size=64, shuffle=False, num_workers=8 if not self._in_memory else 0,\n",
    "                          pin_memory=True)"
   ],
   "metadata": {
    "collapsed": false,
    "ExecuteTime": {
     "end_time": "2024-04-15T13:34:06.611888924Z",
     "start_time": "2024-04-15T13:34:06.574933357Z"
    }
   },
   "id": "7f032492ee9524f7"
  },
  {
   "cell_type": "code",
   "outputs": [],
   "source": [
    "class ImageClassifier(pl.LightningModule):\n",
    "    def __init__(self, num_classes, lr, weight_decay, loss):\n",
    "        super().__init__()\n",
    "        self.conv1_1 = nn.Conv2d(3, 32, 9, padding=4)\n",
    "        self.conv1_2 = nn.Conv2d(32, 32, 9, padding=4)\n",
    "        self.bn1 = nn.BatchNorm2d(32)\n",
    "        self.pool1 = nn.MaxPool2d(3, 3)\n",
    "        self.act1 = nn.ReLU()\n",
    "        self.conv2_1 = nn.Conv2d(32, 64, 7, padding=3)\n",
    "        self.conv2_2 = nn.Conv2d(64, 64, 7, padding=3)\n",
    "        self.bn2 = nn.BatchNorm2d(64)\n",
    "        self.pool2 = nn.MaxPool2d(2, 2)\n",
    "        self.act2 = nn.ReLU()\n",
    "        self.conv3 = nn.Conv2d(64, 128, 5, padding=2)\n",
    "        self.bn3 = nn.BatchNorm2d(128)\n",
    "        self.pool3 = nn.MaxPool2d(2, 2)\n",
    "        self.act3 = nn.ReLU()\n",
    "        self.conv4 = nn.Conv2d(128, 256, 3, padding=1)\n",
    "        self.bn4 = nn.BatchNorm2d(256)\n",
    "        self.pool4 = nn.MaxPool2d(2, 2)\n",
    "        self.act4 = nn.ReLU()\n",
    "        self.flatten = nn.Flatten()\n",
    "        self.dropout1 = nn.Dropout(0.2)\n",
    "        self.fc1 = nn.Linear(1024, 1024)\n",
    "        self.act5 = nn.ReLU()\n",
    "        self.bn5 = nn.BatchNorm1d(1024)\n",
    "        self.dropout2 = nn.Dropout(0.2)\n",
    "        self.fc2 = nn.Linear(1024, 512)\n",
    "        self.act6 = nn.ReLU()\n",
    "        self.fc3 = nn.Linear(512, num_classes)\n",
    "\n",
    "        self._accuracy = torchmetrics.classification.MulticlassAccuracy(num_classes=num_classes)\n",
    "\n",
    "        self.example_input_array = torch.rand((16, 3, 64, 64)).to(device)\n",
    "\n",
    "        self._lr = lr\n",
    "        self._weight_decay = weight_decay\n",
    "        self._loss = loss\n",
    "        \n",
    "        self._val_preds: list | None = None\n",
    "        self._test_preds: list | None = None\n",
    "\n",
    "    def forward(self, x: torch.Tensor):\n",
    "        x = self.act1(self.pool1(self.bn1(self.conv1_2(self.conv1_1(x)))))\n",
    "        x = self.act2(self.pool2(self.bn2(self.conv2_2(self.conv2_1(x)))))\n",
    "        x = self.act3(self.pool3(self.bn3(self.conv3(x))))\n",
    "        x = self.act4(self.pool4(self.bn4(self.conv4(x))))\n",
    "        x = self.flatten(x)\n",
    "        x = self.dropout1(x)\n",
    "        x = self.act5(self.fc1(x))\n",
    "        x = self.bn5(x)\n",
    "        x = self.dropout2(x)\n",
    "        x = self.act6(self.fc2(x))\n",
    "        x = self.fc3(x)\n",
    "        return x\n",
    "\n",
    "    def configure_optimizers(self):\n",
    "        optimizer = torch.optim.Adam(self.parameters(), lr=0.001, weight_decay=0.001)\n",
    "        return optimizer\n",
    "\n",
    "    def on_train_start(self) -> None:\n",
    "        self.logger.experiment.add_graph(self, self.example_input_array)\n",
    "        \n",
    "    def training_step(self, batch, batch_idx):\n",
    "        assert self.training\n",
    "        images, labels = batch\n",
    "        out = self.forward(images)\n",
    "        loss = self._loss(out, labels)\n",
    "        self.log('train_loss', loss, on_step=False, on_epoch=True)\n",
    "        return loss\n",
    "    \n",
    "    def on_validation_epoch_start(self) -> None:\n",
    "        self._val_preds = []\n",
    "\n",
    "    def validation_step(self, batch, batch_idx):\n",
    "        assert not self.training\n",
    "        images, labels = batch\n",
    "        out = self.forward(images)\n",
    "        loss = self._loss(out, labels)\n",
    "        self.log('val_loss', loss, on_step=False, on_epoch=True)\n",
    "        out = self.forward(images)\n",
    "        preds = torch.argmax(out, dim=1)\n",
    "        \n",
    "        self._val_preds.append((preds, labels))\n",
    "\n",
    "        return loss\n",
    "    \n",
    "    def on_validation_epoch_end(self) -> None:\n",
    "        preds, labels = zip(*self._val_preds)\n",
    "        acc = self._accuracy(torch.cat(preds), torch.cat(labels))\n",
    "        self.log('val_accuracy', acc)\n",
    "    \n",
    "    def on_test_epoch_start(self) -> None:\n",
    "        self._test_preds = []\n",
    "\n",
    "    def test_step(self, batch, batch_idx):\n",
    "        assert not self.training\n",
    "        images, labels = batch\n",
    "        out = self.forward(images)\n",
    "        preds = torch.argmax(out, dim=1)\n",
    "        loss = self._loss(out, labels)\n",
    "        self.log('test_loss', loss, on_step=False, on_epoch=True)\n",
    "\n",
    "        self.logger.log_hyperparams(\n",
    "            {\n",
    "                'lr': self._lr,\n",
    "                'weight_decay': self._weight_decay,\n",
    "                'loss': str(self._loss)\n",
    "            }\n",
    "        )\n",
    "        \n",
    "        self._test_preds.append((preds, labels))\n",
    "        \n",
    "        return loss\n",
    "        \n",
    "    def on_test_epoch_end(self) -> None:\n",
    "        preds, labels = zip(*self._test_preds)\n",
    "        acc = self._accuracy(torch.cat(preds), torch.cat(labels))\n",
    "        self.log('test_accuracy', acc)\n"
   ],
   "metadata": {
    "collapsed": false,
    "ExecuteTime": {
     "end_time": "2024-04-15T13:34:06.645253447Z",
     "start_time": "2024-04-15T13:34:06.584030823Z"
    }
   },
   "id": "80e5674c2e730b66",
   "execution_count": 5
  },
  {
   "cell_type": "code",
   "execution_count": 6,
   "outputs": [],
   "source": [
    "transform = transforms.Compose([\n",
    "    transforms.RandAugment(),\n",
    "    transforms.ToTensor(),\n",
    "    transforms.Normalize((0.5, 0.5, 0.5,), (0.5, 0.5, 0.5)),\n",
    "])\n",
    "\n",
    "dm = ImagesDataModule('data/train', transform, val_fraction=0.1, test_fraction=0.1)"
   ],
   "metadata": {
    "collapsed": false,
    "ExecuteTime": {
     "end_time": "2024-04-15T13:34:06.734165495Z",
     "start_time": "2024-04-15T13:34:06.632767122Z"
    }
   },
   "id": "7929f31ac1708650"
  },
  {
   "cell_type": "code",
   "outputs": [
    {
     "name": "stderr",
     "output_type": "stream",
     "text": [
      "GPU available: True (cuda), used: True\n",
      "TPU available: False, using: 0 TPU cores\n",
      "IPU available: False, using: 0 IPUs\n",
      "HPU available: False, using: 0 HPUs\n",
      "LOCAL_RANK: 0 - CUDA_VISIBLE_DEVICES: [0]\n",
      "\n",
      "   | Name      | Type               | Params | In sizes          | Out sizes        \n",
      "------------------------------------------------------------------------------------------\n",
      "0  | conv1_1   | Conv2d             | 7.8 K  | [16, 3, 64, 64]   | [16, 32, 64, 64] \n",
      "1  | conv1_2   | Conv2d             | 83.0 K | [16, 32, 64, 64]  | [16, 32, 64, 64] \n",
      "2  | bn1       | BatchNorm2d        | 64     | [16, 32, 64, 64]  | [16, 32, 64, 64] \n",
      "3  | pool1     | MaxPool2d          | 0      | [16, 32, 64, 64]  | [16, 32, 21, 21] \n",
      "4  | act1      | ReLU               | 0      | [16, 32, 21, 21]  | [16, 32, 21, 21] \n",
      "5  | conv2_1   | Conv2d             | 100 K  | [16, 32, 21, 21]  | [16, 64, 21, 21] \n",
      "6  | conv2_2   | Conv2d             | 200 K  | [16, 64, 21, 21]  | [16, 64, 21, 21] \n",
      "7  | bn2       | BatchNorm2d        | 128    | [16, 64, 21, 21]  | [16, 64, 21, 21] \n",
      "8  | pool2     | MaxPool2d          | 0      | [16, 64, 21, 21]  | [16, 64, 10, 10] \n",
      "9  | act2      | ReLU               | 0      | [16, 64, 10, 10]  | [16, 64, 10, 10] \n",
      "10 | conv3     | Conv2d             | 204 K  | [16, 64, 10, 10]  | [16, 128, 10, 10]\n",
      "11 | bn3       | BatchNorm2d        | 256    | [16, 128, 10, 10] | [16, 128, 10, 10]\n",
      "12 | pool3     | MaxPool2d          | 0      | [16, 128, 10, 10] | [16, 128, 5, 5]  \n",
      "13 | act3      | ReLU               | 0      | [16, 128, 5, 5]   | [16, 128, 5, 5]  \n",
      "14 | conv4     | Conv2d             | 295 K  | [16, 128, 5, 5]   | [16, 256, 5, 5]  \n",
      "15 | bn4       | BatchNorm2d        | 512    | [16, 256, 5, 5]   | [16, 256, 5, 5]  \n",
      "16 | pool4     | MaxPool2d          | 0      | [16, 256, 5, 5]   | [16, 256, 2, 2]  \n",
      "17 | act4      | ReLU               | 0      | [16, 256, 2, 2]   | [16, 256, 2, 2]  \n",
      "18 | flatten   | Flatten            | 0      | [16, 256, 2, 2]   | [16, 1024]       \n",
      "19 | dropout1  | Dropout            | 0      | [16, 1024]        | [16, 1024]       \n",
      "20 | fc1       | Linear             | 1.0 M  | [16, 1024]        | [16, 1024]       \n",
      "21 | act5      | ReLU               | 0      | [16, 1024]        | [16, 1024]       \n",
      "22 | bn5       | BatchNorm1d        | 2.0 K  | [16, 1024]        | [16, 1024]       \n",
      "23 | dropout2  | Dropout            | 0      | [16, 1024]        | [16, 1024]       \n",
      "24 | fc2       | Linear             | 524 K  | [16, 1024]        | [16, 512]        \n",
      "25 | act6      | ReLU               | 0      | [16, 512]         | [16, 512]        \n",
      "26 | fc3       | Linear             | 25.7 K | [16, 512]         | [16, 50]         \n",
      "27 | _accuracy | MulticlassAccuracy | 0      | ?                 | ?                \n",
      "28 | _loss     | CrossEntropyLoss   | 0      | ?                 | ?                \n",
      "------------------------------------------------------------------------------------------\n",
      "2.5 M     Trainable params\n",
      "0         Non-trainable params\n",
      "2.5 M     Total params\n",
      "9.980     Total estimated model params size (MB)\n"
     ]
    },
    {
     "data": {
      "text/plain": "Sanity Checking: 0it [00:00, ?it/s]",
      "application/vnd.jupyter.widget-view+json": {
       "version_major": 2,
       "version_minor": 0,
       "model_id": "6fcb211d312745ffb0303f286b60a81b"
      }
     },
     "metadata": {},
     "output_type": "display_data"
    },
    {
     "name": "stderr",
     "output_type": "stream",
     "text": [
      "/home/tomek/miniconda3/envs/ssne_p3/lib/python3.11/site-packages/pytorch_lightning/loops/fit_loop.py:280: PossibleUserWarning: The number of training batches (46) is smaller than the logging interval Trainer(log_every_n_steps=50). Set a lower value for log_every_n_steps if you want to see logs for the training epoch.\n",
      "  rank_zero_warn(\n"
     ]
    },
    {
     "data": {
      "text/plain": "Training: 0it [00:00, ?it/s]",
      "application/vnd.jupyter.widget-view+json": {
       "version_major": 2,
       "version_minor": 0,
       "model_id": "ff44abe4aa0e42268da51cf4734abef6"
      }
     },
     "metadata": {},
     "output_type": "display_data"
    },
    {
     "data": {
      "text/plain": "Validation: 0it [00:00, ?it/s]",
      "application/vnd.jupyter.widget-view+json": {
       "version_major": 2,
       "version_minor": 0,
       "model_id": "a57329d530514b709e9e86c95db5936e"
      }
     },
     "metadata": {},
     "output_type": "display_data"
    },
    {
     "data": {
      "text/plain": "Validation: 0it [00:00, ?it/s]",
      "application/vnd.jupyter.widget-view+json": {
       "version_major": 2,
       "version_minor": 0,
       "model_id": "e3fa7a554a014803a0f9edcce8501eae"
      }
     },
     "metadata": {},
     "output_type": "display_data"
    },
    {
     "data": {
      "text/plain": "Validation: 0it [00:00, ?it/s]",
      "application/vnd.jupyter.widget-view+json": {
       "version_major": 2,
       "version_minor": 0,
       "model_id": "fcdae1a8139544abbdc64d53851a9aff"
      }
     },
     "metadata": {},
     "output_type": "display_data"
    },
    {
     "data": {
      "text/plain": "Validation: 0it [00:00, ?it/s]",
      "application/vnd.jupyter.widget-view+json": {
       "version_major": 2,
       "version_minor": 0,
       "model_id": "49bed903dbef4d1babe2e01ff20058f8"
      }
     },
     "metadata": {},
     "output_type": "display_data"
    },
    {
     "data": {
      "text/plain": "Validation: 0it [00:00, ?it/s]",
      "application/vnd.jupyter.widget-view+json": {
       "version_major": 2,
       "version_minor": 0,
       "model_id": "a8647af695a34b4aa996a4a4905d92bf"
      }
     },
     "metadata": {},
     "output_type": "display_data"
    },
    {
     "data": {
      "text/plain": "Validation: 0it [00:00, ?it/s]",
      "application/vnd.jupyter.widget-view+json": {
       "version_major": 2,
       "version_minor": 0,
       "model_id": "114c9e99173a43c7b6b7fc8bf740c145"
      }
     },
     "metadata": {},
     "output_type": "display_data"
    },
    {
     "data": {
      "text/plain": "Validation: 0it [00:00, ?it/s]",
      "application/vnd.jupyter.widget-view+json": {
       "version_major": 2,
       "version_minor": 0,
       "model_id": "d69f1e8714ca4009b14b4c1e0afeaa98"
      }
     },
     "metadata": {},
     "output_type": "display_data"
    },
    {
     "data": {
      "text/plain": "Validation: 0it [00:00, ?it/s]",
      "application/vnd.jupyter.widget-view+json": {
       "version_major": 2,
       "version_minor": 0,
       "model_id": "211c5bf37b094e8eafccd716eb3d6d73"
      }
     },
     "metadata": {},
     "output_type": "display_data"
    },
    {
     "data": {
      "text/plain": "Validation: 0it [00:00, ?it/s]",
      "application/vnd.jupyter.widget-view+json": {
       "version_major": 2,
       "version_minor": 0,
       "model_id": "d143386fdc6f4dc7b89fafd4bfe4d72c"
      }
     },
     "metadata": {},
     "output_type": "display_data"
    },
    {
     "data": {
      "text/plain": "Validation: 0it [00:00, ?it/s]",
      "application/vnd.jupyter.widget-view+json": {
       "version_major": 2,
       "version_minor": 0,
       "model_id": "45f91bccb9084547bc7db6c14e16b2c6"
      }
     },
     "metadata": {},
     "output_type": "display_data"
    },
    {
     "data": {
      "text/plain": "Validation: 0it [00:00, ?it/s]",
      "application/vnd.jupyter.widget-view+json": {
       "version_major": 2,
       "version_minor": 0,
       "model_id": "55b48060618347788dc6ff8a01610a32"
      }
     },
     "metadata": {},
     "output_type": "display_data"
    },
    {
     "data": {
      "text/plain": "Validation: 0it [00:00, ?it/s]",
      "application/vnd.jupyter.widget-view+json": {
       "version_major": 2,
       "version_minor": 0,
       "model_id": "1455927df7fb4e309a7c8270c3e0c492"
      }
     },
     "metadata": {},
     "output_type": "display_data"
    },
    {
     "data": {
      "text/plain": "Validation: 0it [00:00, ?it/s]",
      "application/vnd.jupyter.widget-view+json": {
       "version_major": 2,
       "version_minor": 0,
       "model_id": "caa8544d84fe427ca21d9e01116fc645"
      }
     },
     "metadata": {},
     "output_type": "display_data"
    },
    {
     "data": {
      "text/plain": "Validation: 0it [00:00, ?it/s]",
      "application/vnd.jupyter.widget-view+json": {
       "version_major": 2,
       "version_minor": 0,
       "model_id": "b791ae64775c44fe8e36a07a452db486"
      }
     },
     "metadata": {},
     "output_type": "display_data"
    },
    {
     "data": {
      "text/plain": "Validation: 0it [00:00, ?it/s]",
      "application/vnd.jupyter.widget-view+json": {
       "version_major": 2,
       "version_minor": 0,
       "model_id": "9d3e33f0f2af4d51bea5e349343c885e"
      }
     },
     "metadata": {},
     "output_type": "display_data"
    },
    {
     "data": {
      "text/plain": "Validation: 0it [00:00, ?it/s]",
      "application/vnd.jupyter.widget-view+json": {
       "version_major": 2,
       "version_minor": 0,
       "model_id": "26e5816236074347ad3e4ba6e693fcc3"
      }
     },
     "metadata": {},
     "output_type": "display_data"
    },
    {
     "data": {
      "text/plain": "Validation: 0it [00:00, ?it/s]",
      "application/vnd.jupyter.widget-view+json": {
       "version_major": 2,
       "version_minor": 0,
       "model_id": "983a3830ca5b47018c38e9000c765470"
      }
     },
     "metadata": {},
     "output_type": "display_data"
    },
    {
     "data": {
      "text/plain": "Validation: 0it [00:00, ?it/s]",
      "application/vnd.jupyter.widget-view+json": {
       "version_major": 2,
       "version_minor": 0,
       "model_id": "9b21d0eb0f6e493cab6863e833cfba79"
      }
     },
     "metadata": {},
     "output_type": "display_data"
    },
    {
     "name": "stderr",
     "output_type": "stream",
     "text": [
      "/home/tomek/miniconda3/envs/ssne_p3/lib/python3.11/site-packages/pytorch_lightning/trainer/call.py:52: UserWarning: Detected KeyboardInterrupt, attempting graceful shutdown...\n",
      "  rank_zero_warn(\"Detected KeyboardInterrupt, attempting graceful shutdown...\")\n"
     ]
    }
   ],
   "source": [
    "model = ImageClassifier(num_classes=len(dm.image_folder.classes), lr=1e-3, weight_decay=1e-4,\n",
    "                        loss=torch.nn.CrossEntropyLoss().to(device))\n",
    "\n",
    "checkpoint_callback = ModelCheckpoint(\n",
    "    save_top_k=10,\n",
    "    monitor=\"val_loss\",\n",
    "    mode=\"min\",\n",
    "    filename=\"checkpoint-{epoch:02d}-{val_loss:.2f}\",\n",
    ")\n",
    "\n",
    "trainer = pl.Trainer(max_epochs=40, callbacks=[checkpoint_callback])\n",
    "trainer.fit(model, datamodule=dm)"
   ],
   "metadata": {
    "collapsed": false,
    "ExecuteTime": {
     "end_time": "2024-04-15T13:58:39.474787060Z",
     "start_time": "2024-04-15T13:34:06.737001014Z"
    }
   },
   "id": "8363a94cb514b7fc",
   "execution_count": 7
  },
  {
   "cell_type": "code",
   "execution_count": null,
   "outputs": [],
   "source": [
    "trainer.test(model, datamodule=dm)"
   ],
   "metadata": {
    "collapsed": false,
    "is_executing": true,
    "ExecuteTime": {
     "start_time": "2024-04-15T13:58:39.484193977Z"
    }
   },
   "id": "701c6f4ebbe0b436"
  },
  {
   "cell_type": "code",
   "outputs": [],
   "source": [
    "%load_ext tensorboard\n",
    "%tensorboard --logdir=lightning_logs"
   ],
   "metadata": {
    "collapsed": false,
    "is_executing": true
   },
   "id": "dc68e08a15db7e72",
   "execution_count": null
  },
  {
   "cell_type": "code",
   "execution_count": null,
   "outputs": [],
   "source": [
    "acc = torchmetrics.classification.MulticlassAccuracy(num_classes=50)\n",
    "model.eval()"
   ],
   "metadata": {
    "collapsed": false,
    "is_executing": true
   },
   "id": "e4e4e999c0a11f81"
  },
  {
   "cell_type": "code",
   "execution_count": null,
   "outputs": [],
   "source": [
    "# sanity check\n",
    "\n",
    "with torch.no_grad():\n",
    "    test_dl = dm.test_dataloader()\n",
    "    test_res = [(torch.argmax(model.forward(x), dim=1), y) for x, y in test_dl]\n",
    "    test_preds, test_labels = zip(*test_res)\n",
    "    print(acc(torch.cat(test_preds), torch.cat(test_labels)))"
   ],
   "metadata": {
    "collapsed": false,
    "is_executing": true
   },
   "id": "a3ad5d11906cdaad"
  },
  {
   "cell_type": "code",
   "execution_count": null,
   "outputs": [],
   "source": [
    "# sanity check\n",
    "\n",
    "with torch.no_grad():\n",
    "    val_dl = dm.val_dataloader()\n",
    "    val_res = [(torch.argmax(model.forward(x), dim=1), y) for x, y in val_dl]\n",
    "    val_preds, val_labels = zip(*val_res)\n",
    "    print(acc(torch.cat(val_preds), torch.cat(val_labels)))"
   ],
   "metadata": {
    "collapsed": false,
    "is_executing": true
   },
   "id": "389ad21c0290b6e5"
  },
  {
   "cell_type": "markdown",
   "source": [
    "### Predict on test data"
   ],
   "metadata": {
    "collapsed": false
   },
   "id": "9b5fab3f443b283"
  },
  {
   "cell_type": "code",
   "execution_count": null,
   "outputs": [],
   "source": [
    "full_dm = ImagesDataModule('data/train', transform=transform, val_fraction=0., test_fraction=0.)\n",
    "final_model = ImageClassifier(num_classes=len(full_dm.image_folder.classes), lr=1e-3, weight_decay=1e-4,\n",
    "                        loss=torch.nn.CrossEntropyLoss().to(device))\n",
    "final_trainer = pl.Trainer(max_epochs=250, enable_checkpointing=False)\n",
    "final_trainer.fit(final_model, datamodule=full_dm)"
   ],
   "metadata": {
    "collapsed": false
   },
   "id": "ba88e45107c96978"
  },
  {
   "cell_type": "code",
   "execution_count": null,
   "outputs": [],
   "source": [
    "class TestDataset(Dataset):\n",
    "    def __init__(self, path, num_classes, transform):\n",
    "        self.img_paths = [f\"{path}/{file}\" for file in os.listdir(path)]\n",
    "        self.number_classes = num_classes\n",
    "        self.transform = transform\n",
    "\n",
    "    def __len__(self):\n",
    "        return len(self.img_paths)\n",
    "\n",
    "    def __getitem__(self, index):\n",
    "        return (self.img_paths[index], self.transform(PIL.Image.open(self.img_paths[index]).convert('RGB'))), torch.tensor(0)\n",
    "    \n",
    "    \n",
    "test_dataset = TestDataset('data/test_all', num_classes=50, transform=transforms.Compose([\n",
    "    transforms.ToTensor(),\n",
    "    transforms.Normalize((0.5, 0.5, 0.5,), (0.5, 0.5, 0.5)),\n",
    "]))\n",
    "\n",
    "test_dataloader = DataLoader(test_dataset, batch_size=1, shuffle=False, num_workers=1, pin_memory=True)\n",
    "\n",
    "final_model.eval()\n",
    "with torch.no_grad():\n",
    "    preds = pd.DataFrame([(path[0].split('/')[-1], int(final_model(x).argmax(axis=1))) for (path, x), _ in test_dataloader])\n",
    "preds.to_csv('owienko_schafer.csv', header=None, index=None)\n",
    "print(preds)"
   ],
   "metadata": {
    "collapsed": false
   },
   "id": "864a62931249aa04"
  },
  {
   "cell_type": "code",
   "execution_count": null,
   "outputs": [],
   "source": [],
   "metadata": {
    "collapsed": false
   },
   "id": "28bd250749d5419b"
  }
 ],
 "metadata": {
  "kernelspec": {
   "display_name": "Python 3",
   "language": "python",
   "name": "python3"
  },
  "language_info": {
   "codemirror_mode": {
    "name": "ipython",
    "version": 2
   },
   "file_extension": ".py",
   "mimetype": "text/x-python",
   "name": "python",
   "nbconvert_exporter": "python",
   "pygments_lexer": "ipython2",
   "version": "2.7.6"
  }
 },
 "nbformat": 4,
 "nbformat_minor": 5
}
