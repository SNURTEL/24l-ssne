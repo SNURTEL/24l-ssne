{
 "cells": [
  {
   "cell_type": "code",
   "execution_count": 1,
   "id": "initial_id",
   "metadata": {
    "collapsed": true,
    "ExecuteTime": {
     "end_time": "2024-04-12T09:31:20.832660438Z",
     "start_time": "2024-04-12T09:31:18.654792612Z"
    }
   },
   "outputs": [],
   "source": [
    "import torch\n",
    "from torch import nn\n",
    "import torchvision\n",
    "from torchvision.datasets import ImageFolder\n",
    "import pytorch_lightning as pl"
   ]
  },
  {
   "cell_type": "code",
   "execution_count": 7,
   "outputs": [
    {
     "name": "stdout",
     "output_type": "stream",
     "text": [
      "88011 images:\n",
      " [('./data/train/acoustic/n02824448_10046.JPEG', 0), ('./data/train/acoustic/n02824448_10072.JPEG', 0), ('./data/train/acoustic/n02824448_10099.JPEG', 0), ('./data/train/acoustic/n02824448_10110.JPEG', 0), ('./data/train/acoustic/n02824448_10112.JPEG', 0), ('./data/train/acoustic/n02824448_10166.JPEG', 0), ('./data/train/acoustic/n02824448_10198.JPEG', 0), ('./data/train/acoustic/n02824448_10205.JPEG', 0), ('./data/train/acoustic/n02824448_10269.JPEG', 0), ('./data/train/acoustic/n02824448_10291.JPEG', 0), ('./data/train/acoustic/n02824448_10310.JPEG', 0), ('./data/train/acoustic/n02824448_10323.JPEG', 0), ('./data/train/acoustic/n02824448_10325.JPEG', 0), ('./data/train/acoustic/n02824448_1035.JPEG', 0), ('./data/train/acoustic/n02824448_10375.JPEG', 0), ('./data/train/acoustic/n02824448_10404.JPEG', 0), ('./data/train/acoustic/n02824448_10422.JPEG', 0), ('./data/train/acoustic/n02824448_10445.JPEG', 0), ('./data/train/acoustic/n02824448_10461.JPEG', 0), ('./data/train/acoustic/n02824448_10469.JPEG', 0)]\n",
      "50 classes:\n",
      " ['acoustic', 'antenna', 'bacteria', 'battery', 'bean', 'beetle', 'bicycle', 'birch', 'bird', 'bomb', 'bread', 'bridge', 'camera', 'carbon', 'cat', 'corn', 'crab', 'crocodilian', 'echinoderm', 'egg', 'elephant', 'fish', 'flower', 'frog', 'fungus', 'gauge', 'hammer', 'icecream', 'kangaroo', 'memorial', 'monkey', 'motor', 'nest', 'palm', 'pizza', 'pot', 'printer', 'saw', 'snake', 'spice', 'spider', 'spoon', 'squash', 'swine', 'tea', 'tomato', 'towel', 'truck', 'turtle', 'worm']\n"
     ]
    }
   ],
   "source": [
    "dataset = ImageFolder(\"./data/train\")\n",
    "print(f\"{len(dataset.imgs)} images:\\n\", dataset.imgs[:20])\n",
    "print(f\"{len(dataset.classes)} classes:\\n\", dataset.classes)"
   ],
   "metadata": {
    "collapsed": false,
    "ExecuteTime": {
     "end_time": "2024-04-12T09:32:42.966367246Z",
     "start_time": "2024-04-12T09:32:42.831324953Z"
    }
   },
   "id": "47a651f9ff735e82"
  },
  {
   "cell_type": "code",
   "execution_count": 2,
   "outputs": [],
   "source": [],
   "metadata": {
    "collapsed": false,
    "ExecuteTime": {
     "end_time": "2024-04-12T09:31:21.052109636Z",
     "start_time": "2024-04-12T09:31:21.050951930Z"
    }
   },
   "id": "6b65f8d6030bd3b0"
  }
 ],
 "metadata": {
  "kernelspec": {
   "display_name": "Python 3",
   "language": "python",
   "name": "python3"
  },
  "language_info": {
   "codemirror_mode": {
    "name": "ipython",
    "version": 2
   },
   "file_extension": ".py",
   "mimetype": "text/x-python",
   "name": "python",
   "nbconvert_exporter": "python",
   "pygments_lexer": "ipython2",
   "version": "2.7.6"
  }
 },
 "nbformat": 4,
 "nbformat_minor": 5
}
