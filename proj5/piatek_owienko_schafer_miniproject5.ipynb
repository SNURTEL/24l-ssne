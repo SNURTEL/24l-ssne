{
 "nbformat": 4,
 "nbformat_minor": 0,
 "metadata": {
  "colab": {
   "provenance": [],
   "collapsed_sections": [
    "g6VO-fNxrWh5"
   ],
   "machine_shape": "hm"
  },
  "kernelspec": {
   "name": "python3",
   "display_name": "Python 3"
  },
  "language_info": {
   "name": "python"
  },
  "accelerator": "GPU",
  "gpuClass": "standard"
 },
 "cells": [
  {
   "cell_type": "markdown",
   "source": [
    "# SSNE Miniproject 5\n",
    "### 318703 Tomasz Owienko\n",
    "### 318718 Anna Schäfer\n",
    "### Grupa piątek"
   ],
   "metadata": {
    "id": "bWqIz6BsrIZU"
   }
  },
  {
   "cell_type": "code",
   "source": [
    "import torch\n",
    "import torch.nn as nn\n",
    "import torch.nn.functional as F\n",
    "import numpy as np\n",
    "import pandas as pd\n",
    "import pickle\n",
    "from torch.utils.data import DataLoader, Dataset, random_split\n",
    "import pytorch_lightning as pl\n",
    "from pytorch_lightning.callbacks import ModelCheckpoint\n",
    "import matplotlib.pyplot as plt"
   ],
   "metadata": {
    "id": "-RiHHnHEi7Vc",
    "ExecuteTime": {
     "end_time": "2024-05-24T13:36:26.686550Z",
     "start_time": "2024-05-24T13:36:26.674037Z"
    }
   },
   "execution_count": 123,
   "outputs": []
  },
  {
   "cell_type": "code",
   "source": [
    "RANDOM_SEED = 123\n",
    "pl.seed_everything(RANDOM_SEED)"
   ],
   "metadata": {
    "id": "dF7Jzby3i-I6",
    "ExecuteTime": {
     "end_time": "2024-05-24T13:36:26.708054800Z",
     "start_time": "2024-05-24T13:36:26.688788400Z"
    }
   },
   "execution_count": 124,
   "outputs": [
    {
     "name": "stderr",
     "output_type": "stream",
     "text": [
      "Seed set to 123\n"
     ]
    },
    {
     "data": {
      "text/plain": "123"
     },
     "execution_count": 124,
     "metadata": {},
     "output_type": "execute_result"
    }
   ]
  },
  {
   "cell_type": "code",
   "source": [
    "device = torch.device(\"cuda\")"
   ],
   "metadata": {
    "id": "-BCkcrW5i9kE",
    "ExecuteTime": {
     "end_time": "2024-05-24T13:36:26.708054800Z",
     "start_time": "2024-05-24T13:36:26.695373900Z"
    }
   },
   "execution_count": 125,
   "outputs": []
  },
  {
   "cell_type": "code",
   "source": [
    "VALIDATION_PERCENTAGE = 0.10\n",
    "batch_size = 8\n",
    "TRAIN_PATH = \"data/train.pkl\"\n",
    "TEST_PATH = \"data/test_no_target.pkl\""
   ],
   "metadata": {
    "id": "sg6Nh9CXXT4U",
    "ExecuteTime": {
     "end_time": "2024-05-24T13:36:26.718269200Z",
     "start_time": "2024-05-24T13:36:26.711246300Z"
    }
   },
   "execution_count": 126,
   "outputs": []
  },
  {
   "cell_type": "code",
   "outputs": [],
   "source": [
    "class VariableLenDataset(Dataset):\n",
    "    def __init__(self, in_data, target):\n",
    "        self.data = [(x, y) for x, y in zip(in_data, target)]\n",
    "    \n",
    "    def __len__(self):\n",
    "        return len(self.data)\n",
    "    \n",
    "    def __getitem__(self, idx):\n",
    "        in_data, target = self.data[idx]\n",
    "        return in_data, target"
   ],
   "metadata": {
    "collapsed": false,
    "ExecuteTime": {
     "end_time": "2024-05-24T13:36:26.735971500Z",
     "start_time": "2024-05-24T13:36:26.712797500Z"
    }
   },
   "execution_count": 127
  },
  {
   "cell_type": "code",
   "outputs": [],
   "source": [
    "def pad_collate(batch):\n",
    "    (xx, yy) = zip(*batch)\n",
    "    xx_pad = nn.utils.rnn.pad_sequence(xx, batch_first=True, padding_value=0)\n",
    "    xx_pad = xx_pad.unsqueeze(-1)\n",
    "    return xx_pad, torch.tensor(yy, dtype=torch.long)"
   ],
   "metadata": {
    "collapsed": false,
    "ExecuteTime": {
     "end_time": "2024-05-24T13:36:26.737002200Z",
     "start_time": "2024-05-24T13:36:26.720360600Z"
    }
   },
   "execution_count": 128
  },
  {
   "cell_type": "code",
   "execution_count": 129,
   "metadata": {
    "id": "6lhaFNeLhusm",
    "ExecuteTime": {
     "end_time": "2024-05-24T13:36:26.763751700Z",
     "start_time": "2024-05-24T13:36:26.727553700Z"
    }
   },
   "outputs": [],
   "source": [
    "with open(TRAIN_PATH, 'rb') as f:\n",
    "    train = pickle.load(f)\n",
    "\n",
    "train_data = [[torch.from_numpy(t[0].astype(int)).float(), int(t[1])] for t in train]"
   ]
  },
  {
   "cell_type": "code",
   "source": [
    "dataset_length = len(train_data)\n",
    "val_size = int(dataset_length * VALIDATION_PERCENTAGE)\n",
    "train_size = dataset_length - val_size\n",
    "train_subset, val_subset = random_split(train_data, [train_size, val_size])\n",
    "\n",
    "train_dataset = VariableLenDataset([x[0] for x in train_subset], [x[1] for x in train_subset])\n",
    "val_dataset = VariableLenDataset([x[0] for x in val_subset], [x[1] for x in val_subset])\n",
    "\n",
    "train_loader = DataLoader(train_dataset, batch_size=batch_size, shuffle=True, collate_fn=pad_collate)\n",
    "val_loader = DataLoader(val_dataset, batch_size=batch_size, shuffle=False, collate_fn=pad_collate)"
   ],
   "metadata": {
    "id": "7eNmQAg1i7Yr",
    "ExecuteTime": {
     "end_time": "2024-05-24T13:36:26.769164700Z",
     "start_time": "2024-05-24T13:36:26.761749800Z"
    }
   },
   "execution_count": 130,
   "outputs": []
  },
  {
   "cell_type": "code",
   "source": [
    "class LSTMClassifier(pl.LightningModule):\n",
    "    def __init__(self, input_size, hidden_size, output_size, num_layers=1):\n",
    "        super(LSTMClassifier, self).__init__()\n",
    "        self.lstm = nn.LSTM(input_size, hidden_size, num_layers, batch_first=True)\n",
    "        self.fc = nn.Linear(hidden_size, output_size)\n",
    "        self.hidden_size = hidden_size\n",
    "        self.num_layers = num_layers\n",
    "        self.criterion = nn.CrossEntropyLoss()\n",
    "\n",
    "    def forward(self, x):\n",
    "        # Initialize hidden state with correct dimensions\n",
    "        h0 = torch.zeros(self.num_layers, x.size(0), self.hidden_size).to(x.device)\n",
    "        c0 = torch.zeros(self.num_layers, x.size(0), self.hidden_size).to(x.device)\n",
    "        out, (hn, cn) = self.lstm(x, (h0, c0))\n",
    "        out = self.fc(out[:, -1, :])\n",
    "        return out\n",
    "\n",
    "    def training_step(self, batch, batch_idx):\n",
    "        x, y = batch\n",
    "        outputs = self(x)\n",
    "        loss = self.criterion(outputs, y)\n",
    "        acc = (outputs.argmax(dim=1) == y).float().mean()\n",
    "        self.log('train_loss', loss, prog_bar=True)\n",
    "        self.log('train_acc', acc, prog_bar=True)\n",
    "        return loss\n",
    "\n",
    "    def validation_step(self, batch, batch_idx):\n",
    "        x, y = batch\n",
    "        outputs = self(x)\n",
    "        loss = self.criterion(outputs, y)\n",
    "        acc = (outputs.argmax(dim=1) == y).float().mean()\n",
    "        self.log('val_loss', loss, prog_bar=True)\n",
    "        self.log('val_acc', acc, prog_bar=True)\n",
    "        return loss\n",
    "\n",
    "    def configure_optimizers(self):\n",
    "        return torch.optim.Adam(self.parameters(), lr=0.001)"
   ],
   "metadata": {
    "colab": {
     "base_uri": "https://localhost:8080/",
     "height": 0
    },
    "id": "ZUP8rCvCo716",
    "outputId": "537bd539-e2a7-4154-d94f-d2f2d87951b8",
    "ExecuteTime": {
     "end_time": "2024-05-24T13:36:26.778093200Z",
     "start_time": "2024-05-24T13:36:26.770165500Z"
    }
   },
   "execution_count": 131,
   "outputs": []
  },
  {
   "cell_type": "code",
   "source": [
    "input_size = train_data[0][0].shape[1] if len(train_data[0][0].shape) > 1 else 1\n",
    "hidden_size = 128\n",
    "output_size = len(set(x[1] for x in train_data))\n",
    "\n",
    "model = LSTMClassifier(input_size=input_size, hidden_size=hidden_size, output_size=output_size)\n",
    "\n",
    "checkpoint_callback = ModelCheckpoint(\n",
    "    monitor='val_loss',\n",
    "    dirpath='model_checkpoints',\n",
    "    filename='best_model',\n",
    "    save_top_k=1,\n",
    "    mode='min'\n",
    ")\n",
    "\n",
    "trainer = pl.Trainer(max_epochs=20, callbacks=[checkpoint_callback])\n",
    "trainer.fit(model, train_loader, val_loader)"
   ],
   "metadata": {
    "id": "W2TSYGhAa6i-",
    "ExecuteTime": {
     "end_time": "2024-05-24T13:37:46.985150Z",
     "start_time": "2024-05-24T13:36:26.779093Z"
    }
   },
   "execution_count": 132,
   "outputs": [
    {
     "name": "stderr",
     "output_type": "stream",
     "text": [
      "GPU available: True (cuda), used: True\n",
      "TPU available: False, using: 0 TPU cores\n",
      "IPU available: False, using: 0 IPUs\n",
      "HPU available: False, using: 0 HPUs\n",
      "C:\\Users\\annak\\PycharmProjects\\24l-ssne\\.venv\\Lib\\site-packages\\pytorch_lightning\\callbacks\\model_checkpoint.py:653: Checkpoint directory C:\\Users\\annak\\PycharmProjects\\24l-ssne\\proj5\\model_checkpoints exists and is not empty.\n",
      "LOCAL_RANK: 0 - CUDA_VISIBLE_DEVICES: [0]\n",
      "\n",
      "  | Name      | Type             | Params\n",
      "-----------------------------------------------\n",
      "0 | lstm      | LSTM             | 67.1 K\n",
      "1 | fc        | Linear           | 645   \n",
      "2 | criterion | CrossEntropyLoss | 0     \n",
      "-----------------------------------------------\n",
      "67.7 K    Trainable params\n",
      "0         Non-trainable params\n",
      "67.7 K    Total params\n",
      "0.271     Total estimated model params size (MB)\n"
     ]
    },
    {
     "data": {
      "text/plain": "Sanity Checking: |          | 0/? [00:00<?, ?it/s]",
      "application/vnd.jupyter.widget-view+json": {
       "version_major": 2,
       "version_minor": 0,
       "model_id": "70399cc88bf948c5bd1d9f10edf7b921"
      }
     },
     "metadata": {},
     "output_type": "display_data"
    },
    {
     "data": {
      "text/plain": "Training: |          | 0/? [00:00<?, ?it/s]",
      "application/vnd.jupyter.widget-view+json": {
       "version_major": 2,
       "version_minor": 0,
       "model_id": "9c1f3e0135c1408fa818e31d258d52e7"
      }
     },
     "metadata": {},
     "output_type": "display_data"
    },
    {
     "data": {
      "text/plain": "Validation: |          | 0/? [00:00<?, ?it/s]",
      "application/vnd.jupyter.widget-view+json": {
       "version_major": 2,
       "version_minor": 0,
       "model_id": "05ecef8739424d38a8952ff166affa96"
      }
     },
     "metadata": {},
     "output_type": "display_data"
    },
    {
     "data": {
      "text/plain": "Validation: |          | 0/? [00:00<?, ?it/s]",
      "application/vnd.jupyter.widget-view+json": {
       "version_major": 2,
       "version_minor": 0,
       "model_id": "48079b08143f4fde91e50ba72713ea81"
      }
     },
     "metadata": {},
     "output_type": "display_data"
    },
    {
     "data": {
      "text/plain": "Validation: |          | 0/? [00:00<?, ?it/s]",
      "application/vnd.jupyter.widget-view+json": {
       "version_major": 2,
       "version_minor": 0,
       "model_id": "1f1867b322544b68af987cf186940060"
      }
     },
     "metadata": {},
     "output_type": "display_data"
    },
    {
     "data": {
      "text/plain": "Validation: |          | 0/? [00:00<?, ?it/s]",
      "application/vnd.jupyter.widget-view+json": {
       "version_major": 2,
       "version_minor": 0,
       "model_id": "2e95d39a0565439dbd77d338365ebc31"
      }
     },
     "metadata": {},
     "output_type": "display_data"
    },
    {
     "data": {
      "text/plain": "Validation: |          | 0/? [00:00<?, ?it/s]",
      "application/vnd.jupyter.widget-view+json": {
       "version_major": 2,
       "version_minor": 0,
       "model_id": "c7dcbd1bb80743e3ad82005ac067ad29"
      }
     },
     "metadata": {},
     "output_type": "display_data"
    },
    {
     "data": {
      "text/plain": "Validation: |          | 0/? [00:00<?, ?it/s]",
      "application/vnd.jupyter.widget-view+json": {
       "version_major": 2,
       "version_minor": 0,
       "model_id": "772a16a8aa76487b9d4bfa2224626ad1"
      }
     },
     "metadata": {},
     "output_type": "display_data"
    },
    {
     "data": {
      "text/plain": "Validation: |          | 0/? [00:00<?, ?it/s]",
      "application/vnd.jupyter.widget-view+json": {
       "version_major": 2,
       "version_minor": 0,
       "model_id": "f00fb146f741431ba6abff191bfcdaf8"
      }
     },
     "metadata": {},
     "output_type": "display_data"
    },
    {
     "data": {
      "text/plain": "Validation: |          | 0/? [00:00<?, ?it/s]",
      "application/vnd.jupyter.widget-view+json": {
       "version_major": 2,
       "version_minor": 0,
       "model_id": "b3aa561813124e38b11b61c53dbb822c"
      }
     },
     "metadata": {},
     "output_type": "display_data"
    },
    {
     "data": {
      "text/plain": "Validation: |          | 0/? [00:00<?, ?it/s]",
      "application/vnd.jupyter.widget-view+json": {
       "version_major": 2,
       "version_minor": 0,
       "model_id": "27a82a7317764024a1bf49a2773fab49"
      }
     },
     "metadata": {},
     "output_type": "display_data"
    },
    {
     "data": {
      "text/plain": "Validation: |          | 0/? [00:00<?, ?it/s]",
      "application/vnd.jupyter.widget-view+json": {
       "version_major": 2,
       "version_minor": 0,
       "model_id": "9b8b43fff79e446592af153c8cb0f481"
      }
     },
     "metadata": {},
     "output_type": "display_data"
    },
    {
     "data": {
      "text/plain": "Validation: |          | 0/? [00:00<?, ?it/s]",
      "application/vnd.jupyter.widget-view+json": {
       "version_major": 2,
       "version_minor": 0,
       "model_id": "f8e7751a34594bcc882a7830875ab5cc"
      }
     },
     "metadata": {},
     "output_type": "display_data"
    },
    {
     "data": {
      "text/plain": "Validation: |          | 0/? [00:00<?, ?it/s]",
      "application/vnd.jupyter.widget-view+json": {
       "version_major": 2,
       "version_minor": 0,
       "model_id": "ee85e1f16d634e59a514fa1d0b5cba6c"
      }
     },
     "metadata": {},
     "output_type": "display_data"
    },
    {
     "data": {
      "text/plain": "Validation: |          | 0/? [00:00<?, ?it/s]",
      "application/vnd.jupyter.widget-view+json": {
       "version_major": 2,
       "version_minor": 0,
       "model_id": "f822c302e4544086a33aa055f4b48b4e"
      }
     },
     "metadata": {},
     "output_type": "display_data"
    },
    {
     "data": {
      "text/plain": "Validation: |          | 0/? [00:00<?, ?it/s]",
      "application/vnd.jupyter.widget-view+json": {
       "version_major": 2,
       "version_minor": 0,
       "model_id": "b13f1ebe029a42c4bd1a24d51e85c8b6"
      }
     },
     "metadata": {},
     "output_type": "display_data"
    },
    {
     "data": {
      "text/plain": "Validation: |          | 0/? [00:00<?, ?it/s]",
      "application/vnd.jupyter.widget-view+json": {
       "version_major": 2,
       "version_minor": 0,
       "model_id": "c879da1d6d07405589679adaefb9da5a"
      }
     },
     "metadata": {},
     "output_type": "display_data"
    },
    {
     "data": {
      "text/plain": "Validation: |          | 0/? [00:00<?, ?it/s]",
      "application/vnd.jupyter.widget-view+json": {
       "version_major": 2,
       "version_minor": 0,
       "model_id": "d9b65a4ee38d43d0ac9db34793197f79"
      }
     },
     "metadata": {},
     "output_type": "display_data"
    },
    {
     "data": {
      "text/plain": "Validation: |          | 0/? [00:00<?, ?it/s]",
      "application/vnd.jupyter.widget-view+json": {
       "version_major": 2,
       "version_minor": 0,
       "model_id": "09f1483b0796477a9f7c1afaf078eca2"
      }
     },
     "metadata": {},
     "output_type": "display_data"
    },
    {
     "data": {
      "text/plain": "Validation: |          | 0/? [00:00<?, ?it/s]",
      "application/vnd.jupyter.widget-view+json": {
       "version_major": 2,
       "version_minor": 0,
       "model_id": "0ee90555b7ec441e8270195194a730d6"
      }
     },
     "metadata": {},
     "output_type": "display_data"
    },
    {
     "data": {
      "text/plain": "Validation: |          | 0/? [00:00<?, ?it/s]",
      "application/vnd.jupyter.widget-view+json": {
       "version_major": 2,
       "version_minor": 0,
       "model_id": "f8657a7d894946eba709b1024bdd8936"
      }
     },
     "metadata": {},
     "output_type": "display_data"
    },
    {
     "data": {
      "text/plain": "Validation: |          | 0/? [00:00<?, ?it/s]",
      "application/vnd.jupyter.widget-view+json": {
       "version_major": 2,
       "version_minor": 0,
       "model_id": "a9f347aeca644642b7152fbe819c251d"
      }
     },
     "metadata": {},
     "output_type": "display_data"
    },
    {
     "name": "stderr",
     "output_type": "stream",
     "text": [
      "`Trainer.fit` stopped: `max_epochs=20` reached.\n"
     ]
    }
   ]
  },
  {
   "cell_type": "code",
   "source": [
    "with open(TEST_PATH, 'rb') as f:\n",
    "    test_data = pickle.load(f)\n",
    "\n",
    "test_data = [torch.from_numpy(t.astype(int)).float().unsqueeze(-1) for t in test_data]\n",
    "test_dataset = VariableLenDataset(test_data, [0 for _ in test_data])\n",
    "test_loader = DataLoader(test_dataset, batch_size=50, shuffle=False, collate_fn=pad_collate)"
   ],
   "metadata": {
    "id": "dd1xinfuEMZv",
    "ExecuteTime": {
     "end_time": "2024-05-24T13:37:47.032182700Z",
     "start_time": "2024-05-24T13:37:47.027654Z"
    }
   },
   "execution_count": null,
   "outputs": []
  }
 ]
}
