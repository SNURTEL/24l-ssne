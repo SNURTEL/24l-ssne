{
 "cells": [
  {
   "cell_type": "markdown",
   "source": [
    "# Pora na machanie rękami"
   ],
   "metadata": {
    "collapsed": false
   },
   "id": "368b9a68eb64a410"
  },
  {
   "cell_type": "code",
   "execution_count": 1,
   "id": "initial_id",
   "metadata": {
    "collapsed": true,
    "ExecuteTime": {
     "end_time": "2024-03-07T22:54:39.168704792Z",
     "start_time": "2024-03-07T22:54:38.190967519Z"
    }
   },
   "outputs": [],
   "source": [
    "import math\n",
    "import pandas as pd\n",
    "import numpy as np\n",
    "import torch\n",
    "import torch.nn as nn\n",
    "import torch.nn.functional as f"
   ]
  },
  {
   "cell_type": "code",
   "execution_count": 2,
   "outputs": [],
   "source": [
    "SEED = 999\n",
    "DEVICE = 'cuda'\n",
    "DATASET_PATH = \"./bike_sharing_dataset/hour.csv\""
   ],
   "metadata": {
    "collapsed": false,
    "ExecuteTime": {
     "end_time": "2024-03-07T22:54:39.173842685Z",
     "start_time": "2024-03-07T22:54:39.170549529Z"
    }
   },
   "id": "a6159c5985a74ded"
  },
  {
   "cell_type": "code",
   "execution_count": 3,
   "outputs": [],
   "source": [
    "device = torch.device(DEVICE) "
   ],
   "metadata": {
    "collapsed": false,
    "ExecuteTime": {
     "end_time": "2024-03-07T22:54:39.176879134Z",
     "start_time": "2024-03-07T22:54:39.172646271Z"
    }
   },
   "id": "4cb1e9a78cc9c9df"
  },
  {
   "cell_type": "code",
   "execution_count": 4,
   "outputs": [
    {
     "data": {
      "text/plain": "       instant      dteday  season  yr  mnth  hr  holiday  weekday  \\\n0            1  2011-01-01       1   0     1   0        0        6   \n1            2  2011-01-01       1   0     1   1        0        6   \n2            3  2011-01-01       1   0     1   2        0        6   \n3            4  2011-01-01       1   0     1   3        0        6   \n4            5  2011-01-01       1   0     1   4        0        6   \n...        ...         ...     ...  ..   ...  ..      ...      ...   \n17374    17375  2012-12-31       1   1    12  19        0        1   \n17375    17376  2012-12-31       1   1    12  20        0        1   \n17376    17377  2012-12-31       1   1    12  21        0        1   \n17377    17378  2012-12-31       1   1    12  22        0        1   \n17378    17379  2012-12-31       1   1    12  23        0        1   \n\n       workingday  weathersit  temp   atemp   hum  windspeed  casual  \\\n0               0           1  0.24  0.2879  0.81     0.0000       3   \n1               0           1  0.22  0.2727  0.80     0.0000       8   \n2               0           1  0.22  0.2727  0.80     0.0000       5   \n3               0           1  0.24  0.2879  0.75     0.0000       3   \n4               0           1  0.24  0.2879  0.75     0.0000       0   \n...           ...         ...   ...     ...   ...        ...     ...   \n17374           1           2  0.26  0.2576  0.60     0.1642      11   \n17375           1           2  0.26  0.2576  0.60     0.1642       8   \n17376           1           1  0.26  0.2576  0.60     0.1642       7   \n17377           1           1  0.26  0.2727  0.56     0.1343      13   \n17378           1           1  0.26  0.2727  0.65     0.1343      12   \n\n       registered  cnt  \n0              13   16  \n1              32   40  \n2              27   32  \n3              10   13  \n4               1    1  \n...           ...  ...  \n17374         108  119  \n17375          81   89  \n17376          83   90  \n17377          48   61  \n17378          37   49  \n\n[17379 rows x 17 columns]",
      "text/html": "<div>\n<style scoped>\n    .dataframe tbody tr th:only-of-type {\n        vertical-align: middle;\n    }\n\n    .dataframe tbody tr th {\n        vertical-align: top;\n    }\n\n    .dataframe thead th {\n        text-align: right;\n    }\n</style>\n<table border=\"1\" class=\"dataframe\">\n  <thead>\n    <tr style=\"text-align: right;\">\n      <th></th>\n      <th>instant</th>\n      <th>dteday</th>\n      <th>season</th>\n      <th>yr</th>\n      <th>mnth</th>\n      <th>hr</th>\n      <th>holiday</th>\n      <th>weekday</th>\n      <th>workingday</th>\n      <th>weathersit</th>\n      <th>temp</th>\n      <th>atemp</th>\n      <th>hum</th>\n      <th>windspeed</th>\n      <th>casual</th>\n      <th>registered</th>\n      <th>cnt</th>\n    </tr>\n  </thead>\n  <tbody>\n    <tr>\n      <th>0</th>\n      <td>1</td>\n      <td>2011-01-01</td>\n      <td>1</td>\n      <td>0</td>\n      <td>1</td>\n      <td>0</td>\n      <td>0</td>\n      <td>6</td>\n      <td>0</td>\n      <td>1</td>\n      <td>0.24</td>\n      <td>0.2879</td>\n      <td>0.81</td>\n      <td>0.0000</td>\n      <td>3</td>\n      <td>13</td>\n      <td>16</td>\n    </tr>\n    <tr>\n      <th>1</th>\n      <td>2</td>\n      <td>2011-01-01</td>\n      <td>1</td>\n      <td>0</td>\n      <td>1</td>\n      <td>1</td>\n      <td>0</td>\n      <td>6</td>\n      <td>0</td>\n      <td>1</td>\n      <td>0.22</td>\n      <td>0.2727</td>\n      <td>0.80</td>\n      <td>0.0000</td>\n      <td>8</td>\n      <td>32</td>\n      <td>40</td>\n    </tr>\n    <tr>\n      <th>2</th>\n      <td>3</td>\n      <td>2011-01-01</td>\n      <td>1</td>\n      <td>0</td>\n      <td>1</td>\n      <td>2</td>\n      <td>0</td>\n      <td>6</td>\n      <td>0</td>\n      <td>1</td>\n      <td>0.22</td>\n      <td>0.2727</td>\n      <td>0.80</td>\n      <td>0.0000</td>\n      <td>5</td>\n      <td>27</td>\n      <td>32</td>\n    </tr>\n    <tr>\n      <th>3</th>\n      <td>4</td>\n      <td>2011-01-01</td>\n      <td>1</td>\n      <td>0</td>\n      <td>1</td>\n      <td>3</td>\n      <td>0</td>\n      <td>6</td>\n      <td>0</td>\n      <td>1</td>\n      <td>0.24</td>\n      <td>0.2879</td>\n      <td>0.75</td>\n      <td>0.0000</td>\n      <td>3</td>\n      <td>10</td>\n      <td>13</td>\n    </tr>\n    <tr>\n      <th>4</th>\n      <td>5</td>\n      <td>2011-01-01</td>\n      <td>1</td>\n      <td>0</td>\n      <td>1</td>\n      <td>4</td>\n      <td>0</td>\n      <td>6</td>\n      <td>0</td>\n      <td>1</td>\n      <td>0.24</td>\n      <td>0.2879</td>\n      <td>0.75</td>\n      <td>0.0000</td>\n      <td>0</td>\n      <td>1</td>\n      <td>1</td>\n    </tr>\n    <tr>\n      <th>...</th>\n      <td>...</td>\n      <td>...</td>\n      <td>...</td>\n      <td>...</td>\n      <td>...</td>\n      <td>...</td>\n      <td>...</td>\n      <td>...</td>\n      <td>...</td>\n      <td>...</td>\n      <td>...</td>\n      <td>...</td>\n      <td>...</td>\n      <td>...</td>\n      <td>...</td>\n      <td>...</td>\n      <td>...</td>\n    </tr>\n    <tr>\n      <th>17374</th>\n      <td>17375</td>\n      <td>2012-12-31</td>\n      <td>1</td>\n      <td>1</td>\n      <td>12</td>\n      <td>19</td>\n      <td>0</td>\n      <td>1</td>\n      <td>1</td>\n      <td>2</td>\n      <td>0.26</td>\n      <td>0.2576</td>\n      <td>0.60</td>\n      <td>0.1642</td>\n      <td>11</td>\n      <td>108</td>\n      <td>119</td>\n    </tr>\n    <tr>\n      <th>17375</th>\n      <td>17376</td>\n      <td>2012-12-31</td>\n      <td>1</td>\n      <td>1</td>\n      <td>12</td>\n      <td>20</td>\n      <td>0</td>\n      <td>1</td>\n      <td>1</td>\n      <td>2</td>\n      <td>0.26</td>\n      <td>0.2576</td>\n      <td>0.60</td>\n      <td>0.1642</td>\n      <td>8</td>\n      <td>81</td>\n      <td>89</td>\n    </tr>\n    <tr>\n      <th>17376</th>\n      <td>17377</td>\n      <td>2012-12-31</td>\n      <td>1</td>\n      <td>1</td>\n      <td>12</td>\n      <td>21</td>\n      <td>0</td>\n      <td>1</td>\n      <td>1</td>\n      <td>1</td>\n      <td>0.26</td>\n      <td>0.2576</td>\n      <td>0.60</td>\n      <td>0.1642</td>\n      <td>7</td>\n      <td>83</td>\n      <td>90</td>\n    </tr>\n    <tr>\n      <th>17377</th>\n      <td>17378</td>\n      <td>2012-12-31</td>\n      <td>1</td>\n      <td>1</td>\n      <td>12</td>\n      <td>22</td>\n      <td>0</td>\n      <td>1</td>\n      <td>1</td>\n      <td>1</td>\n      <td>0.26</td>\n      <td>0.2727</td>\n      <td>0.56</td>\n      <td>0.1343</td>\n      <td>13</td>\n      <td>48</td>\n      <td>61</td>\n    </tr>\n    <tr>\n      <th>17378</th>\n      <td>17379</td>\n      <td>2012-12-31</td>\n      <td>1</td>\n      <td>1</td>\n      <td>12</td>\n      <td>23</td>\n      <td>0</td>\n      <td>1</td>\n      <td>1</td>\n      <td>1</td>\n      <td>0.26</td>\n      <td>0.2727</td>\n      <td>0.65</td>\n      <td>0.1343</td>\n      <td>12</td>\n      <td>37</td>\n      <td>49</td>\n    </tr>\n  </tbody>\n</table>\n<p>17379 rows × 17 columns</p>\n</div>"
     },
     "execution_count": 4,
     "metadata": {},
     "output_type": "execute_result"
    }
   ],
   "source": [
    "_df = pd.read_csv(DATASET_PATH)\n",
    "_df"
   ],
   "metadata": {
    "collapsed": false,
    "ExecuteTime": {
     "end_time": "2024-03-07T22:54:39.214735664Z",
     "start_time": "2024-03-07T22:54:39.176306769Z"
    }
   },
   "id": "5c801e2e9475ce96"
  },
  {
   "cell_type": "code",
   "execution_count": 5,
   "outputs": [],
   "source": [
    "from torch.utils.data import random_split, DataLoader, Dataset"
   ],
   "metadata": {
    "collapsed": false,
    "ExecuteTime": {
     "end_time": "2024-03-07T22:54:39.299098689Z",
     "start_time": "2024-03-07T22:54:39.213780369Z"
    }
   },
   "id": "2cecbbfc11fb4549"
  },
  {
   "cell_type": "code",
   "execution_count": 6,
   "outputs": [],
   "source": [
    "class BikeDataset(Dataset):\n",
    "    def __init__(self, features, labels):\n",
    "        assert len(features) == len(labels)\n",
    "        self._features = torch.from_numpy(features)\n",
    "        self._labels = torch.from_numpy(labels)\n",
    "\n",
    "    def __len__(self):\n",
    "        return len(self._features)\n",
    "\n",
    "    def __getitem__(self, idx):\n",
    "        return self._features[idx], self._labels[idx]"
   ],
   "metadata": {
    "collapsed": false,
    "ExecuteTime": {
     "end_time": "2024-03-07T22:54:39.299243850Z",
     "start_time": "2024-03-07T22:54:39.255035165Z"
    }
   },
   "id": "7d1c4ad70bfe1a3"
  },
  {
   "cell_type": "code",
   "execution_count": 7,
   "outputs": [],
   "source": [
    "df = _df.drop(columns=['instant', 'dteday', 'registered', 'casual'])\n",
    "dataset = BikeDataset(features=df.values[:, :-1], labels=df.values[:, -1])"
   ],
   "metadata": {
    "collapsed": false,
    "ExecuteTime": {
     "end_time": "2024-03-07T22:54:39.299305593Z",
     "start_time": "2024-03-07T22:54:39.255112018Z"
    }
   },
   "id": "c36968b2932da1c6"
  },
  {
   "cell_type": "code",
   "execution_count": 8,
   "outputs": [],
   "source": [
    "train, test = random_split(\n",
    "    dataset=dataset,\n",
    "    lengths=[round(len(df) * 0.8), round(len(df) * 0.2)],\n",
    "    generator=torch.Generator().manual_seed(SEED)\n",
    ")"
   ],
   "metadata": {
    "collapsed": false,
    "ExecuteTime": {
     "end_time": "2024-03-07T22:54:39.299354948Z",
     "start_time": "2024-03-07T22:54:39.255147748Z"
    }
   },
   "id": "3285cd66b6d601dc"
  },
  {
   "cell_type": "code",
   "execution_count": 9,
   "outputs": [
    {
     "data": {
      "text/plain": "<torch.utils.data.dataset.Subset at 0x7f3d3316bf10>"
     },
     "execution_count": 9,
     "metadata": {},
     "output_type": "execute_result"
    }
   ],
   "source": [
    "train"
   ],
   "metadata": {
    "collapsed": false,
    "ExecuteTime": {
     "end_time": "2024-03-07T22:54:39.299502401Z",
     "start_time": "2024-03-07T22:54:39.255179564Z"
    }
   },
   "id": "d85e43f2cf807c79"
  },
  {
   "cell_type": "code",
   "execution_count": 10,
   "outputs": [],
   "source": [
    "train_loader = DataLoader(train, batch_size=128, shuffle=True)\n",
    "test_loader = DataLoader(test, batch_size=1, shuffle=True)"
   ],
   "metadata": {
    "collapsed": false,
    "ExecuteTime": {
     "end_time": "2024-03-07T22:54:39.299559586Z",
     "start_time": "2024-03-07T22:54:39.255219950Z"
    }
   },
   "id": "cc4b06e2eefbd623"
  },
  {
   "cell_type": "code",
   "execution_count": 11,
   "outputs": [],
   "source": [
    "class BikeModel(nn.Module):\n",
    "    def __init__(self, num_inputs, num_hidden, num_outputs):\n",
    "        super().__init__()\n",
    "        self.linear1 = nn.Linear(num_inputs, num_hidden)\n",
    "        self.linear2 = nn.Linear(num_hidden, num_hidden)\n",
    "        self.linear3 = nn.Linear(num_hidden, num_hidden)\n",
    "        self.linear4 = nn.Linear(num_hidden, num_outputs)\n",
    "        self.act_fn = nn.ReLU()\n",
    "\n",
    "    def forward(self, x):\n",
    "        x = self.linear1(x)\n",
    "        x = self.act_fn(x)\n",
    "        x = self.linear2(x)\n",
    "        x = self.act_fn(x)\n",
    "        x = self.linear3(x)\n",
    "        x = self.act_fn(x)\n",
    "        x = self.linear4(x)\n",
    "        return x"
   ],
   "metadata": {
    "collapsed": false,
    "ExecuteTime": {
     "end_time": "2024-03-07T22:54:39.299608760Z",
     "start_time": "2024-03-07T22:54:39.255283291Z"
    }
   },
   "id": "23cbefe0469237b6"
  },
  {
   "cell_type": "code",
   "execution_count": 18,
   "outputs": [],
   "source": [
    "class RMSLELoss(nn.Module):\n",
    "    def __init__(self):\n",
    "        super().__init__()\n",
    "        self.mse = nn.MSELoss()\n",
    "        \n",
    "    def forward(self, pred, actual):\n",
    "        return torch.sqrt(self.mse(torch.log(pred + 1), torch.log(actual + 1)))"
   ],
   "metadata": {
    "collapsed": false,
    "ExecuteTime": {
     "end_time": "2024-03-07T22:58:23.528703327Z",
     "start_time": "2024-03-07T22:58:23.480286734Z"
    }
   },
   "id": "5589b2fd551403ee"
  },
  {
   "cell_type": "code",
   "execution_count": 19,
   "outputs": [],
   "source": [
    "model = BikeModel(\n",
    "    num_inputs=12,\n",
    "    num_hidden=128,\n",
    "    num_outputs=1\n",
    ").to(device)\n",
    "optimizer = torch.optim.Adam(model.parameters(), lr=1e-4)\n",
    "loss_module = RMSLELoss()"
   ],
   "metadata": {
    "collapsed": false,
    "ExecuteTime": {
     "end_time": "2024-03-07T22:58:23.528876169Z",
     "start_time": "2024-03-07T22:58:23.521034626Z"
    }
   },
   "id": "ad9c06580e0cc020"
  },
  {
   "cell_type": "code",
   "execution_count": 20,
   "outputs": [
    {
     "name": "stdout",
     "output_type": "stream",
     "text": [
      "epoch: 0, loss: 2.882294178009033\n",
      "epoch: 25, loss: 0.8065440654754639\n",
      "epoch: 50, loss: 0.7374131679534912\n",
      "epoch: 75, loss: 0.5801187753677368\n",
      "epoch: 100, loss: 0.5216390490531921\n",
      "epoch: 125, loss: 0.4501436948776245\n",
      "epoch: 150, loss: 0.5113668441772461\n",
      "epoch: 175, loss: 0.5439280271530151\n",
      "epoch: 200, loss: 0.5051448941230774\n",
      "epoch: 225, loss: 0.48754459619522095\n"
     ]
    }
   ],
   "source": [
    "model.train()\n",
    "for epoch in range(250):\n",
    "    for X, y in train_loader:\n",
    "        X = X.float().to(device)\n",
    "        y = y.float().to(device)\n",
    "\n",
    "        pred = model(X).squeeze(dim=1).float()\n",
    "\n",
    "        loss = loss_module(y, pred)\n",
    "\n",
    "        optimizer.zero_grad()\n",
    "        loss.backward()\n",
    "        optimizer.step()\n",
    "    if not epoch % 25:\n",
    "        print(f\"epoch: {epoch}, loss: {loss.item()}\")"
   ],
   "metadata": {
    "collapsed": false,
    "ExecuteTime": {
     "end_time": "2024-03-07T22:59:06.264013179Z",
     "start_time": "2024-03-07T22:58:23.521118801Z"
    }
   },
   "id": "b7cab02b113a32d1"
  },
  {
   "cell_type": "code",
   "execution_count": 27,
   "outputs": [
    {
     "name": "stdout",
     "output_type": "stream",
     "text": [
      "RMSLE = 0.37293\n"
     ]
    }
   ],
   "source": [
    "model.eval()\n",
    "with torch.no_grad():\n",
    "    rmsle = torch.mean(torch.Tensor([loss_module.forward(model(X.float().to(device)).squeeze(dim=1).float(), y.float().to(device)) for X, y in test_loader]))\n",
    "    \n",
    "print(f\"RMSLE = {rmsle:.5f}\")"
   ],
   "metadata": {
    "collapsed": false,
    "ExecuteTime": {
     "end_time": "2024-03-07T23:06:14.850836935Z",
     "start_time": "2024-03-07T23:06:13.414092996Z"
    }
   },
   "id": "f9556ae2f2b501eb"
  }
 ],
 "metadata": {
  "kernelspec": {
   "display_name": "Python 3",
   "language": "python",
   "name": "python3"
  },
  "language_info": {
   "codemirror_mode": {
    "name": "ipython",
    "version": 2
   },
   "file_extension": ".py",
   "mimetype": "text/x-python",
   "name": "python",
   "nbconvert_exporter": "python",
   "pygments_lexer": "ipython2",
   "version": "2.7.6"
  }
 },
 "nbformat": 4,
 "nbformat_minor": 5
}
