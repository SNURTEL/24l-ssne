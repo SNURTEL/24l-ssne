{
 "cells": [
  {
   "cell_type": "markdown",
   "metadata": {
    "id": "bWqIz6BsrIZU"
   },
   "source": [
    "# SSNE Miniproject 6\n",
    "### 318703 Tomasz Owienko\n",
    "### 318718 Anna Schäfer\n",
    "### Grupa piątek"
   ]
  },
  {
   "cell_type": "code",
   "execution_count": 6,
   "metadata": {
    "id": "-RiHHnHEi7Vc",
    "ExecuteTime": {
     "end_time": "2024-06-12T14:57:05.284253800Z",
     "start_time": "2024-06-12T14:57:02.709812800Z"
    }
   },
   "outputs": [],
   "source": [
    "import torch\n",
    "import torch.nn as nn\n",
    "import numpy as np\n",
    "import pandas as pd\n",
    "import itertools\n",
    "from torchmetrics.classification import MulticlassAccuracy, MulticlassF1Score\n",
    "from torch.utils.data import DataLoader, Dataset, random_split\n",
    "import pytorch_lightning as pl\n",
    "from pytorch_lightning.callbacks import ModelCheckpoint, RichProgressBar\n",
    "import matplotlib.pyplot as plt\n",
    "from torchmetrics.classification import MulticlassConfusionMatrix\n",
    "import io\n",
    "from PIL import Image\n",
    "import torchvision\n",
    "from pytorch_lightning.loggers import TensorBoardLogger\n",
    "from sklearn.feature_extraction.text import CountVectorizer\n",
    "from sklearn.feature_extraction.text import TfidfTransformer\n",
    "from sklearn.model_selection import train_test_split"
   ]
  },
  {
   "cell_type": "code",
   "execution_count": 7,
   "metadata": {
    "id": "dF7Jzby3i-I6",
    "ExecuteTime": {
     "end_time": "2024-06-12T14:57:05.298645500Z",
     "start_time": "2024-06-12T14:57:05.285373600Z"
    }
   },
   "outputs": [
    {
     "name": "stderr",
     "output_type": "stream",
     "text": [
      "Seed set to 123\n"
     ]
    },
    {
     "data": {
      "text/plain": "123"
     },
     "execution_count": 7,
     "metadata": {},
     "output_type": "execute_result"
    }
   ],
   "source": [
    "RANDOM_SEED = 123\n",
    "pl.seed_everything(RANDOM_SEED)"
   ]
  },
  {
   "cell_type": "code",
   "execution_count": 8,
   "metadata": {
    "id": "-BCkcrW5i9kE",
    "ExecuteTime": {
     "end_time": "2024-06-12T14:57:05.298700Z",
     "start_time": "2024-06-12T14:57:05.293136400Z"
    }
   },
   "outputs": [],
   "source": [
    "device = torch.device(\"cuda\")\n",
    "torch.set_float32_matmul_precision(\"high\")"
   ]
  },
  {
   "cell_type": "code",
   "outputs": [
    {
     "data": {
      "text/plain": "                                                  review  rating\n0      location not palace excellent hotel booke dthe...       4\n1      respite definitely not place stay looking ultr...       3\n2      stunning truly memorable spot right beach nusa...       4\n3      solid business hotel near embassy stayed hotel...       3\n4      nice place make sure lock money warning money ...       3\n...                                                  ...     ...\n16387  great base explore new york stayed 4 nights en...       4\n16388  wonderful advert paris wonderful introduction ...       4\n16389  ideal relaxing holdiay rachel jay green liverp...       3\n16390  watch food, husband went resort 4 nights chris...       2\n16391  fantastic hotel central barcelona family just ...       4\n\n[16392 rows x 2 columns]",
      "text/html": "<div>\n<style scoped>\n    .dataframe tbody tr th:only-of-type {\n        vertical-align: middle;\n    }\n\n    .dataframe tbody tr th {\n        vertical-align: top;\n    }\n\n    .dataframe thead th {\n        text-align: right;\n    }\n</style>\n<table border=\"1\" class=\"dataframe\">\n  <thead>\n    <tr style=\"text-align: right;\">\n      <th></th>\n      <th>review</th>\n      <th>rating</th>\n    </tr>\n  </thead>\n  <tbody>\n    <tr>\n      <th>0</th>\n      <td>location not palace excellent hotel booke dthe...</td>\n      <td>4</td>\n    </tr>\n    <tr>\n      <th>1</th>\n      <td>respite definitely not place stay looking ultr...</td>\n      <td>3</td>\n    </tr>\n    <tr>\n      <th>2</th>\n      <td>stunning truly memorable spot right beach nusa...</td>\n      <td>4</td>\n    </tr>\n    <tr>\n      <th>3</th>\n      <td>solid business hotel near embassy stayed hotel...</td>\n      <td>3</td>\n    </tr>\n    <tr>\n      <th>4</th>\n      <td>nice place make sure lock money warning money ...</td>\n      <td>3</td>\n    </tr>\n    <tr>\n      <th>...</th>\n      <td>...</td>\n      <td>...</td>\n    </tr>\n    <tr>\n      <th>16387</th>\n      <td>great base explore new york stayed 4 nights en...</td>\n      <td>4</td>\n    </tr>\n    <tr>\n      <th>16388</th>\n      <td>wonderful advert paris wonderful introduction ...</td>\n      <td>4</td>\n    </tr>\n    <tr>\n      <th>16389</th>\n      <td>ideal relaxing holdiay rachel jay green liverp...</td>\n      <td>3</td>\n    </tr>\n    <tr>\n      <th>16390</th>\n      <td>watch food, husband went resort 4 nights chris...</td>\n      <td>2</td>\n    </tr>\n    <tr>\n      <th>16391</th>\n      <td>fantastic hotel central barcelona family just ...</td>\n      <td>4</td>\n    </tr>\n  </tbody>\n</table>\n<p>16392 rows × 2 columns</p>\n</div>"
     },
     "execution_count": 9,
     "metadata": {},
     "output_type": "execute_result"
    }
   ],
   "source": [
    "df_train = pd.read_csv('data/train_data.csv')\n",
    "df_train"
   ],
   "metadata": {
    "collapsed": false,
    "ExecuteTime": {
     "end_time": "2024-06-12T14:57:05.513562600Z",
     "start_time": "2024-06-12T14:57:05.430589200Z"
    }
   },
   "execution_count": 9
  },
  {
   "cell_type": "code",
   "outputs": [
    {
     "data": {
      "text/plain": "        review\nrating        \n0         1137\n1         1434\n2         1747\n3         4831\n4         7243",
      "text/html": "<div>\n<style scoped>\n    .dataframe tbody tr th:only-of-type {\n        vertical-align: middle;\n    }\n\n    .dataframe tbody tr th {\n        vertical-align: top;\n    }\n\n    .dataframe thead th {\n        text-align: right;\n    }\n</style>\n<table border=\"1\" class=\"dataframe\">\n  <thead>\n    <tr style=\"text-align: right;\">\n      <th></th>\n      <th>review</th>\n    </tr>\n    <tr>\n      <th>rating</th>\n      <th></th>\n    </tr>\n  </thead>\n  <tbody>\n    <tr>\n      <th>0</th>\n      <td>1137</td>\n    </tr>\n    <tr>\n      <th>1</th>\n      <td>1434</td>\n    </tr>\n    <tr>\n      <th>2</th>\n      <td>1747</td>\n    </tr>\n    <tr>\n      <th>3</th>\n      <td>4831</td>\n    </tr>\n    <tr>\n      <th>4</th>\n      <td>7243</td>\n    </tr>\n  </tbody>\n</table>\n</div>"
     },
     "execution_count": 12,
     "metadata": {},
     "output_type": "execute_result"
    }
   ],
   "source": [
    "df_train.groupby('rating').count()"
   ],
   "metadata": {
    "collapsed": false,
    "ExecuteTime": {
     "end_time": "2024-06-12T15:09:01.620151400Z",
     "start_time": "2024-06-12T15:09:01.614131200Z"
    }
   },
   "execution_count": 12
  },
  {
   "cell_type": "code",
   "outputs": [],
   "source": [
    "x_train, x_valid, y_train, y_valid = train_test_split(df_train.review, df_train.rating, test_size=0.2, random_state=42)"
   ],
   "metadata": {
    "collapsed": false,
    "ExecuteTime": {
     "end_time": "2024-06-12T14:57:06.491713700Z",
     "start_time": "2024-06-12T14:57:06.487305200Z"
    }
   },
   "execution_count": 10
  },
  {
   "cell_type": "code",
   "outputs": [],
   "source": [
    "count_vectorizer = CountVectorizer()\n",
    "x_vectorized = count_vectorizer.fit_transform(x_train.values)\n",
    "tfidf_transformer = TfidfTransformer()\n",
    "x_transformed = tfidf_transformer.fit_transform(x_vectorized)"
   ],
   "metadata": {
    "collapsed": false,
    "ExecuteTime": {
     "end_time": "2024-06-12T14:57:08.430009400Z",
     "start_time": "2024-06-12T14:57:07.782225700Z"
    }
   },
   "execution_count": 11
  },
  {
   "cell_type": "code",
   "outputs": [],
   "source": [],
   "metadata": {
    "collapsed": false
   }
  }
 ],
 "metadata": {
  "accelerator": "GPU",
  "colab": {
   "collapsed_sections": [
    "g6VO-fNxrWh5"
   ],
   "machine_shape": "hm",
   "provenance": []
  },
  "gpuClass": "standard",
  "kernelspec": {
   "display_name": "Python 3 (ipykernel)",
   "language": "python",
   "name": "python3"
  },
  "language_info": {
   "codemirror_mode": {
    "name": "ipython",
    "version": 3
   },
   "file_extension": ".py",
   "mimetype": "text/x-python",
   "name": "python",
   "nbconvert_exporter": "python",
   "pygments_lexer": "ipython3",
   "version": "3.11.8"
  }
 },
 "nbformat": 4,
 "nbformat_minor": 0
}
