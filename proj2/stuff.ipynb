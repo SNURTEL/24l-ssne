{
 "cells": [
  {
   "cell_type": "code",
   "execution_count": 1,
   "outputs": [],
   "source": [
    "from pathlib import Path\n",
    "\n",
    "import torch\n",
    "import pytorch_lightning as pl\n",
    "import torch.nn as nn\n",
    "import torchmetrics\n",
    "from torchmetrics.functional import accuracy\n",
    "from torch.utils.data import DataLoader, Dataset, random_split"
   ],
   "metadata": {
    "collapsed": false,
    "ExecuteTime": {
     "end_time": "2024-03-24T16:24:06.571636188Z",
     "start_time": "2024-03-24T16:24:04.589690893Z"
    }
   },
   "id": "20864c47f2a47c77"
  },
  {
   "cell_type": "code",
   "execution_count": 2,
   "outputs": [
    {
     "data": {
      "text/plain": "<torch._C.Generator at 0x7fe8205e5330>"
     },
     "execution_count": 2,
     "metadata": {},
     "output_type": "execute_result"
    }
   ],
   "source": [
    "RANDOM_SEED = 123\n",
    "torch.manual_seed(RANDOM_SEED)"
   ],
   "metadata": {
    "collapsed": false,
    "ExecuteTime": {
     "end_time": "2024-03-24T16:24:06.580138147Z",
     "start_time": "2024-03-24T16:24:06.573326744Z"
    }
   },
   "id": "9d268f4c7f24bfaf"
  },
  {
   "cell_type": "code",
   "execution_count": 3,
   "outputs": [],
   "source": [
    "device = torch.device('cuda') if torch.cuda.is_available() else torch.device('cpu')"
   ],
   "metadata": {
    "collapsed": false,
    "ExecuteTime": {
     "end_time": "2024-03-24T16:24:06.591049997Z",
     "start_time": "2024-03-24T16:24:06.578762757Z"
    }
   },
   "id": "7a4b5e4807b19b0b"
  },
  {
   "cell_type": "code",
   "execution_count": 4,
   "outputs": [],
   "source": [
    "class ApartmentDataset(Dataset):\n",
    "    def __init__(self, features, labels):\n",
    "        assert len(features) == len(labels)\n",
    "        self._features = torch.from_numpy(features).float()\n",
    "        self._labels = torch.from_numpy(labels).float()\n",
    "\n",
    "    def __len__(self):\n",
    "        return len(self._features)\n",
    "\n",
    "    def __getitem__(self, idx):\n",
    "        return self._features[idx], self._labels[idx]\n",
    "    \n",
    "\n",
    "class ApartmentDataModule(pl.LightningDataModule):\n",
    "    def __init__(self, dataset: ApartmentDataset):\n",
    "        super().__init__()\n",
    "        self._dataset = dataset\n",
    "        self._train_dataset = None\n",
    "        self._val_dataset = None\n",
    "        self._test_dataset = None\n",
    "        \n",
    "    def prepare_data(self):\n",
    "        test_size = round(len(self._dataset) * 0.1)\n",
    "        train_size = round((len(self._dataset) - test_size) * 0.85)\n",
    "        self._test_dataset, rest = random_split(self._dataset, (test_size, len(self._dataset) - test_size), )\n",
    "        self._train_dataset, self._val_dataset = random_split(rest, (train_size, len(rest) - train_size))\n",
    "    \n",
    "    def train_dataloader(self):\n",
    "        return DataLoader(self._train_dataset, batch_size=512, shuffle=True, num_workers=4)\n",
    "\n",
    "    def val_dataloader(self):\n",
    "        return DataLoader(self._val_dataset, num_workers=12)\n",
    "\n",
    "    def test_dataloader(self):\n",
    "        return DataLoader(self._test_dataset, num_workers=12)\n",
    "        "
   ],
   "metadata": {
    "collapsed": false,
    "ExecuteTime": {
     "end_time": "2024-03-24T16:24:06.609230206Z",
     "start_time": "2024-03-24T16:24:06.595688890Z"
    }
   },
   "id": "43e885c5f9470567"
  },
  {
   "cell_type": "code",
   "execution_count": null,
   "outputs": [],
   "source": [
    "labels_to_names = {\n",
    "    0: 'cheap',\n",
    "    1: 'average',\n",
    "    2: 'expensive'\n",
    "}"
   ],
   "metadata": {
    "collapsed": false
   },
   "id": "5ae65ae9cfd9cc5d"
  },
  {
   "cell_type": "code",
   "execution_count": 5,
   "id": "initial_id",
   "metadata": {
    "collapsed": true,
    "ExecuteTime": {
     "end_time": "2024-03-24T16:24:06.642871481Z",
     "start_time": "2024-03-24T16:24:06.597734722Z"
    }
   },
   "outputs": [],
   "source": [
    "class ApartmentClassifier(pl.LightningModule):\n",
    "    def __init__(\n",
    "            self,\n",
    "            input_size,\n",
    "            output_size,\n",
    "    ):\n",
    "        super(ApartmentClassifier, self).__init__()\n",
    "\n",
    "        self.l1 = nn.Linear(input_size, 512)\n",
    "        self.l2 = nn.Linear(512, 512)\n",
    "        self.l3 = nn.Linear(512, 256)\n",
    "        self.l4 = nn.Linear(256, 128)\n",
    "        self.l5 = nn.Linear(128, 32)\n",
    "        self.l6 = nn.Linear(32, output_size)\n",
    "        \n",
    "        self._cross_entropy_loss = torch.nn.CrossEntropyLoss(\n",
    "            weight=torch.FloatTensor([2.5, 1, 4]).cuda()\n",
    "        )\n",
    "                \n",
    "        self._accuracy = torchmetrics.classification.MulticlassAccuracy(num_classes=3).to(device)\n",
    "        self._accuracy_per_class = torchmetrics.classification.MulticlassAccuracy(num_classes=3, average='none').to(device)\n",
    "        self._f1 = torchmetrics.classification.MulticlassF1Score(num_classes=3).to(device)\n",
    "        self._f1_per_class = torchmetrics.classification.MulticlassF1Score(num_classes=3, average='none').to(device)\n",
    "\n",
    "    def forward(self, x: torch.Tensor):\n",
    "        # todo batchnorm\n",
    "\n",
    "        x = self.l1(x)\n",
    "        x = torch.relu(x)\n",
    "        x = self.l2(x)\n",
    "        x = torch.relu(x)\n",
    "        x = self.l3(x)\n",
    "        x = torch.relu(x)\n",
    "        x = self.l4(x)\n",
    "        x = torch.relu(x)\n",
    "        x = self.l5(x)\n",
    "        x = torch.relu(x)\n",
    "        x = self.l6(x)\n",
    "        return x.float()\n",
    "    \n",
    "    def configure_optimizers(self):\n",
    "        return torch.optim.Adam(self.parameters(), lr=1e-3, weight_decay=1e-5)\n",
    "    \n",
    "    def loss(self, logits, labels):\n",
    "        return self._cross_entropy_loss(logits, labels)\n",
    "    \n",
    "    def training_step(self, train_batch, batch_idx):\n",
    "        x, y = train_batch\n",
    "        logits = self.forward(x)\n",
    "        loss = self.loss(logits, y)\n",
    "        self.log('train_loss', loss, on_step=False, on_epoch=True)\n",
    "        return loss\n",
    "    \n",
    "    def validation_step(self, val_batch, batch_idx):\n",
    "        x, y = val_batch\n",
    "        logits = self.forward(x)\n",
    "        loss = self.loss(logits, y)\n",
    "        self.log('val_loss', loss, on_step=False, on_epoch=True)\n",
    "        return loss\n",
    "            \n",
    "    def test_step(self, test_batch, batch_idx):\n",
    "        x, y = test_batch\n",
    "        label = torch.argmax(y, dim=1)\n",
    "        logits = self.forward(x)\n",
    "        loss = self.loss(logits, y)\n",
    "        self.log('test_loss', loss, on_step=False, on_epoch=True)\n",
    "        acc = self._accuracy(torch.argmax(logits, dim=1), torch.argmax(y, dim=1))\n",
    "        self.log('test_mean_acc', acc, on_step=False, on_epoch=True)\n",
    "        acc_per_class = self._accuracy_per_class(torch.argmax(logits, dim=1), torch.argmax(y, dim=1))\n",
    "        self.log(f'test_acc_{labels_to_names[label[0]]}', acc_per_class[label], on_step=False, on_epoch=True)\n",
    "        f1 = self._f1(torch.argmax(logits, dim=1), torch.argmax(y, dim=1))\n",
    "        self.log('test_mean_f1', f1, on_step=False, on_epoch=True)\n",
    "        f1_per_class = self._f1_per_class(torch.argmax(logits, dim=1), torch.argmax(y, dim=1))\n",
    "        self.log(f'test_f1_{labels_to_names[label[0]]}', f1_per_class[label], on_step=False, on_epoch=True)"
   ]
  },
  {
   "cell_type": "code",
   "execution_count": 6,
   "outputs": [],
   "source": [
    "import pandas as pd"
   ],
   "metadata": {
    "collapsed": false,
    "ExecuteTime": {
     "end_time": "2024-03-24T16:24:06.798482294Z",
     "start_time": "2024-03-24T16:24:06.642768741Z"
    }
   },
   "id": "1dbad76c99ee1ae3"
  },
  {
   "cell_type": "code",
   "execution_count": 7,
   "outputs": [
    {
     "data": {
      "text/plain": "      SalePrice  YearBuilt  Size(sqf)  Floor HallwayType         HeatingType  \\\n0        141592       2006        814      3    terraced  individual_heating   \n1         51327       1985        587      8    corridor  individual_heating   \n2         48672       1985        587      6    corridor  individual_heating   \n3        380530       2006       2056      8    terraced  individual_heating   \n4         78318       1992        644      2       mixed  individual_heating   \n...         ...        ...        ...    ...         ...                 ...   \n4119     570796       2007       1928     24    terraced  individual_heating   \n4120     307079       2015        644     22    terraced  individual_heating   \n4121     357522       2007        868     20    terraced  individual_heating   \n4122     312389       1978       1327      1    corridor  individual_heating   \n4123     393805       2007        868     13    terraced  individual_heating   \n\n            AptManageType  N_Parkinglot(Ground)  N_Parkinglot(Basement)  \\\n0     management_in_trust                 111.0                   184.0   \n1         self_management                  80.0                    76.0   \n2         self_management                  80.0                    76.0   \n3     management_in_trust                 249.0                   536.0   \n4         self_management                 142.0                    79.0   \n...                   ...                   ...                     ...   \n4119  management_in_trust                   0.0                  1270.0   \n4120  management_in_trust                 102.0                   400.0   \n4121  management_in_trust                   0.0                  1270.0   \n4122      self_management                  87.0                     0.0   \n4123  management_in_trust                   0.0                  1270.0   \n\n     TimeToBusStop TimeToSubway  N_manager  N_elevators  \\\n0       5min~10min  10min~15min        3.0          0.0   \n1           0~5min   5min~10min        2.0          2.0   \n2           0~5min   5min~10min        2.0          2.0   \n3           0~5min       0-5min        5.0         11.0   \n4       5min~10min  15min~20min        4.0          8.0   \n...            ...          ...        ...          ...   \n4119        0~5min       0-5min       14.0         16.0   \n4120        0~5min   5min~10min        5.0         10.0   \n4121        0~5min       0-5min       14.0         16.0   \n4122        0~5min       0-5min        1.0          4.0   \n4123        0~5min       0-5min       14.0         16.0   \n\n              SubwayStation  N_FacilitiesInApt  N_FacilitiesNearBy(Total)  \\\n0     Kyungbuk_uni_hospital                  5                        6.0   \n1                     Daegu                  3                       12.0   \n2                     Daegu                  3                       12.0   \n3                   Sin-nam                  5                        3.0   \n4                 Myung-duk                  3                        9.0   \n...                     ...                ...                        ...   \n4119  Kyungbuk_uni_hospital                 10                        9.0   \n4120                  Daegu                  7                        7.0   \n4121  Kyungbuk_uni_hospital                 10                        9.0   \n4122  Kyungbuk_uni_hospital                  3                        7.0   \n4123  Kyungbuk_uni_hospital                 10                        9.0   \n\n      N_SchoolNearBy(Total)  \n0                       9.0  \n1                       4.0  \n2                       4.0  \n3                       7.0  \n4                      14.0  \n...                     ...  \n4119                   10.0  \n4120                   11.0  \n4121                   10.0  \n4122                   11.0  \n4123                   10.0  \n\n[4124 rows x 17 columns]",
      "text/html": "<div>\n<style scoped>\n    .dataframe tbody tr th:only-of-type {\n        vertical-align: middle;\n    }\n\n    .dataframe tbody tr th {\n        vertical-align: top;\n    }\n\n    .dataframe thead th {\n        text-align: right;\n    }\n</style>\n<table border=\"1\" class=\"dataframe\">\n  <thead>\n    <tr style=\"text-align: right;\">\n      <th></th>\n      <th>SalePrice</th>\n      <th>YearBuilt</th>\n      <th>Size(sqf)</th>\n      <th>Floor</th>\n      <th>HallwayType</th>\n      <th>HeatingType</th>\n      <th>AptManageType</th>\n      <th>N_Parkinglot(Ground)</th>\n      <th>N_Parkinglot(Basement)</th>\n      <th>TimeToBusStop</th>\n      <th>TimeToSubway</th>\n      <th>N_manager</th>\n      <th>N_elevators</th>\n      <th>SubwayStation</th>\n      <th>N_FacilitiesInApt</th>\n      <th>N_FacilitiesNearBy(Total)</th>\n      <th>N_SchoolNearBy(Total)</th>\n    </tr>\n  </thead>\n  <tbody>\n    <tr>\n      <th>0</th>\n      <td>141592</td>\n      <td>2006</td>\n      <td>814</td>\n      <td>3</td>\n      <td>terraced</td>\n      <td>individual_heating</td>\n      <td>management_in_trust</td>\n      <td>111.0</td>\n      <td>184.0</td>\n      <td>5min~10min</td>\n      <td>10min~15min</td>\n      <td>3.0</td>\n      <td>0.0</td>\n      <td>Kyungbuk_uni_hospital</td>\n      <td>5</td>\n      <td>6.0</td>\n      <td>9.0</td>\n    </tr>\n    <tr>\n      <th>1</th>\n      <td>51327</td>\n      <td>1985</td>\n      <td>587</td>\n      <td>8</td>\n      <td>corridor</td>\n      <td>individual_heating</td>\n      <td>self_management</td>\n      <td>80.0</td>\n      <td>76.0</td>\n      <td>0~5min</td>\n      <td>5min~10min</td>\n      <td>2.0</td>\n      <td>2.0</td>\n      <td>Daegu</td>\n      <td>3</td>\n      <td>12.0</td>\n      <td>4.0</td>\n    </tr>\n    <tr>\n      <th>2</th>\n      <td>48672</td>\n      <td>1985</td>\n      <td>587</td>\n      <td>6</td>\n      <td>corridor</td>\n      <td>individual_heating</td>\n      <td>self_management</td>\n      <td>80.0</td>\n      <td>76.0</td>\n      <td>0~5min</td>\n      <td>5min~10min</td>\n      <td>2.0</td>\n      <td>2.0</td>\n      <td>Daegu</td>\n      <td>3</td>\n      <td>12.0</td>\n      <td>4.0</td>\n    </tr>\n    <tr>\n      <th>3</th>\n      <td>380530</td>\n      <td>2006</td>\n      <td>2056</td>\n      <td>8</td>\n      <td>terraced</td>\n      <td>individual_heating</td>\n      <td>management_in_trust</td>\n      <td>249.0</td>\n      <td>536.0</td>\n      <td>0~5min</td>\n      <td>0-5min</td>\n      <td>5.0</td>\n      <td>11.0</td>\n      <td>Sin-nam</td>\n      <td>5</td>\n      <td>3.0</td>\n      <td>7.0</td>\n    </tr>\n    <tr>\n      <th>4</th>\n      <td>78318</td>\n      <td>1992</td>\n      <td>644</td>\n      <td>2</td>\n      <td>mixed</td>\n      <td>individual_heating</td>\n      <td>self_management</td>\n      <td>142.0</td>\n      <td>79.0</td>\n      <td>5min~10min</td>\n      <td>15min~20min</td>\n      <td>4.0</td>\n      <td>8.0</td>\n      <td>Myung-duk</td>\n      <td>3</td>\n      <td>9.0</td>\n      <td>14.0</td>\n    </tr>\n    <tr>\n      <th>...</th>\n      <td>...</td>\n      <td>...</td>\n      <td>...</td>\n      <td>...</td>\n      <td>...</td>\n      <td>...</td>\n      <td>...</td>\n      <td>...</td>\n      <td>...</td>\n      <td>...</td>\n      <td>...</td>\n      <td>...</td>\n      <td>...</td>\n      <td>...</td>\n      <td>...</td>\n      <td>...</td>\n      <td>...</td>\n    </tr>\n    <tr>\n      <th>4119</th>\n      <td>570796</td>\n      <td>2007</td>\n      <td>1928</td>\n      <td>24</td>\n      <td>terraced</td>\n      <td>individual_heating</td>\n      <td>management_in_trust</td>\n      <td>0.0</td>\n      <td>1270.0</td>\n      <td>0~5min</td>\n      <td>0-5min</td>\n      <td>14.0</td>\n      <td>16.0</td>\n      <td>Kyungbuk_uni_hospital</td>\n      <td>10</td>\n      <td>9.0</td>\n      <td>10.0</td>\n    </tr>\n    <tr>\n      <th>4120</th>\n      <td>307079</td>\n      <td>2015</td>\n      <td>644</td>\n      <td>22</td>\n      <td>terraced</td>\n      <td>individual_heating</td>\n      <td>management_in_trust</td>\n      <td>102.0</td>\n      <td>400.0</td>\n      <td>0~5min</td>\n      <td>5min~10min</td>\n      <td>5.0</td>\n      <td>10.0</td>\n      <td>Daegu</td>\n      <td>7</td>\n      <td>7.0</td>\n      <td>11.0</td>\n    </tr>\n    <tr>\n      <th>4121</th>\n      <td>357522</td>\n      <td>2007</td>\n      <td>868</td>\n      <td>20</td>\n      <td>terraced</td>\n      <td>individual_heating</td>\n      <td>management_in_trust</td>\n      <td>0.0</td>\n      <td>1270.0</td>\n      <td>0~5min</td>\n      <td>0-5min</td>\n      <td>14.0</td>\n      <td>16.0</td>\n      <td>Kyungbuk_uni_hospital</td>\n      <td>10</td>\n      <td>9.0</td>\n      <td>10.0</td>\n    </tr>\n    <tr>\n      <th>4122</th>\n      <td>312389</td>\n      <td>1978</td>\n      <td>1327</td>\n      <td>1</td>\n      <td>corridor</td>\n      <td>individual_heating</td>\n      <td>self_management</td>\n      <td>87.0</td>\n      <td>0.0</td>\n      <td>0~5min</td>\n      <td>0-5min</td>\n      <td>1.0</td>\n      <td>4.0</td>\n      <td>Kyungbuk_uni_hospital</td>\n      <td>3</td>\n      <td>7.0</td>\n      <td>11.0</td>\n    </tr>\n    <tr>\n      <th>4123</th>\n      <td>393805</td>\n      <td>2007</td>\n      <td>868</td>\n      <td>13</td>\n      <td>terraced</td>\n      <td>individual_heating</td>\n      <td>management_in_trust</td>\n      <td>0.0</td>\n      <td>1270.0</td>\n      <td>0~5min</td>\n      <td>0-5min</td>\n      <td>14.0</td>\n      <td>16.0</td>\n      <td>Kyungbuk_uni_hospital</td>\n      <td>10</td>\n      <td>9.0</td>\n      <td>10.0</td>\n    </tr>\n  </tbody>\n</table>\n<p>4124 rows × 17 columns</p>\n</div>"
     },
     "execution_count": 7,
     "metadata": {},
     "output_type": "execute_result"
    }
   ],
   "source": [
    "TRAIN_DATA = Path('data/train_data.csv')\n",
    "\n",
    "_df = pd.read_csv(TRAIN_DATA)\n",
    "_df"
   ],
   "metadata": {
    "collapsed": false,
    "ExecuteTime": {
     "end_time": "2024-03-24T16:24:06.863520648Z",
     "start_time": "2024-03-24T16:24:06.799315778Z"
    }
   },
   "id": "e4c99740fc3e40a3"
  },
  {
   "cell_type": "code",
   "execution_count": 8,
   "outputs": [
    {
     "data": {
      "text/plain": "      SalePrice  YearBuilt  Size(sqf)  Floor  N_manager  N_elevators  \\\n0        141592       2006        814      3        3.0          0.0   \n1         51327       1985        587      8        2.0          2.0   \n2         48672       1985        587      6        2.0          2.0   \n3        380530       2006       2056      8        5.0         11.0   \n4         78318       1992        644      2        4.0          8.0   \n...         ...        ...        ...    ...        ...          ...   \n4119     570796       2007       1928     24       14.0         16.0   \n4120     307079       2015        644     22        5.0         10.0   \n4121     357522       2007        868     20       14.0         16.0   \n4122     312389       1978       1327      1        1.0          4.0   \n4123     393805       2007        868     13       14.0         16.0   \n\n      N_FacilitiesInApt  N_FacilitiesNearBy(Total)  N_SchoolNearBy(Total)  \\\n0                     5                        6.0                    9.0   \n1                     3                       12.0                    4.0   \n2                     3                       12.0                    4.0   \n3                     5                        3.0                    7.0   \n4                     3                        9.0                   14.0   \n...                 ...                        ...                    ...   \n4119                 10                        9.0                   10.0   \n4120                  7                        7.0                   11.0   \n4121                 10                        9.0                   10.0   \n4122                  3                        7.0                   11.0   \n4123                 10                        9.0                   10.0   \n\n      HallwayType_corridor  ...  TimeToSubway_5min~10min  \\\n0                        0  ...                        0   \n1                        1  ...                        1   \n2                        1  ...                        1   \n3                        0  ...                        0   \n4                        0  ...                        0   \n...                    ...  ...                      ...   \n4119                     0  ...                        0   \n4120                     0  ...                        1   \n4121                     0  ...                        0   \n4122                     1  ...                        0   \n4123                     0  ...                        0   \n\n      TimeToSubway_no_bus_stop_nearby  SubwayStation_Bangoge  \\\n0                                   0                      0   \n1                                   0                      0   \n2                                   0                      0   \n3                                   0                      0   \n4                                   0                      0   \n...                               ...                    ...   \n4119                                0                      0   \n4120                                0                      0   \n4121                                0                      0   \n4122                                0                      0   \n4123                                0                      0   \n\n      SubwayStation_Banwoldang  SubwayStation_Chil-sung-market  \\\n0                            0                               0   \n1                            0                               0   \n2                            0                               0   \n3                            0                               0   \n4                            0                               0   \n...                        ...                             ...   \n4119                         0                               0   \n4120                         0                               0   \n4121                         0                               0   \n4122                         0                               0   \n4123                         0                               0   \n\n      SubwayStation_Daegu  SubwayStation_Kyungbuk_uni_hospital  \\\n0                       0                                    1   \n1                       1                                    0   \n2                       1                                    0   \n3                       0                                    0   \n4                       0                                    0   \n...                   ...                                  ...   \n4119                    0                                    1   \n4120                    1                                    0   \n4121                    0                                    1   \n4122                    0                                    1   \n4123                    0                                    1   \n\n      SubwayStation_Myung-duk  SubwayStation_Sin-nam  \\\n0                           0                      0   \n1                           0                      0   \n2                           0                      0   \n3                           0                      1   \n4                           1                      0   \n...                       ...                    ...   \n4119                        0                      0   \n4120                        0                      0   \n4121                        0                      0   \n4122                        0                      0   \n4123                        0                      0   \n\n      SubwayStation_no_subway_nearby  \n0                                  0  \n1                                  0  \n2                                  0  \n3                                  0  \n4                                  0  \n...                              ...  \n4119                               0  \n4120                               0  \n4121                               0  \n4122                               0  \n4123                               0  \n\n[4124 rows x 75 columns]",
      "text/html": "<div>\n<style scoped>\n    .dataframe tbody tr th:only-of-type {\n        vertical-align: middle;\n    }\n\n    .dataframe tbody tr th {\n        vertical-align: top;\n    }\n\n    .dataframe thead th {\n        text-align: right;\n    }\n</style>\n<table border=\"1\" class=\"dataframe\">\n  <thead>\n    <tr style=\"text-align: right;\">\n      <th></th>\n      <th>SalePrice</th>\n      <th>YearBuilt</th>\n      <th>Size(sqf)</th>\n      <th>Floor</th>\n      <th>N_manager</th>\n      <th>N_elevators</th>\n      <th>N_FacilitiesInApt</th>\n      <th>N_FacilitiesNearBy(Total)</th>\n      <th>N_SchoolNearBy(Total)</th>\n      <th>HallwayType_corridor</th>\n      <th>...</th>\n      <th>TimeToSubway_5min~10min</th>\n      <th>TimeToSubway_no_bus_stop_nearby</th>\n      <th>SubwayStation_Bangoge</th>\n      <th>SubwayStation_Banwoldang</th>\n      <th>SubwayStation_Chil-sung-market</th>\n      <th>SubwayStation_Daegu</th>\n      <th>SubwayStation_Kyungbuk_uni_hospital</th>\n      <th>SubwayStation_Myung-duk</th>\n      <th>SubwayStation_Sin-nam</th>\n      <th>SubwayStation_no_subway_nearby</th>\n    </tr>\n  </thead>\n  <tbody>\n    <tr>\n      <th>0</th>\n      <td>141592</td>\n      <td>2006</td>\n      <td>814</td>\n      <td>3</td>\n      <td>3.0</td>\n      <td>0.0</td>\n      <td>5</td>\n      <td>6.0</td>\n      <td>9.0</td>\n      <td>0</td>\n      <td>...</td>\n      <td>0</td>\n      <td>0</td>\n      <td>0</td>\n      <td>0</td>\n      <td>0</td>\n      <td>0</td>\n      <td>1</td>\n      <td>0</td>\n      <td>0</td>\n      <td>0</td>\n    </tr>\n    <tr>\n      <th>1</th>\n      <td>51327</td>\n      <td>1985</td>\n      <td>587</td>\n      <td>8</td>\n      <td>2.0</td>\n      <td>2.0</td>\n      <td>3</td>\n      <td>12.0</td>\n      <td>4.0</td>\n      <td>1</td>\n      <td>...</td>\n      <td>1</td>\n      <td>0</td>\n      <td>0</td>\n      <td>0</td>\n      <td>0</td>\n      <td>1</td>\n      <td>0</td>\n      <td>0</td>\n      <td>0</td>\n      <td>0</td>\n    </tr>\n    <tr>\n      <th>2</th>\n      <td>48672</td>\n      <td>1985</td>\n      <td>587</td>\n      <td>6</td>\n      <td>2.0</td>\n      <td>2.0</td>\n      <td>3</td>\n      <td>12.0</td>\n      <td>4.0</td>\n      <td>1</td>\n      <td>...</td>\n      <td>1</td>\n      <td>0</td>\n      <td>0</td>\n      <td>0</td>\n      <td>0</td>\n      <td>1</td>\n      <td>0</td>\n      <td>0</td>\n      <td>0</td>\n      <td>0</td>\n    </tr>\n    <tr>\n      <th>3</th>\n      <td>380530</td>\n      <td>2006</td>\n      <td>2056</td>\n      <td>8</td>\n      <td>5.0</td>\n      <td>11.0</td>\n      <td>5</td>\n      <td>3.0</td>\n      <td>7.0</td>\n      <td>0</td>\n      <td>...</td>\n      <td>0</td>\n      <td>0</td>\n      <td>0</td>\n      <td>0</td>\n      <td>0</td>\n      <td>0</td>\n      <td>0</td>\n      <td>0</td>\n      <td>1</td>\n      <td>0</td>\n    </tr>\n    <tr>\n      <th>4</th>\n      <td>78318</td>\n      <td>1992</td>\n      <td>644</td>\n      <td>2</td>\n      <td>4.0</td>\n      <td>8.0</td>\n      <td>3</td>\n      <td>9.0</td>\n      <td>14.0</td>\n      <td>0</td>\n      <td>...</td>\n      <td>0</td>\n      <td>0</td>\n      <td>0</td>\n      <td>0</td>\n      <td>0</td>\n      <td>0</td>\n      <td>0</td>\n      <td>1</td>\n      <td>0</td>\n      <td>0</td>\n    </tr>\n    <tr>\n      <th>...</th>\n      <td>...</td>\n      <td>...</td>\n      <td>...</td>\n      <td>...</td>\n      <td>...</td>\n      <td>...</td>\n      <td>...</td>\n      <td>...</td>\n      <td>...</td>\n      <td>...</td>\n      <td>...</td>\n      <td>...</td>\n      <td>...</td>\n      <td>...</td>\n      <td>...</td>\n      <td>...</td>\n      <td>...</td>\n      <td>...</td>\n      <td>...</td>\n      <td>...</td>\n      <td>...</td>\n    </tr>\n    <tr>\n      <th>4119</th>\n      <td>570796</td>\n      <td>2007</td>\n      <td>1928</td>\n      <td>24</td>\n      <td>14.0</td>\n      <td>16.0</td>\n      <td>10</td>\n      <td>9.0</td>\n      <td>10.0</td>\n      <td>0</td>\n      <td>...</td>\n      <td>0</td>\n      <td>0</td>\n      <td>0</td>\n      <td>0</td>\n      <td>0</td>\n      <td>0</td>\n      <td>1</td>\n      <td>0</td>\n      <td>0</td>\n      <td>0</td>\n    </tr>\n    <tr>\n      <th>4120</th>\n      <td>307079</td>\n      <td>2015</td>\n      <td>644</td>\n      <td>22</td>\n      <td>5.0</td>\n      <td>10.0</td>\n      <td>7</td>\n      <td>7.0</td>\n      <td>11.0</td>\n      <td>0</td>\n      <td>...</td>\n      <td>1</td>\n      <td>0</td>\n      <td>0</td>\n      <td>0</td>\n      <td>0</td>\n      <td>1</td>\n      <td>0</td>\n      <td>0</td>\n      <td>0</td>\n      <td>0</td>\n    </tr>\n    <tr>\n      <th>4121</th>\n      <td>357522</td>\n      <td>2007</td>\n      <td>868</td>\n      <td>20</td>\n      <td>14.0</td>\n      <td>16.0</td>\n      <td>10</td>\n      <td>9.0</td>\n      <td>10.0</td>\n      <td>0</td>\n      <td>...</td>\n      <td>0</td>\n      <td>0</td>\n      <td>0</td>\n      <td>0</td>\n      <td>0</td>\n      <td>0</td>\n      <td>1</td>\n      <td>0</td>\n      <td>0</td>\n      <td>0</td>\n    </tr>\n    <tr>\n      <th>4122</th>\n      <td>312389</td>\n      <td>1978</td>\n      <td>1327</td>\n      <td>1</td>\n      <td>1.0</td>\n      <td>4.0</td>\n      <td>3</td>\n      <td>7.0</td>\n      <td>11.0</td>\n      <td>1</td>\n      <td>...</td>\n      <td>0</td>\n      <td>0</td>\n      <td>0</td>\n      <td>0</td>\n      <td>0</td>\n      <td>0</td>\n      <td>1</td>\n      <td>0</td>\n      <td>0</td>\n      <td>0</td>\n    </tr>\n    <tr>\n      <th>4123</th>\n      <td>393805</td>\n      <td>2007</td>\n      <td>868</td>\n      <td>13</td>\n      <td>14.0</td>\n      <td>16.0</td>\n      <td>10</td>\n      <td>9.0</td>\n      <td>10.0</td>\n      <td>0</td>\n      <td>...</td>\n      <td>0</td>\n      <td>0</td>\n      <td>0</td>\n      <td>0</td>\n      <td>0</td>\n      <td>0</td>\n      <td>1</td>\n      <td>0</td>\n      <td>0</td>\n      <td>0</td>\n    </tr>\n  </tbody>\n</table>\n<p>4124 rows × 75 columns</p>\n</div>"
     },
     "execution_count": 8,
     "metadata": {},
     "output_type": "execute_result"
    }
   ],
   "source": [
    "categorical_cols = [\n",
    "    'HallwayType',\n",
    "    'HeatingType',\n",
    "    'AptManageType',\n",
    "    'N_Parkinglot(Ground)',\n",
    "    'N_Parkinglot(Basement)',\n",
    "    'TimeToBusStop',\n",
    "    'TimeToSubway',\n",
    "    'SubwayStation',\n",
    "]\n",
    "\n",
    "df = pd.concat([_df.drop(columns=categorical_cols), *[pd.get_dummies(_df[col], prefix=col, dtype=int) for col in categorical_cols]], axis=1)\n",
    "df"
   ],
   "metadata": {
    "collapsed": false,
    "ExecuteTime": {
     "end_time": "2024-03-24T16:24:06.864075471Z",
     "start_time": "2024-03-24T16:24:06.857809185Z"
    }
   },
   "id": "2d5e74a8616f0a8e"
  },
  {
   "cell_type": "code",
   "execution_count": 9,
   "outputs": [
    {
     "data": {
      "text/plain": "          0      1      2\n0     False   True  False\n1      True  False  False\n2      True  False  False\n3     False  False   True\n4      True  False  False\n...     ...    ...    ...\n4119  False  False   True\n4120  False   True  False\n4121  False  False   True\n4122  False   True  False\n4123  False  False   True\n\n[4124 rows x 3 columns]",
      "text/html": "<div>\n<style scoped>\n    .dataframe tbody tr th:only-of-type {\n        vertical-align: middle;\n    }\n\n    .dataframe tbody tr th {\n        vertical-align: top;\n    }\n\n    .dataframe thead th {\n        text-align: right;\n    }\n</style>\n<table border=\"1\" class=\"dataframe\">\n  <thead>\n    <tr style=\"text-align: right;\">\n      <th></th>\n      <th>0</th>\n      <th>1</th>\n      <th>2</th>\n    </tr>\n  </thead>\n  <tbody>\n    <tr>\n      <th>0</th>\n      <td>False</td>\n      <td>True</td>\n      <td>False</td>\n    </tr>\n    <tr>\n      <th>1</th>\n      <td>True</td>\n      <td>False</td>\n      <td>False</td>\n    </tr>\n    <tr>\n      <th>2</th>\n      <td>True</td>\n      <td>False</td>\n      <td>False</td>\n    </tr>\n    <tr>\n      <th>3</th>\n      <td>False</td>\n      <td>False</td>\n      <td>True</td>\n    </tr>\n    <tr>\n      <th>4</th>\n      <td>True</td>\n      <td>False</td>\n      <td>False</td>\n    </tr>\n    <tr>\n      <th>...</th>\n      <td>...</td>\n      <td>...</td>\n      <td>...</td>\n    </tr>\n    <tr>\n      <th>4119</th>\n      <td>False</td>\n      <td>False</td>\n      <td>True</td>\n    </tr>\n    <tr>\n      <th>4120</th>\n      <td>False</td>\n      <td>True</td>\n      <td>False</td>\n    </tr>\n    <tr>\n      <th>4121</th>\n      <td>False</td>\n      <td>False</td>\n      <td>True</td>\n    </tr>\n    <tr>\n      <th>4122</th>\n      <td>False</td>\n      <td>True</td>\n      <td>False</td>\n    </tr>\n    <tr>\n      <th>4123</th>\n      <td>False</td>\n      <td>False</td>\n      <td>True</td>\n    </tr>\n  </tbody>\n</table>\n<p>4124 rows × 3 columns</p>\n</div>"
     },
     "execution_count": 9,
     "metadata": {},
     "output_type": "execute_result"
    }
   ],
   "source": [
    "def price_to_class(price: int) -> int:\n",
    "    return int(price > 350_000) + int(price > 100_000)\n",
    "\n",
    "features = df.drop(columns=['SalePrice'])\n",
    "labels = pd.get_dummies(df['SalePrice'].rename('class').apply(price_to_class))\n",
    "labels"
   ],
   "metadata": {
    "collapsed": false,
    "ExecuteTime": {
     "end_time": "2024-03-24T16:24:06.866744942Z",
     "start_time": "2024-03-24T16:24:06.857982730Z"
    }
   },
   "id": "165f4a20e9d1dec8"
  },
  {
   "cell_type": "code",
   "execution_count": 10,
   "outputs": [],
   "source": [
    "dataset = ApartmentDataset(features=features.values, labels=labels.values)\n",
    "data_module = ApartmentDataModule(dataset=dataset)"
   ],
   "metadata": {
    "collapsed": false,
    "ExecuteTime": {
     "end_time": "2024-03-24T16:24:06.866816511Z",
     "start_time": "2024-03-24T16:24:06.858037574Z"
    }
   },
   "id": "a6eacddaaff24735"
  },
  {
   "cell_type": "code",
   "execution_count": 11,
   "outputs": [],
   "source": [
    "model = ApartmentClassifier(input_size=len(features.columns), output_size=3)"
   ],
   "metadata": {
    "collapsed": false,
    "ExecuteTime": {
     "end_time": "2024-03-24T16:24:06.981852686Z",
     "start_time": "2024-03-24T16:24:06.858074366Z"
    }
   },
   "id": "c4b6507927197bae"
  },
  {
   "cell_type": "code",
   "execution_count": 12,
   "outputs": [
    {
     "name": "stderr",
     "output_type": "stream",
     "text": [
      "GPU available: True (cuda), used: True\n",
      "TPU available: False, using: 0 TPU cores\n",
      "IPU available: False, using: 0 IPUs\n",
      "HPU available: False, using: 0 HPUs\n",
      "LOCAL_RANK: 0 - CUDA_VISIBLE_DEVICES: [0]\n",
      "\n",
      "   | Name                | Type               | Params\n",
      "------------------------------------------------------------\n",
      "0  | l1                  | Linear             | 38.4 K\n",
      "1  | l2                  | Linear             | 262 K \n",
      "2  | l3                  | Linear             | 131 K \n",
      "3  | l4                  | Linear             | 32.9 K\n",
      "4  | l5                  | Linear             | 4.1 K \n",
      "5  | l6                  | Linear             | 99    \n",
      "6  | _cross_entropy_loss | CrossEntropyLoss   | 0     \n",
      "7  | _accuracy           | MulticlassAccuracy | 0     \n",
      "8  | _accuracy_per_class | MulticlassAccuracy | 0     \n",
      "9  | _f1                 | MulticlassF1Score  | 0     \n",
      "10 | _f1_per_class       | MulticlassF1Score  | 0     \n",
      "------------------------------------------------------------\n",
      "469 K     Trainable params\n",
      "0         Non-trainable params\n",
      "469 K     Total params\n",
      "1.878     Total estimated model params size (MB)\n",
      "/home/tomek/miniconda3/envs/ssne_p2/lib/python3.11/site-packages/pytorch_lightning/loops/fit_loop.py:280: PossibleUserWarning: The number of training batches (7) is smaller than the logging interval Trainer(log_every_n_steps=50). Set a lower value for log_every_n_steps if you want to see logs for the training epoch.\n",
      "  rank_zero_warn(\n",
      "`Trainer.fit` stopped: `max_epochs=250` reached.\n"
     ]
    }
   ],
   "source": [
    "trainer = pl.Trainer(max_epochs=250, enable_progress_bar=False)\n",
    "trainer.fit(model, datamodule=data_module)\n",
    "\n",
    "# `tensorboard --logdir=lightning_logs` to launch tensorboard"
   ],
   "metadata": {
    "collapsed": false,
    "ExecuteTime": {
     "end_time": "2024-03-24T16:28:52.071315997Z",
     "start_time": "2024-03-24T16:24:06.964066397Z"
    }
   },
   "id": "c5cd67506ab1bc16"
  },
  {
   "cell_type": "code",
   "execution_count": 13,
   "outputs": [
    {
     "name": "stderr",
     "output_type": "stream",
     "text": [
      "/home/tomek/miniconda3/envs/ssne_p2/lib/python3.11/site-packages/pytorch_lightning/trainer/connectors/checkpoint_connector.py:189: UserWarning: .test(ckpt_path=\"last\") is set, but there is no last checkpoint available. No checkpoint will be loaded.\n",
      "  rank_zero_warn(\n",
      "LOCAL_RANK: 0 - CUDA_VISIBLE_DEVICES: [0]\n"
     ]
    },
    {
     "data": {
      "text/plain": "┏━━━━━━━━━━━━━━━━━━━━━━━━━━━┳━━━━━━━━━━━━━━━━━━━━━━━━━━━┓\n┃\u001B[1m \u001B[0m\u001B[1m  Runningstage.testing   \u001B[0m\u001B[1m \u001B[0m┃\u001B[1m                           \u001B[0m┃\n┃\u001B[1m \u001B[0m\u001B[1m         metric          \u001B[0m\u001B[1m \u001B[0m┃\u001B[1m \u001B[0m\u001B[1m      DataLoader 0       \u001B[0m\u001B[1m \u001B[0m┃\n┡━━━━━━━━━━━━━━━━━━━━━━━━━━━╇━━━━━━━━━━━━━━━━━━━━━━━━━━━┩\n│\u001B[36m \u001B[0m\u001B[36m       test_acc_0        \u001B[0m\u001B[36m \u001B[0m│\u001B[35m \u001B[0m\u001B[35m   0.9824561476707458    \u001B[0m\u001B[35m \u001B[0m│\n│\u001B[36m \u001B[0m\u001B[36m       test_acc_1        \u001B[0m\u001B[36m \u001B[0m│\u001B[35m \u001B[0m\u001B[35m   0.7885906100273132    \u001B[0m\u001B[35m \u001B[0m│\n│\u001B[36m \u001B[0m\u001B[36m       test_acc_2        \u001B[0m\u001B[36m \u001B[0m│\u001B[35m \u001B[0m\u001B[35m   0.8245614171028137    \u001B[0m\u001B[35m \u001B[0m│\n│\u001B[36m \u001B[0m\u001B[36m        test_f1_0        \u001B[0m\u001B[36m \u001B[0m│\u001B[35m \u001B[0m\u001B[35m   0.9824561476707458    \u001B[0m\u001B[35m \u001B[0m│\n│\u001B[36m \u001B[0m\u001B[36m        test_f1_1        \u001B[0m\u001B[36m \u001B[0m│\u001B[35m \u001B[0m\u001B[35m   0.7885906100273132    \u001B[0m\u001B[35m \u001B[0m│\n│\u001B[36m \u001B[0m\u001B[36m        test_f1_2        \u001B[0m\u001B[36m \u001B[0m│\u001B[35m \u001B[0m\u001B[35m   0.8245614171028137    \u001B[0m\u001B[35m \u001B[0m│\n│\u001B[36m \u001B[0m\u001B[36m        test_loss        \u001B[0m\u001B[36m \u001B[0m│\u001B[35m \u001B[0m\u001B[35m    0.588040292263031    \u001B[0m\u001B[35m \u001B[0m│\n│\u001B[36m \u001B[0m\u001B[36m      test_mean_acc      \u001B[0m\u001B[36m \u001B[0m│\u001B[35m \u001B[0m\u001B[35m   0.8203883767127991    \u001B[0m\u001B[35m \u001B[0m│\n│\u001B[36m \u001B[0m\u001B[36m      test_mean_f1       \u001B[0m\u001B[36m \u001B[0m│\u001B[35m \u001B[0m\u001B[35m   0.8203883767127991    \u001B[0m\u001B[35m \u001B[0m│\n└───────────────────────────┴───────────────────────────┘\n",
      "text/html": "<pre style=\"white-space:pre;overflow-x:auto;line-height:normal;font-family:Menlo,'DejaVu Sans Mono',consolas,'Courier New',monospace\">┏━━━━━━━━━━━━━━━━━━━━━━━━━━━┳━━━━━━━━━━━━━━━━━━━━━━━━━━━┓\n┃<span style=\"font-weight: bold\">   Runningstage.testing    </span>┃<span style=\"font-weight: bold\">                           </span>┃\n┃<span style=\"font-weight: bold\">          metric           </span>┃<span style=\"font-weight: bold\">       DataLoader 0        </span>┃\n┡━━━━━━━━━━━━━━━━━━━━━━━━━━━╇━━━━━━━━━━━━━━━━━━━━━━━━━━━┩\n│<span style=\"color: #008080; text-decoration-color: #008080\">        test_acc_0         </span>│<span style=\"color: #800080; text-decoration-color: #800080\">    0.9824561476707458     </span>│\n│<span style=\"color: #008080; text-decoration-color: #008080\">        test_acc_1         </span>│<span style=\"color: #800080; text-decoration-color: #800080\">    0.7885906100273132     </span>│\n│<span style=\"color: #008080; text-decoration-color: #008080\">        test_acc_2         </span>│<span style=\"color: #800080; text-decoration-color: #800080\">    0.8245614171028137     </span>│\n│<span style=\"color: #008080; text-decoration-color: #008080\">         test_f1_0         </span>│<span style=\"color: #800080; text-decoration-color: #800080\">    0.9824561476707458     </span>│\n│<span style=\"color: #008080; text-decoration-color: #008080\">         test_f1_1         </span>│<span style=\"color: #800080; text-decoration-color: #800080\">    0.7885906100273132     </span>│\n│<span style=\"color: #008080; text-decoration-color: #008080\">         test_f1_2         </span>│<span style=\"color: #800080; text-decoration-color: #800080\">    0.8245614171028137     </span>│\n│<span style=\"color: #008080; text-decoration-color: #008080\">         test_loss         </span>│<span style=\"color: #800080; text-decoration-color: #800080\">     0.588040292263031     </span>│\n│<span style=\"color: #008080; text-decoration-color: #008080\">       test_mean_acc       </span>│<span style=\"color: #800080; text-decoration-color: #800080\">    0.8203883767127991     </span>│\n│<span style=\"color: #008080; text-decoration-color: #008080\">       test_mean_f1        </span>│<span style=\"color: #800080; text-decoration-color: #800080\">    0.8203883767127991     </span>│\n└───────────────────────────┴───────────────────────────┘\n</pre>\n"
     },
     "metadata": {},
     "output_type": "display_data"
    },
    {
     "data": {
      "text/plain": "[{'test_loss': 0.588040292263031,\n  'test_mean_acc': 0.8203883767127991,\n  'test_acc_0': 0.9824561476707458,\n  'test_mean_f1': 0.8203883767127991,\n  'test_f1_0': 0.9824561476707458,\n  'test_acc_2': 0.8245614171028137,\n  'test_f1_2': 0.8245614171028137,\n  'test_acc_1': 0.7885906100273132,\n  'test_f1_1': 0.7885906100273132}]"
     },
     "execution_count": 13,
     "metadata": {},
     "output_type": "execute_result"
    }
   ],
   "source": [
    "trainer.test(datamodule=data_module, ckpt_path='last')"
   ],
   "metadata": {
    "collapsed": false,
    "ExecuteTime": {
     "end_time": "2024-03-24T16:28:54.727688874Z",
     "start_time": "2024-03-24T16:28:52.073787871Z"
    }
   },
   "id": "227743e7359794"
  }
 ],
 "metadata": {
  "kernelspec": {
   "display_name": "Python 3",
   "language": "python",
   "name": "python3"
  },
  "language_info": {
   "codemirror_mode": {
    "name": "ipython",
    "version": 2
   },
   "file_extension": ".py",
   "mimetype": "text/x-python",
   "name": "python",
   "nbconvert_exporter": "python",
   "pygments_lexer": "ipython2",
   "version": "2.7.6"
  }
 },
 "nbformat": 4,
 "nbformat_minor": 5
}
