{
 "cells": [
  {
   "cell_type": "code",
   "execution_count": 1,
   "outputs": [],
   "source": [
    "from pathlib import Path\n",
    "\n",
    "import numpy as np\n",
    "import torchmetrics\n",
    "import torch\n",
    "import pytorch_lightning as pl\n",
    "import torch.nn as nn\n",
    "import torch.nn.functional as F\n",
    "from torch.utils.data import DataLoader, Dataset, random_split"
   ],
   "metadata": {
    "collapsed": false,
    "ExecuteTime": {
     "end_time": "2024-03-22T19:27:14.662649173Z",
     "start_time": "2024-03-22T19:27:12.823656547Z"
    }
   },
   "id": "20864c47f2a47c77"
  },
  {
   "cell_type": "code",
   "execution_count": 2,
   "outputs": [],
   "source": [
    "class ApartmentDataset(Dataset):\n",
    "    def __init__(self, features, labels):\n",
    "        assert len(features) == len(labels)\n",
    "        self._features = torch.from_numpy(features).float()\n",
    "        self._labels = torch.from_numpy(labels).float()\n",
    "\n",
    "    def __len__(self):\n",
    "        return len(self._features)\n",
    "\n",
    "    def __getitem__(self, idx):\n",
    "        return self._features[idx], self._labels[idx]\n",
    "    \n",
    "\n",
    "class ApartmentDataModule(pl.LightningDataModule):\n",
    "    def __init__(self, dataset: ApartmentDataset):\n",
    "        super().__init__()\n",
    "        self._dataset = dataset\n",
    "        self._train_dataset = None\n",
    "        self._val_dataset = None\n",
    "        \n",
    "    def prepare_data(self):\n",
    "        train_size = round(len(self._dataset) * 0.85)\n",
    "        self._train_dataset, self._val_dataset = random_split(self._dataset, (train_size, len(self._dataset) - train_size))\n",
    "    \n",
    "    def train_dataloader(self):\n",
    "        return DataLoader(self._train_dataset, batch_size=512, shuffle=True)\n",
    "\n",
    "    def val_dataloader(self):\n",
    "        return DataLoader(self._val_dataset, batch_size=512, shuffle=True)\n",
    "        "
   ],
   "metadata": {
    "collapsed": false,
    "ExecuteTime": {
     "end_time": "2024-03-22T19:27:14.665392802Z",
     "start_time": "2024-03-22T19:27:14.664119708Z"
    }
   },
   "id": "43e885c5f9470567"
  },
  {
   "cell_type": "code",
   "execution_count": 3,
   "id": "initial_id",
   "metadata": {
    "collapsed": true,
    "ExecuteTime": {
     "end_time": "2024-03-22T19:27:14.671333521Z",
     "start_time": "2024-03-22T19:27:14.669828412Z"
    }
   },
   "outputs": [],
   "source": [
    "class ApartmentClassifier(pl.LightningModule):\n",
    "    def __init__(\n",
    "            self,\n",
    "            input_size,\n",
    "            output_size,\n",
    "            # device: torch.device = torch.device('cuda' if torch.cuda.is_available() else 'cpu')\n",
    "    ):\n",
    "        super(ApartmentClassifier, self).__init__()\n",
    "\n",
    "        self.l1 = nn.Linear(input_size, 128)\n",
    "        self.l2 = nn.Linear(128, 64)\n",
    "        self.l3 = nn.Linear(64, 32)\n",
    "        self.l4 = nn.Linear(32, output_size)\n",
    "        \n",
    "        self.loss = torch.nn.CrossEntropyLoss(weight=torch.FloatTensor([0.45, 0.1, 0.45]).cuda())\n",
    "\n",
    "    def forward(self, x: torch.Tensor):\n",
    "        # todo batchnorm\n",
    "\n",
    "        x = self.l1(x)\n",
    "        x = torch.relu(x)\n",
    "        x = self.l2(x)\n",
    "        x = torch.relu(x)\n",
    "        x = self.l3(x)\n",
    "        x = torch.relu(x)\n",
    "        x = self.l4(x)\n",
    "        probas = torch.nn.functional.softmax(x, dim=1)\n",
    "        return probas.float()\n",
    "    \n",
    "    def configure_optimizers(self):\n",
    "        return torch.optim.Adam(self.parameters(), lr=1e-3, weight_decay=1e-6)\n",
    "    \n",
    "    def cross_entropy_loss(self, preds, labels):\n",
    "        return self.loss(preds, labels)\n",
    "    \n",
    "    def training_step(self, train_batch, batch_idx):\n",
    "        x, y = train_batch\n",
    "        preds = self.forward(x)\n",
    "        loss = self.cross_entropy_loss(preds, y)\n",
    "        # this goes straight to TensorBoard\n",
    "        self.log('train_loss', loss, on_step=False, on_epoch=True)\n",
    "        return loss\n",
    "    \n",
    "    def validation_step(self, val_batch, batch_idx):\n",
    "        x, y = val_batch\n",
    "        preds = self.forward(x)\n",
    "        loss = self.cross_entropy_loss(preds, y)\n",
    "        self.log('val_loss', loss, on_step=False, on_epoch=True)\n",
    "        return loss"
   ]
  },
  {
   "cell_type": "code",
   "execution_count": 4,
   "outputs": [],
   "source": [
    "import pandas as pd"
   ],
   "metadata": {
    "collapsed": false,
    "ExecuteTime": {
     "end_time": "2024-03-22T19:27:14.679954990Z",
     "start_time": "2024-03-22T19:27:14.672246969Z"
    }
   },
   "id": "1dbad76c99ee1ae3"
  },
  {
   "cell_type": "code",
   "execution_count": 5,
   "outputs": [
    {
     "data": {
      "text/plain": "      SalePrice  YearBuilt  Size(sqf)  Floor HallwayType         HeatingType  \\\n0        141592       2006        814      3    terraced  individual_heating   \n1         51327       1985        587      8    corridor  individual_heating   \n2         48672       1985        587      6    corridor  individual_heating   \n3        380530       2006       2056      8    terraced  individual_heating   \n4         78318       1992        644      2       mixed  individual_heating   \n...         ...        ...        ...    ...         ...                 ...   \n4119     570796       2007       1928     24    terraced  individual_heating   \n4120     307079       2015        644     22    terraced  individual_heating   \n4121     357522       2007        868     20    terraced  individual_heating   \n4122     312389       1978       1327      1    corridor  individual_heating   \n4123     393805       2007        868     13    terraced  individual_heating   \n\n            AptManageType  N_Parkinglot(Ground)  N_Parkinglot(Basement)  \\\n0     management_in_trust                 111.0                   184.0   \n1         self_management                  80.0                    76.0   \n2         self_management                  80.0                    76.0   \n3     management_in_trust                 249.0                   536.0   \n4         self_management                 142.0                    79.0   \n...                   ...                   ...                     ...   \n4119  management_in_trust                   0.0                  1270.0   \n4120  management_in_trust                 102.0                   400.0   \n4121  management_in_trust                   0.0                  1270.0   \n4122      self_management                  87.0                     0.0   \n4123  management_in_trust                   0.0                  1270.0   \n\n     TimeToBusStop TimeToSubway  N_manager  N_elevators  \\\n0       5min~10min  10min~15min        3.0          0.0   \n1           0~5min   5min~10min        2.0          2.0   \n2           0~5min   5min~10min        2.0          2.0   \n3           0~5min       0-5min        5.0         11.0   \n4       5min~10min  15min~20min        4.0          8.0   \n...            ...          ...        ...          ...   \n4119        0~5min       0-5min       14.0         16.0   \n4120        0~5min   5min~10min        5.0         10.0   \n4121        0~5min       0-5min       14.0         16.0   \n4122        0~5min       0-5min        1.0          4.0   \n4123        0~5min       0-5min       14.0         16.0   \n\n              SubwayStation  N_FacilitiesInApt  N_FacilitiesNearBy(Total)  \\\n0     Kyungbuk_uni_hospital                  5                        6.0   \n1                     Daegu                  3                       12.0   \n2                     Daegu                  3                       12.0   \n3                   Sin-nam                  5                        3.0   \n4                 Myung-duk                  3                        9.0   \n...                     ...                ...                        ...   \n4119  Kyungbuk_uni_hospital                 10                        9.0   \n4120                  Daegu                  7                        7.0   \n4121  Kyungbuk_uni_hospital                 10                        9.0   \n4122  Kyungbuk_uni_hospital                  3                        7.0   \n4123  Kyungbuk_uni_hospital                 10                        9.0   \n\n      N_SchoolNearBy(Total)  \n0                       9.0  \n1                       4.0  \n2                       4.0  \n3                       7.0  \n4                      14.0  \n...                     ...  \n4119                   10.0  \n4120                   11.0  \n4121                   10.0  \n4122                   11.0  \n4123                   10.0  \n\n[4124 rows x 17 columns]",
      "text/html": "<div>\n<style scoped>\n    .dataframe tbody tr th:only-of-type {\n        vertical-align: middle;\n    }\n\n    .dataframe tbody tr th {\n        vertical-align: top;\n    }\n\n    .dataframe thead th {\n        text-align: right;\n    }\n</style>\n<table border=\"1\" class=\"dataframe\">\n  <thead>\n    <tr style=\"text-align: right;\">\n      <th></th>\n      <th>SalePrice</th>\n      <th>YearBuilt</th>\n      <th>Size(sqf)</th>\n      <th>Floor</th>\n      <th>HallwayType</th>\n      <th>HeatingType</th>\n      <th>AptManageType</th>\n      <th>N_Parkinglot(Ground)</th>\n      <th>N_Parkinglot(Basement)</th>\n      <th>TimeToBusStop</th>\n      <th>TimeToSubway</th>\n      <th>N_manager</th>\n      <th>N_elevators</th>\n      <th>SubwayStation</th>\n      <th>N_FacilitiesInApt</th>\n      <th>N_FacilitiesNearBy(Total)</th>\n      <th>N_SchoolNearBy(Total)</th>\n    </tr>\n  </thead>\n  <tbody>\n    <tr>\n      <th>0</th>\n      <td>141592</td>\n      <td>2006</td>\n      <td>814</td>\n      <td>3</td>\n      <td>terraced</td>\n      <td>individual_heating</td>\n      <td>management_in_trust</td>\n      <td>111.0</td>\n      <td>184.0</td>\n      <td>5min~10min</td>\n      <td>10min~15min</td>\n      <td>3.0</td>\n      <td>0.0</td>\n      <td>Kyungbuk_uni_hospital</td>\n      <td>5</td>\n      <td>6.0</td>\n      <td>9.0</td>\n    </tr>\n    <tr>\n      <th>1</th>\n      <td>51327</td>\n      <td>1985</td>\n      <td>587</td>\n      <td>8</td>\n      <td>corridor</td>\n      <td>individual_heating</td>\n      <td>self_management</td>\n      <td>80.0</td>\n      <td>76.0</td>\n      <td>0~5min</td>\n      <td>5min~10min</td>\n      <td>2.0</td>\n      <td>2.0</td>\n      <td>Daegu</td>\n      <td>3</td>\n      <td>12.0</td>\n      <td>4.0</td>\n    </tr>\n    <tr>\n      <th>2</th>\n      <td>48672</td>\n      <td>1985</td>\n      <td>587</td>\n      <td>6</td>\n      <td>corridor</td>\n      <td>individual_heating</td>\n      <td>self_management</td>\n      <td>80.0</td>\n      <td>76.0</td>\n      <td>0~5min</td>\n      <td>5min~10min</td>\n      <td>2.0</td>\n      <td>2.0</td>\n      <td>Daegu</td>\n      <td>3</td>\n      <td>12.0</td>\n      <td>4.0</td>\n    </tr>\n    <tr>\n      <th>3</th>\n      <td>380530</td>\n      <td>2006</td>\n      <td>2056</td>\n      <td>8</td>\n      <td>terraced</td>\n      <td>individual_heating</td>\n      <td>management_in_trust</td>\n      <td>249.0</td>\n      <td>536.0</td>\n      <td>0~5min</td>\n      <td>0-5min</td>\n      <td>5.0</td>\n      <td>11.0</td>\n      <td>Sin-nam</td>\n      <td>5</td>\n      <td>3.0</td>\n      <td>7.0</td>\n    </tr>\n    <tr>\n      <th>4</th>\n      <td>78318</td>\n      <td>1992</td>\n      <td>644</td>\n      <td>2</td>\n      <td>mixed</td>\n      <td>individual_heating</td>\n      <td>self_management</td>\n      <td>142.0</td>\n      <td>79.0</td>\n      <td>5min~10min</td>\n      <td>15min~20min</td>\n      <td>4.0</td>\n      <td>8.0</td>\n      <td>Myung-duk</td>\n      <td>3</td>\n      <td>9.0</td>\n      <td>14.0</td>\n    </tr>\n    <tr>\n      <th>...</th>\n      <td>...</td>\n      <td>...</td>\n      <td>...</td>\n      <td>...</td>\n      <td>...</td>\n      <td>...</td>\n      <td>...</td>\n      <td>...</td>\n      <td>...</td>\n      <td>...</td>\n      <td>...</td>\n      <td>...</td>\n      <td>...</td>\n      <td>...</td>\n      <td>...</td>\n      <td>...</td>\n      <td>...</td>\n    </tr>\n    <tr>\n      <th>4119</th>\n      <td>570796</td>\n      <td>2007</td>\n      <td>1928</td>\n      <td>24</td>\n      <td>terraced</td>\n      <td>individual_heating</td>\n      <td>management_in_trust</td>\n      <td>0.0</td>\n      <td>1270.0</td>\n      <td>0~5min</td>\n      <td>0-5min</td>\n      <td>14.0</td>\n      <td>16.0</td>\n      <td>Kyungbuk_uni_hospital</td>\n      <td>10</td>\n      <td>9.0</td>\n      <td>10.0</td>\n    </tr>\n    <tr>\n      <th>4120</th>\n      <td>307079</td>\n      <td>2015</td>\n      <td>644</td>\n      <td>22</td>\n      <td>terraced</td>\n      <td>individual_heating</td>\n      <td>management_in_trust</td>\n      <td>102.0</td>\n      <td>400.0</td>\n      <td>0~5min</td>\n      <td>5min~10min</td>\n      <td>5.0</td>\n      <td>10.0</td>\n      <td>Daegu</td>\n      <td>7</td>\n      <td>7.0</td>\n      <td>11.0</td>\n    </tr>\n    <tr>\n      <th>4121</th>\n      <td>357522</td>\n      <td>2007</td>\n      <td>868</td>\n      <td>20</td>\n      <td>terraced</td>\n      <td>individual_heating</td>\n      <td>management_in_trust</td>\n      <td>0.0</td>\n      <td>1270.0</td>\n      <td>0~5min</td>\n      <td>0-5min</td>\n      <td>14.0</td>\n      <td>16.0</td>\n      <td>Kyungbuk_uni_hospital</td>\n      <td>10</td>\n      <td>9.0</td>\n      <td>10.0</td>\n    </tr>\n    <tr>\n      <th>4122</th>\n      <td>312389</td>\n      <td>1978</td>\n      <td>1327</td>\n      <td>1</td>\n      <td>corridor</td>\n      <td>individual_heating</td>\n      <td>self_management</td>\n      <td>87.0</td>\n      <td>0.0</td>\n      <td>0~5min</td>\n      <td>0-5min</td>\n      <td>1.0</td>\n      <td>4.0</td>\n      <td>Kyungbuk_uni_hospital</td>\n      <td>3</td>\n      <td>7.0</td>\n      <td>11.0</td>\n    </tr>\n    <tr>\n      <th>4123</th>\n      <td>393805</td>\n      <td>2007</td>\n      <td>868</td>\n      <td>13</td>\n      <td>terraced</td>\n      <td>individual_heating</td>\n      <td>management_in_trust</td>\n      <td>0.0</td>\n      <td>1270.0</td>\n      <td>0~5min</td>\n      <td>0-5min</td>\n      <td>14.0</td>\n      <td>16.0</td>\n      <td>Kyungbuk_uni_hospital</td>\n      <td>10</td>\n      <td>9.0</td>\n      <td>10.0</td>\n    </tr>\n  </tbody>\n</table>\n<p>4124 rows × 17 columns</p>\n</div>"
     },
     "execution_count": 5,
     "metadata": {},
     "output_type": "execute_result"
    }
   ],
   "source": [
    "TRAIN_DATA = Path('data/train_data.csv')\n",
    "\n",
    "_df = pd.read_csv(TRAIN_DATA)\n",
    "_df"
   ],
   "metadata": {
    "collapsed": false,
    "ExecuteTime": {
     "end_time": "2024-03-22T19:27:14.746519382Z",
     "start_time": "2024-03-22T19:27:14.675836249Z"
    }
   },
   "id": "e4c99740fc3e40a3"
  },
  {
   "cell_type": "code",
   "execution_count": 6,
   "outputs": [
    {
     "data": {
      "text/plain": "      SalePrice  YearBuilt  Size(sqf)  Floor  N_manager  N_elevators  \\\n0        141592       2006        814      3        3.0          0.0   \n1         51327       1985        587      8        2.0          2.0   \n2         48672       1985        587      6        2.0          2.0   \n3        380530       2006       2056      8        5.0         11.0   \n4         78318       1992        644      2        4.0          8.0   \n...         ...        ...        ...    ...        ...          ...   \n4119     570796       2007       1928     24       14.0         16.0   \n4120     307079       2015        644     22        5.0         10.0   \n4121     357522       2007        868     20       14.0         16.0   \n4122     312389       1978       1327      1        1.0          4.0   \n4123     393805       2007        868     13       14.0         16.0   \n\n      N_FacilitiesInApt  N_FacilitiesNearBy(Total)  N_SchoolNearBy(Total)  \\\n0                     5                        6.0                    9.0   \n1                     3                       12.0                    4.0   \n2                     3                       12.0                    4.0   \n3                     5                        3.0                    7.0   \n4                     3                        9.0                   14.0   \n...                 ...                        ...                    ...   \n4119                 10                        9.0                   10.0   \n4120                  7                        7.0                   11.0   \n4121                 10                        9.0                   10.0   \n4122                  3                        7.0                   11.0   \n4123                 10                        9.0                   10.0   \n\n      HallwayType_corridor  ...  TimeToSubway_5min~10min  \\\n0                        0  ...                        0   \n1                        1  ...                        1   \n2                        1  ...                        1   \n3                        0  ...                        0   \n4                        0  ...                        0   \n...                    ...  ...                      ...   \n4119                     0  ...                        0   \n4120                     0  ...                        1   \n4121                     0  ...                        0   \n4122                     1  ...                        0   \n4123                     0  ...                        0   \n\n      TimeToSubway_no_bus_stop_nearby  SubwayStation_Bangoge  \\\n0                                   0                      0   \n1                                   0                      0   \n2                                   0                      0   \n3                                   0                      0   \n4                                   0                      0   \n...                               ...                    ...   \n4119                                0                      0   \n4120                                0                      0   \n4121                                0                      0   \n4122                                0                      0   \n4123                                0                      0   \n\n      SubwayStation_Banwoldang  SubwayStation_Chil-sung-market  \\\n0                            0                               0   \n1                            0                               0   \n2                            0                               0   \n3                            0                               0   \n4                            0                               0   \n...                        ...                             ...   \n4119                         0                               0   \n4120                         0                               0   \n4121                         0                               0   \n4122                         0                               0   \n4123                         0                               0   \n\n      SubwayStation_Daegu  SubwayStation_Kyungbuk_uni_hospital  \\\n0                       0                                    1   \n1                       1                                    0   \n2                       1                                    0   \n3                       0                                    0   \n4                       0                                    0   \n...                   ...                                  ...   \n4119                    0                                    1   \n4120                    1                                    0   \n4121                    0                                    1   \n4122                    0                                    1   \n4123                    0                                    1   \n\n      SubwayStation_Myung-duk  SubwayStation_Sin-nam  \\\n0                           0                      0   \n1                           0                      0   \n2                           0                      0   \n3                           0                      1   \n4                           1                      0   \n...                       ...                    ...   \n4119                        0                      0   \n4120                        0                      0   \n4121                        0                      0   \n4122                        0                      0   \n4123                        0                      0   \n\n      SubwayStation_no_subway_nearby  \n0                                  0  \n1                                  0  \n2                                  0  \n3                                  0  \n4                                  0  \n...                              ...  \n4119                               0  \n4120                               0  \n4121                               0  \n4122                               0  \n4123                               0  \n\n[4124 rows x 75 columns]",
      "text/html": "<div>\n<style scoped>\n    .dataframe tbody tr th:only-of-type {\n        vertical-align: middle;\n    }\n\n    .dataframe tbody tr th {\n        vertical-align: top;\n    }\n\n    .dataframe thead th {\n        text-align: right;\n    }\n</style>\n<table border=\"1\" class=\"dataframe\">\n  <thead>\n    <tr style=\"text-align: right;\">\n      <th></th>\n      <th>SalePrice</th>\n      <th>YearBuilt</th>\n      <th>Size(sqf)</th>\n      <th>Floor</th>\n      <th>N_manager</th>\n      <th>N_elevators</th>\n      <th>N_FacilitiesInApt</th>\n      <th>N_FacilitiesNearBy(Total)</th>\n      <th>N_SchoolNearBy(Total)</th>\n      <th>HallwayType_corridor</th>\n      <th>...</th>\n      <th>TimeToSubway_5min~10min</th>\n      <th>TimeToSubway_no_bus_stop_nearby</th>\n      <th>SubwayStation_Bangoge</th>\n      <th>SubwayStation_Banwoldang</th>\n      <th>SubwayStation_Chil-sung-market</th>\n      <th>SubwayStation_Daegu</th>\n      <th>SubwayStation_Kyungbuk_uni_hospital</th>\n      <th>SubwayStation_Myung-duk</th>\n      <th>SubwayStation_Sin-nam</th>\n      <th>SubwayStation_no_subway_nearby</th>\n    </tr>\n  </thead>\n  <tbody>\n    <tr>\n      <th>0</th>\n      <td>141592</td>\n      <td>2006</td>\n      <td>814</td>\n      <td>3</td>\n      <td>3.0</td>\n      <td>0.0</td>\n      <td>5</td>\n      <td>6.0</td>\n      <td>9.0</td>\n      <td>0</td>\n      <td>...</td>\n      <td>0</td>\n      <td>0</td>\n      <td>0</td>\n      <td>0</td>\n      <td>0</td>\n      <td>0</td>\n      <td>1</td>\n      <td>0</td>\n      <td>0</td>\n      <td>0</td>\n    </tr>\n    <tr>\n      <th>1</th>\n      <td>51327</td>\n      <td>1985</td>\n      <td>587</td>\n      <td>8</td>\n      <td>2.0</td>\n      <td>2.0</td>\n      <td>3</td>\n      <td>12.0</td>\n      <td>4.0</td>\n      <td>1</td>\n      <td>...</td>\n      <td>1</td>\n      <td>0</td>\n      <td>0</td>\n      <td>0</td>\n      <td>0</td>\n      <td>1</td>\n      <td>0</td>\n      <td>0</td>\n      <td>0</td>\n      <td>0</td>\n    </tr>\n    <tr>\n      <th>2</th>\n      <td>48672</td>\n      <td>1985</td>\n      <td>587</td>\n      <td>6</td>\n      <td>2.0</td>\n      <td>2.0</td>\n      <td>3</td>\n      <td>12.0</td>\n      <td>4.0</td>\n      <td>1</td>\n      <td>...</td>\n      <td>1</td>\n      <td>0</td>\n      <td>0</td>\n      <td>0</td>\n      <td>0</td>\n      <td>1</td>\n      <td>0</td>\n      <td>0</td>\n      <td>0</td>\n      <td>0</td>\n    </tr>\n    <tr>\n      <th>3</th>\n      <td>380530</td>\n      <td>2006</td>\n      <td>2056</td>\n      <td>8</td>\n      <td>5.0</td>\n      <td>11.0</td>\n      <td>5</td>\n      <td>3.0</td>\n      <td>7.0</td>\n      <td>0</td>\n      <td>...</td>\n      <td>0</td>\n      <td>0</td>\n      <td>0</td>\n      <td>0</td>\n      <td>0</td>\n      <td>0</td>\n      <td>0</td>\n      <td>0</td>\n      <td>1</td>\n      <td>0</td>\n    </tr>\n    <tr>\n      <th>4</th>\n      <td>78318</td>\n      <td>1992</td>\n      <td>644</td>\n      <td>2</td>\n      <td>4.0</td>\n      <td>8.0</td>\n      <td>3</td>\n      <td>9.0</td>\n      <td>14.0</td>\n      <td>0</td>\n      <td>...</td>\n      <td>0</td>\n      <td>0</td>\n      <td>0</td>\n      <td>0</td>\n      <td>0</td>\n      <td>0</td>\n      <td>0</td>\n      <td>1</td>\n      <td>0</td>\n      <td>0</td>\n    </tr>\n    <tr>\n      <th>...</th>\n      <td>...</td>\n      <td>...</td>\n      <td>...</td>\n      <td>...</td>\n      <td>...</td>\n      <td>...</td>\n      <td>...</td>\n      <td>...</td>\n      <td>...</td>\n      <td>...</td>\n      <td>...</td>\n      <td>...</td>\n      <td>...</td>\n      <td>...</td>\n      <td>...</td>\n      <td>...</td>\n      <td>...</td>\n      <td>...</td>\n      <td>...</td>\n      <td>...</td>\n      <td>...</td>\n    </tr>\n    <tr>\n      <th>4119</th>\n      <td>570796</td>\n      <td>2007</td>\n      <td>1928</td>\n      <td>24</td>\n      <td>14.0</td>\n      <td>16.0</td>\n      <td>10</td>\n      <td>9.0</td>\n      <td>10.0</td>\n      <td>0</td>\n      <td>...</td>\n      <td>0</td>\n      <td>0</td>\n      <td>0</td>\n      <td>0</td>\n      <td>0</td>\n      <td>0</td>\n      <td>1</td>\n      <td>0</td>\n      <td>0</td>\n      <td>0</td>\n    </tr>\n    <tr>\n      <th>4120</th>\n      <td>307079</td>\n      <td>2015</td>\n      <td>644</td>\n      <td>22</td>\n      <td>5.0</td>\n      <td>10.0</td>\n      <td>7</td>\n      <td>7.0</td>\n      <td>11.0</td>\n      <td>0</td>\n      <td>...</td>\n      <td>1</td>\n      <td>0</td>\n      <td>0</td>\n      <td>0</td>\n      <td>0</td>\n      <td>1</td>\n      <td>0</td>\n      <td>0</td>\n      <td>0</td>\n      <td>0</td>\n    </tr>\n    <tr>\n      <th>4121</th>\n      <td>357522</td>\n      <td>2007</td>\n      <td>868</td>\n      <td>20</td>\n      <td>14.0</td>\n      <td>16.0</td>\n      <td>10</td>\n      <td>9.0</td>\n      <td>10.0</td>\n      <td>0</td>\n      <td>...</td>\n      <td>0</td>\n      <td>0</td>\n      <td>0</td>\n      <td>0</td>\n      <td>0</td>\n      <td>0</td>\n      <td>1</td>\n      <td>0</td>\n      <td>0</td>\n      <td>0</td>\n    </tr>\n    <tr>\n      <th>4122</th>\n      <td>312389</td>\n      <td>1978</td>\n      <td>1327</td>\n      <td>1</td>\n      <td>1.0</td>\n      <td>4.0</td>\n      <td>3</td>\n      <td>7.0</td>\n      <td>11.0</td>\n      <td>1</td>\n      <td>...</td>\n      <td>0</td>\n      <td>0</td>\n      <td>0</td>\n      <td>0</td>\n      <td>0</td>\n      <td>0</td>\n      <td>1</td>\n      <td>0</td>\n      <td>0</td>\n      <td>0</td>\n    </tr>\n    <tr>\n      <th>4123</th>\n      <td>393805</td>\n      <td>2007</td>\n      <td>868</td>\n      <td>13</td>\n      <td>14.0</td>\n      <td>16.0</td>\n      <td>10</td>\n      <td>9.0</td>\n      <td>10.0</td>\n      <td>0</td>\n      <td>...</td>\n      <td>0</td>\n      <td>0</td>\n      <td>0</td>\n      <td>0</td>\n      <td>0</td>\n      <td>0</td>\n      <td>1</td>\n      <td>0</td>\n      <td>0</td>\n      <td>0</td>\n    </tr>\n  </tbody>\n</table>\n<p>4124 rows × 75 columns</p>\n</div>"
     },
     "execution_count": 6,
     "metadata": {},
     "output_type": "execute_result"
    }
   ],
   "source": [
    "categorical_cols = [\n",
    "    'HallwayType',\n",
    "    'HeatingType',\n",
    "    'AptManageType',\n",
    "    'N_Parkinglot(Ground)',\n",
    "    'N_Parkinglot(Basement)',\n",
    "    'TimeToBusStop',\n",
    "    'TimeToSubway',\n",
    "    'SubwayStation',\n",
    "]\n",
    "\n",
    "df = pd.concat([_df.drop(columns=categorical_cols), *[pd.get_dummies(_df[col], prefix=col, dtype=int) for col in categorical_cols]], axis=1)\n",
    "df"
   ],
   "metadata": {
    "collapsed": false,
    "ExecuteTime": {
     "end_time": "2024-03-22T19:27:14.747321213Z",
     "start_time": "2024-03-22T19:27:14.741823756Z"
    }
   },
   "id": "2d5e74a8616f0a8e"
  },
  {
   "cell_type": "code",
   "execution_count": 7,
   "outputs": [
    {
     "data": {
      "text/plain": "          0      1      2\n0     False   True  False\n1      True  False  False\n2      True  False  False\n3     False  False   True\n4      True  False  False\n...     ...    ...    ...\n4119  False  False   True\n4120  False   True  False\n4121  False  False   True\n4122  False   True  False\n4123  False  False   True\n\n[4124 rows x 3 columns]",
      "text/html": "<div>\n<style scoped>\n    .dataframe tbody tr th:only-of-type {\n        vertical-align: middle;\n    }\n\n    .dataframe tbody tr th {\n        vertical-align: top;\n    }\n\n    .dataframe thead th {\n        text-align: right;\n    }\n</style>\n<table border=\"1\" class=\"dataframe\">\n  <thead>\n    <tr style=\"text-align: right;\">\n      <th></th>\n      <th>0</th>\n      <th>1</th>\n      <th>2</th>\n    </tr>\n  </thead>\n  <tbody>\n    <tr>\n      <th>0</th>\n      <td>False</td>\n      <td>True</td>\n      <td>False</td>\n    </tr>\n    <tr>\n      <th>1</th>\n      <td>True</td>\n      <td>False</td>\n      <td>False</td>\n    </tr>\n    <tr>\n      <th>2</th>\n      <td>True</td>\n      <td>False</td>\n      <td>False</td>\n    </tr>\n    <tr>\n      <th>3</th>\n      <td>False</td>\n      <td>False</td>\n      <td>True</td>\n    </tr>\n    <tr>\n      <th>4</th>\n      <td>True</td>\n      <td>False</td>\n      <td>False</td>\n    </tr>\n    <tr>\n      <th>...</th>\n      <td>...</td>\n      <td>...</td>\n      <td>...</td>\n    </tr>\n    <tr>\n      <th>4119</th>\n      <td>False</td>\n      <td>False</td>\n      <td>True</td>\n    </tr>\n    <tr>\n      <th>4120</th>\n      <td>False</td>\n      <td>True</td>\n      <td>False</td>\n    </tr>\n    <tr>\n      <th>4121</th>\n      <td>False</td>\n      <td>False</td>\n      <td>True</td>\n    </tr>\n    <tr>\n      <th>4122</th>\n      <td>False</td>\n      <td>True</td>\n      <td>False</td>\n    </tr>\n    <tr>\n      <th>4123</th>\n      <td>False</td>\n      <td>False</td>\n      <td>True</td>\n    </tr>\n  </tbody>\n</table>\n<p>4124 rows × 3 columns</p>\n</div>"
     },
     "execution_count": 7,
     "metadata": {},
     "output_type": "execute_result"
    }
   ],
   "source": [
    "def price_to_class(price: int) -> int:\n",
    "    return int(price > 350_000) + int(price > 100_000)\n",
    "\n",
    "features = df.drop(columns=['SalePrice'])\n",
    "labels = pd.get_dummies(df['SalePrice'].rename('class').apply(price_to_class))\n",
    "labels"
   ],
   "metadata": {
    "collapsed": false,
    "ExecuteTime": {
     "end_time": "2024-03-22T19:27:14.747657841Z",
     "start_time": "2024-03-22T19:27:14.742045405Z"
    }
   },
   "id": "165f4a20e9d1dec8"
  },
  {
   "cell_type": "code",
   "execution_count": 8,
   "outputs": [],
   "source": [
    "dataset = ApartmentDataset(features=features.values, labels=labels.values)\n",
    "data_module = ApartmentDataModule(dataset=dataset)"
   ],
   "metadata": {
    "collapsed": false,
    "ExecuteTime": {
     "end_time": "2024-03-22T19:27:14.819359490Z",
     "start_time": "2024-03-22T19:27:14.742131925Z"
    }
   },
   "id": "a6eacddaaff24735"
  },
  {
   "cell_type": "code",
   "execution_count": 9,
   "outputs": [],
   "source": [
    "model = ApartmentClassifier(input_size=len(features.columns), output_size=3)"
   ],
   "metadata": {
    "collapsed": false,
    "ExecuteTime": {
     "end_time": "2024-03-22T19:27:14.885241835Z",
     "start_time": "2024-03-22T19:27:14.782773562Z"
    }
   },
   "id": "c4b6507927197bae"
  },
  {
   "cell_type": "code",
   "execution_count": 10,
   "outputs": [
    {
     "name": "stdout",
     "output_type": "stream",
     "text": [
      "torch.Size([16, 74])\n"
     ]
    },
    {
     "name": "stderr",
     "output_type": "stream",
     "text": [
      "/tmp/ipykernel_15850/3813452128.py:4: UserWarning: To copy construct from a tensor, it is recommended to use sourceTensor.clone().detach() or sourceTensor.clone().detach().requires_grad_(True), rather than torch.tensor(sourceTensor).\n",
      "  ddd = model.forward(torch.tensor(bbb).float())\n"
     ]
    },
    {
     "data": {
      "text/plain": "torch.Size([16, 3])"
     },
     "execution_count": 10,
     "metadata": {},
     "output_type": "execute_result"
    }
   ],
   "source": [
    "aaa = DataLoader(dataset, batch_size=16)\n",
    "bbb, ccc = next(iter(aaa))\n",
    "print(bbb.shape)\n",
    "ddd = model.forward(torch.tensor(bbb).float())\n",
    "ddd.shape\n",
    "# model.forward(torch.rand(74))"
   ],
   "metadata": {
    "collapsed": false,
    "ExecuteTime": {
     "end_time": "2024-03-22T19:27:14.901113730Z",
     "start_time": "2024-03-22T19:27:14.843585539Z"
    }
   },
   "id": "9558ce2aca286d72"
  },
  {
   "cell_type": "code",
   "execution_count": 11,
   "outputs": [
    {
     "name": "stderr",
     "output_type": "stream",
     "text": [
      "GPU available: True (cuda), used: True\n",
      "TPU available: False, using: 0 TPU cores\n",
      "IPU available: False, using: 0 IPUs\n",
      "HPU available: False, using: 0 HPUs\n",
      "LOCAL_RANK: 0 - CUDA_VISIBLE_DEVICES: [0]\n",
      "\n",
      "  | Name | Type             | Params\n",
      "------------------------------------------\n",
      "0 | l1   | Linear           | 9.6 K \n",
      "1 | l2   | Linear           | 8.3 K \n",
      "2 | l3   | Linear           | 2.1 K \n",
      "3 | l4   | Linear           | 99    \n",
      "4 | loss | CrossEntropyLoss | 0     \n",
      "------------------------------------------\n",
      "20.0 K    Trainable params\n",
      "0         Non-trainable params\n",
      "20.0 K    Total params\n",
      "0.080     Total estimated model params size (MB)\n"
     ]
    },
    {
     "data": {
      "text/plain": "Sanity Checking: 0it [00:00, ?it/s]",
      "application/vnd.jupyter.widget-view+json": {
       "version_major": 2,
       "version_minor": 0,
       "model_id": "8c71b31280674e6a9f613dc8b8b56f3c"
      }
     },
     "metadata": {},
     "output_type": "display_data"
    },
    {
     "name": "stderr",
     "output_type": "stream",
     "text": [
      "/home/tomek/miniconda3/envs/ssne_p2/lib/python3.11/site-packages/pytorch_lightning/trainer/connectors/data_connector.py:480: PossibleUserWarning: Your `val_dataloader`'s sampler has shuffling enabled, it is strongly recommended that you turn shuffling off for val/test dataloaders.\n",
      "  rank_zero_warn(\n",
      "/home/tomek/miniconda3/envs/ssne_p2/lib/python3.11/site-packages/pytorch_lightning/trainer/connectors/data_connector.py:432: PossibleUserWarning: The dataloader, val_dataloader, does not have many workers which may be a bottleneck. Consider increasing the value of the `num_workers` argument` (try 12 which is the number of cpus on this machine) in the `DataLoader` init to improve performance.\n",
      "  rank_zero_warn(\n",
      "/home/tomek/miniconda3/envs/ssne_p2/lib/python3.11/site-packages/pytorch_lightning/trainer/connectors/data_connector.py:432: PossibleUserWarning: The dataloader, train_dataloader, does not have many workers which may be a bottleneck. Consider increasing the value of the `num_workers` argument` (try 12 which is the number of cpus on this machine) in the `DataLoader` init to improve performance.\n",
      "  rank_zero_warn(\n",
      "/home/tomek/miniconda3/envs/ssne_p2/lib/python3.11/site-packages/pytorch_lightning/loops/fit_loop.py:280: PossibleUserWarning: The number of training batches (7) is smaller than the logging interval Trainer(log_every_n_steps=50). Set a lower value for log_every_n_steps if you want to see logs for the training epoch.\n",
      "  rank_zero_warn(\n"
     ]
    },
    {
     "data": {
      "text/plain": "Training: 0it [00:00, ?it/s]",
      "application/vnd.jupyter.widget-view+json": {
       "version_major": 2,
       "version_minor": 0,
       "model_id": "5ae4389e1ee94a648126eba1e245f5f1"
      }
     },
     "metadata": {},
     "output_type": "display_data"
    },
    {
     "data": {
      "text/plain": "Validation: 0it [00:00, ?it/s]",
      "application/vnd.jupyter.widget-view+json": {
       "version_major": 2,
       "version_minor": 0,
       "model_id": "13866ef03c564f0e8cd543e87d3e3018"
      }
     },
     "metadata": {},
     "output_type": "display_data"
    },
    {
     "data": {
      "text/plain": "Validation: 0it [00:00, ?it/s]",
      "application/vnd.jupyter.widget-view+json": {
       "version_major": 2,
       "version_minor": 0,
       "model_id": "01609b0591d44f959b1b753cc219b04c"
      }
     },
     "metadata": {},
     "output_type": "display_data"
    },
    {
     "data": {
      "text/plain": "Validation: 0it [00:00, ?it/s]",
      "application/vnd.jupyter.widget-view+json": {
       "version_major": 2,
       "version_minor": 0,
       "model_id": "019b2087d80b40ec8c9c141786e32999"
      }
     },
     "metadata": {},
     "output_type": "display_data"
    },
    {
     "data": {
      "text/plain": "Validation: 0it [00:00, ?it/s]",
      "application/vnd.jupyter.widget-view+json": {
       "version_major": 2,
       "version_minor": 0,
       "model_id": "f2ea3029a9fc4ea0bb64e6294ec8245b"
      }
     },
     "metadata": {},
     "output_type": "display_data"
    },
    {
     "data": {
      "text/plain": "Validation: 0it [00:00, ?it/s]",
      "application/vnd.jupyter.widget-view+json": {
       "version_major": 2,
       "version_minor": 0,
       "model_id": "470752a9a10441d78c594f054de706b0"
      }
     },
     "metadata": {},
     "output_type": "display_data"
    },
    {
     "data": {
      "text/plain": "Validation: 0it [00:00, ?it/s]",
      "application/vnd.jupyter.widget-view+json": {
       "version_major": 2,
       "version_minor": 0,
       "model_id": "663d7c87d95a49bbb5b54d8ec00b9d09"
      }
     },
     "metadata": {},
     "output_type": "display_data"
    },
    {
     "data": {
      "text/plain": "Validation: 0it [00:00, ?it/s]",
      "application/vnd.jupyter.widget-view+json": {
       "version_major": 2,
       "version_minor": 0,
       "model_id": "f49ac7ec813f4e98b852b1218001eaf9"
      }
     },
     "metadata": {},
     "output_type": "display_data"
    },
    {
     "data": {
      "text/plain": "Validation: 0it [00:00, ?it/s]",
      "application/vnd.jupyter.widget-view+json": {
       "version_major": 2,
       "version_minor": 0,
       "model_id": "fe9daaf767fb41b189448735cd432544"
      }
     },
     "metadata": {},
     "output_type": "display_data"
    },
    {
     "data": {
      "text/plain": "Validation: 0it [00:00, ?it/s]",
      "application/vnd.jupyter.widget-view+json": {
       "version_major": 2,
       "version_minor": 0,
       "model_id": "8731355da22d4def83a56d0b9cd8b4e7"
      }
     },
     "metadata": {},
     "output_type": "display_data"
    },
    {
     "data": {
      "text/plain": "Validation: 0it [00:00, ?it/s]",
      "application/vnd.jupyter.widget-view+json": {
       "version_major": 2,
       "version_minor": 0,
       "model_id": "6b27cf4eac4b4522b254af5a9f0f6383"
      }
     },
     "metadata": {},
     "output_type": "display_data"
    },
    {
     "data": {
      "text/plain": "Validation: 0it [00:00, ?it/s]",
      "application/vnd.jupyter.widget-view+json": {
       "version_major": 2,
       "version_minor": 0,
       "model_id": "92703a82ea4040c1b5fe76898d9923b6"
      }
     },
     "metadata": {},
     "output_type": "display_data"
    },
    {
     "data": {
      "text/plain": "Validation: 0it [00:00, ?it/s]",
      "application/vnd.jupyter.widget-view+json": {
       "version_major": 2,
       "version_minor": 0,
       "model_id": "af4eab92d71b42269c92dd1335ddc1ad"
      }
     },
     "metadata": {},
     "output_type": "display_data"
    },
    {
     "data": {
      "text/plain": "Validation: 0it [00:00, ?it/s]",
      "application/vnd.jupyter.widget-view+json": {
       "version_major": 2,
       "version_minor": 0,
       "model_id": "58c28056c01e406f87b2618f7c440226"
      }
     },
     "metadata": {},
     "output_type": "display_data"
    },
    {
     "data": {
      "text/plain": "Validation: 0it [00:00, ?it/s]",
      "application/vnd.jupyter.widget-view+json": {
       "version_major": 2,
       "version_minor": 0,
       "model_id": "d9d4b29314c24995926bebdea0248219"
      }
     },
     "metadata": {},
     "output_type": "display_data"
    },
    {
     "data": {
      "text/plain": "Validation: 0it [00:00, ?it/s]",
      "application/vnd.jupyter.widget-view+json": {
       "version_major": 2,
       "version_minor": 0,
       "model_id": "5a92e6fbd6e6412189b9e22a6b53e674"
      }
     },
     "metadata": {},
     "output_type": "display_data"
    },
    {
     "data": {
      "text/plain": "Validation: 0it [00:00, ?it/s]",
      "application/vnd.jupyter.widget-view+json": {
       "version_major": 2,
       "version_minor": 0,
       "model_id": "c938a0df9cd542b6b117b0a1ee9fa653"
      }
     },
     "metadata": {},
     "output_type": "display_data"
    },
    {
     "data": {
      "text/plain": "Validation: 0it [00:00, ?it/s]",
      "application/vnd.jupyter.widget-view+json": {
       "version_major": 2,
       "version_minor": 0,
       "model_id": "b50daa9040ac4f1eb9141f13be654ad9"
      }
     },
     "metadata": {},
     "output_type": "display_data"
    },
    {
     "data": {
      "text/plain": "Validation: 0it [00:00, ?it/s]",
      "application/vnd.jupyter.widget-view+json": {
       "version_major": 2,
       "version_minor": 0,
       "model_id": "14ec102cb5934b4d9a9fb12c1405391b"
      }
     },
     "metadata": {},
     "output_type": "display_data"
    },
    {
     "data": {
      "text/plain": "Validation: 0it [00:00, ?it/s]",
      "application/vnd.jupyter.widget-view+json": {
       "version_major": 2,
       "version_minor": 0,
       "model_id": "1cf3ea1a7a6c40e4ae2abb1f6321ad5a"
      }
     },
     "metadata": {},
     "output_type": "display_data"
    },
    {
     "data": {
      "text/plain": "Validation: 0it [00:00, ?it/s]",
      "application/vnd.jupyter.widget-view+json": {
       "version_major": 2,
       "version_minor": 0,
       "model_id": "8a524090fbeb4694987412f2318e2cb4"
      }
     },
     "metadata": {},
     "output_type": "display_data"
    },
    {
     "data": {
      "text/plain": "Validation: 0it [00:00, ?it/s]",
      "application/vnd.jupyter.widget-view+json": {
       "version_major": 2,
       "version_minor": 0,
       "model_id": "ef271ed8e29e45beb430ce8e2d14b5bd"
      }
     },
     "metadata": {},
     "output_type": "display_data"
    },
    {
     "data": {
      "text/plain": "Validation: 0it [00:00, ?it/s]",
      "application/vnd.jupyter.widget-view+json": {
       "version_major": 2,
       "version_minor": 0,
       "model_id": "e6eb7e0dd1354437b402ddeb57c0b53f"
      }
     },
     "metadata": {},
     "output_type": "display_data"
    },
    {
     "data": {
      "text/plain": "Validation: 0it [00:00, ?it/s]",
      "application/vnd.jupyter.widget-view+json": {
       "version_major": 2,
       "version_minor": 0,
       "model_id": "14ac4377fd814d389e65da1b02365d1d"
      }
     },
     "metadata": {},
     "output_type": "display_data"
    },
    {
     "data": {
      "text/plain": "Validation: 0it [00:00, ?it/s]",
      "application/vnd.jupyter.widget-view+json": {
       "version_major": 2,
       "version_minor": 0,
       "model_id": "08426db29bed47ab866d833524d9e50d"
      }
     },
     "metadata": {},
     "output_type": "display_data"
    },
    {
     "data": {
      "text/plain": "Validation: 0it [00:00, ?it/s]",
      "application/vnd.jupyter.widget-view+json": {
       "version_major": 2,
       "version_minor": 0,
       "model_id": "02c29a5919f54444a8cb0a372ee0783a"
      }
     },
     "metadata": {},
     "output_type": "display_data"
    },
    {
     "data": {
      "text/plain": "Validation: 0it [00:00, ?it/s]",
      "application/vnd.jupyter.widget-view+json": {
       "version_major": 2,
       "version_minor": 0,
       "model_id": "cdedcaa579ea4bfeb40f5e10ccdacd9d"
      }
     },
     "metadata": {},
     "output_type": "display_data"
    },
    {
     "data": {
      "text/plain": "Validation: 0it [00:00, ?it/s]",
      "application/vnd.jupyter.widget-view+json": {
       "version_major": 2,
       "version_minor": 0,
       "model_id": "0fff3328032a4ac8b6cb0aee10b38315"
      }
     },
     "metadata": {},
     "output_type": "display_data"
    },
    {
     "data": {
      "text/plain": "Validation: 0it [00:00, ?it/s]",
      "application/vnd.jupyter.widget-view+json": {
       "version_major": 2,
       "version_minor": 0,
       "model_id": "82bed311a73b428b9a32e4322e864892"
      }
     },
     "metadata": {},
     "output_type": "display_data"
    },
    {
     "data": {
      "text/plain": "Validation: 0it [00:00, ?it/s]",
      "application/vnd.jupyter.widget-view+json": {
       "version_major": 2,
       "version_minor": 0,
       "model_id": "6af38bf63d5f4d0e90400f6a6d51a9bf"
      }
     },
     "metadata": {},
     "output_type": "display_data"
    },
    {
     "data": {
      "text/plain": "Validation: 0it [00:00, ?it/s]",
      "application/vnd.jupyter.widget-view+json": {
       "version_major": 2,
       "version_minor": 0,
       "model_id": "cc1c64cb68c641f98047fb4cc5c2576b"
      }
     },
     "metadata": {},
     "output_type": "display_data"
    },
    {
     "data": {
      "text/plain": "Validation: 0it [00:00, ?it/s]",
      "application/vnd.jupyter.widget-view+json": {
       "version_major": 2,
       "version_minor": 0,
       "model_id": "0449100729734ca383e77618a2d040f5"
      }
     },
     "metadata": {},
     "output_type": "display_data"
    },
    {
     "data": {
      "text/plain": "Validation: 0it [00:00, ?it/s]",
      "application/vnd.jupyter.widget-view+json": {
       "version_major": 2,
       "version_minor": 0,
       "model_id": "1fb4548640ea485da8ba651bb0b70ba1"
      }
     },
     "metadata": {},
     "output_type": "display_data"
    },
    {
     "data": {
      "text/plain": "Validation: 0it [00:00, ?it/s]",
      "application/vnd.jupyter.widget-view+json": {
       "version_major": 2,
       "version_minor": 0,
       "model_id": "6272dc0f637340f98c44e2af11d11c8b"
      }
     },
     "metadata": {},
     "output_type": "display_data"
    },
    {
     "data": {
      "text/plain": "Validation: 0it [00:00, ?it/s]",
      "application/vnd.jupyter.widget-view+json": {
       "version_major": 2,
       "version_minor": 0,
       "model_id": "3510e0b764f14d8b866060346a1c4a70"
      }
     },
     "metadata": {},
     "output_type": "display_data"
    },
    {
     "data": {
      "text/plain": "Validation: 0it [00:00, ?it/s]",
      "application/vnd.jupyter.widget-view+json": {
       "version_major": 2,
       "version_minor": 0,
       "model_id": "28270dc2097949c8977b3b3ac828eb57"
      }
     },
     "metadata": {},
     "output_type": "display_data"
    },
    {
     "data": {
      "text/plain": "Validation: 0it [00:00, ?it/s]",
      "application/vnd.jupyter.widget-view+json": {
       "version_major": 2,
       "version_minor": 0,
       "model_id": "08e502cda7114aeead9ed5447eeae23d"
      }
     },
     "metadata": {},
     "output_type": "display_data"
    },
    {
     "data": {
      "text/plain": "Validation: 0it [00:00, ?it/s]",
      "application/vnd.jupyter.widget-view+json": {
       "version_major": 2,
       "version_minor": 0,
       "model_id": "816533c5fe4642d2b9b1f692f934b69e"
      }
     },
     "metadata": {},
     "output_type": "display_data"
    },
    {
     "data": {
      "text/plain": "Validation: 0it [00:00, ?it/s]",
      "application/vnd.jupyter.widget-view+json": {
       "version_major": 2,
       "version_minor": 0,
       "model_id": "b903b9def44f4c158c116c034bc9b448"
      }
     },
     "metadata": {},
     "output_type": "display_data"
    },
    {
     "data": {
      "text/plain": "Validation: 0it [00:00, ?it/s]",
      "application/vnd.jupyter.widget-view+json": {
       "version_major": 2,
       "version_minor": 0,
       "model_id": "a5cb86d338bd4297a2d8051311c5c9f3"
      }
     },
     "metadata": {},
     "output_type": "display_data"
    },
    {
     "data": {
      "text/plain": "Validation: 0it [00:00, ?it/s]",
      "application/vnd.jupyter.widget-view+json": {
       "version_major": 2,
       "version_minor": 0,
       "model_id": "843600199a3e484793947876ecf27764"
      }
     },
     "metadata": {},
     "output_type": "display_data"
    },
    {
     "data": {
      "text/plain": "Validation: 0it [00:00, ?it/s]",
      "application/vnd.jupyter.widget-view+json": {
       "version_major": 2,
       "version_minor": 0,
       "model_id": "dd288643af314715845f571ed71e2932"
      }
     },
     "metadata": {},
     "output_type": "display_data"
    },
    {
     "data": {
      "text/plain": "Validation: 0it [00:00, ?it/s]",
      "application/vnd.jupyter.widget-view+json": {
       "version_major": 2,
       "version_minor": 0,
       "model_id": "466ba9cb6fc14fa19bcb036c070cfd8d"
      }
     },
     "metadata": {},
     "output_type": "display_data"
    },
    {
     "data": {
      "text/plain": "Validation: 0it [00:00, ?it/s]",
      "application/vnd.jupyter.widget-view+json": {
       "version_major": 2,
       "version_minor": 0,
       "model_id": "286ab2d4dece4cf59781ff54a5888784"
      }
     },
     "metadata": {},
     "output_type": "display_data"
    },
    {
     "data": {
      "text/plain": "Validation: 0it [00:00, ?it/s]",
      "application/vnd.jupyter.widget-view+json": {
       "version_major": 2,
       "version_minor": 0,
       "model_id": "1572da82bacc4d6ea75347154b55db55"
      }
     },
     "metadata": {},
     "output_type": "display_data"
    },
    {
     "data": {
      "text/plain": "Validation: 0it [00:00, ?it/s]",
      "application/vnd.jupyter.widget-view+json": {
       "version_major": 2,
       "version_minor": 0,
       "model_id": "d7559975b0944fb59e8f87336fc964b6"
      }
     },
     "metadata": {},
     "output_type": "display_data"
    },
    {
     "data": {
      "text/plain": "Validation: 0it [00:00, ?it/s]",
      "application/vnd.jupyter.widget-view+json": {
       "version_major": 2,
       "version_minor": 0,
       "model_id": "487c18e4d4704925b522e516e9ff52fc"
      }
     },
     "metadata": {},
     "output_type": "display_data"
    },
    {
     "data": {
      "text/plain": "Validation: 0it [00:00, ?it/s]",
      "application/vnd.jupyter.widget-view+json": {
       "version_major": 2,
       "version_minor": 0,
       "model_id": "9de1b7a5afd24e8c9163508fc20ae7cb"
      }
     },
     "metadata": {},
     "output_type": "display_data"
    },
    {
     "data": {
      "text/plain": "Validation: 0it [00:00, ?it/s]",
      "application/vnd.jupyter.widget-view+json": {
       "version_major": 2,
       "version_minor": 0,
       "model_id": "6a775359ff8340559ec09cdc8f1b862d"
      }
     },
     "metadata": {},
     "output_type": "display_data"
    },
    {
     "data": {
      "text/plain": "Validation: 0it [00:00, ?it/s]",
      "application/vnd.jupyter.widget-view+json": {
       "version_major": 2,
       "version_minor": 0,
       "model_id": "278d722e6f6b47c19d5052f6d5fcce9e"
      }
     },
     "metadata": {},
     "output_type": "display_data"
    },
    {
     "data": {
      "text/plain": "Validation: 0it [00:00, ?it/s]",
      "application/vnd.jupyter.widget-view+json": {
       "version_major": 2,
       "version_minor": 0,
       "model_id": "b930d10d04604688a75edddb3cf14617"
      }
     },
     "metadata": {},
     "output_type": "display_data"
    },
    {
     "data": {
      "text/plain": "Validation: 0it [00:00, ?it/s]",
      "application/vnd.jupyter.widget-view+json": {
       "version_major": 2,
       "version_minor": 0,
       "model_id": "4967672e1c1e41bd8317ba22ecd7e257"
      }
     },
     "metadata": {},
     "output_type": "display_data"
    },
    {
     "data": {
      "text/plain": "Validation: 0it [00:00, ?it/s]",
      "application/vnd.jupyter.widget-view+json": {
       "version_major": 2,
       "version_minor": 0,
       "model_id": "175df67cfe1643609e8aab420fc31b2e"
      }
     },
     "metadata": {},
     "output_type": "display_data"
    },
    {
     "data": {
      "text/plain": "Validation: 0it [00:00, ?it/s]",
      "application/vnd.jupyter.widget-view+json": {
       "version_major": 2,
       "version_minor": 0,
       "model_id": "f369cc471fc04090886ab513d9b7b277"
      }
     },
     "metadata": {},
     "output_type": "display_data"
    },
    {
     "data": {
      "text/plain": "Validation: 0it [00:00, ?it/s]",
      "application/vnd.jupyter.widget-view+json": {
       "version_major": 2,
       "version_minor": 0,
       "model_id": "a81815c37a2d4021ae2978d208e7121b"
      }
     },
     "metadata": {},
     "output_type": "display_data"
    },
    {
     "data": {
      "text/plain": "Validation: 0it [00:00, ?it/s]",
      "application/vnd.jupyter.widget-view+json": {
       "version_major": 2,
       "version_minor": 0,
       "model_id": "d2b17ad497c44740a91622ebbfaafb89"
      }
     },
     "metadata": {},
     "output_type": "display_data"
    },
    {
     "data": {
      "text/plain": "Validation: 0it [00:00, ?it/s]",
      "application/vnd.jupyter.widget-view+json": {
       "version_major": 2,
       "version_minor": 0,
       "model_id": "ba242b2e90d5440ab1a37a44715a14a7"
      }
     },
     "metadata": {},
     "output_type": "display_data"
    },
    {
     "data": {
      "text/plain": "Validation: 0it [00:00, ?it/s]",
      "application/vnd.jupyter.widget-view+json": {
       "version_major": 2,
       "version_minor": 0,
       "model_id": "a89491375d684767813834f1ddceec3b"
      }
     },
     "metadata": {},
     "output_type": "display_data"
    },
    {
     "data": {
      "text/plain": "Validation: 0it [00:00, ?it/s]",
      "application/vnd.jupyter.widget-view+json": {
       "version_major": 2,
       "version_minor": 0,
       "model_id": "35ead47b42d74fa08f743be726fb60e8"
      }
     },
     "metadata": {},
     "output_type": "display_data"
    },
    {
     "data": {
      "text/plain": "Validation: 0it [00:00, ?it/s]",
      "application/vnd.jupyter.widget-view+json": {
       "version_major": 2,
       "version_minor": 0,
       "model_id": "7fe8a56ab5b24755a9362b529f8e7623"
      }
     },
     "metadata": {},
     "output_type": "display_data"
    },
    {
     "data": {
      "text/plain": "Validation: 0it [00:00, ?it/s]",
      "application/vnd.jupyter.widget-view+json": {
       "version_major": 2,
       "version_minor": 0,
       "model_id": "949f3e79cd634eb7b4204737014b9106"
      }
     },
     "metadata": {},
     "output_type": "display_data"
    },
    {
     "data": {
      "text/plain": "Validation: 0it [00:00, ?it/s]",
      "application/vnd.jupyter.widget-view+json": {
       "version_major": 2,
       "version_minor": 0,
       "model_id": "21ac01d05c0d43f8b5800ee11d545586"
      }
     },
     "metadata": {},
     "output_type": "display_data"
    },
    {
     "data": {
      "text/plain": "Validation: 0it [00:00, ?it/s]",
      "application/vnd.jupyter.widget-view+json": {
       "version_major": 2,
       "version_minor": 0,
       "model_id": "452d7f7ddb70420f8e30eddd10906762"
      }
     },
     "metadata": {},
     "output_type": "display_data"
    },
    {
     "data": {
      "text/plain": "Validation: 0it [00:00, ?it/s]",
      "application/vnd.jupyter.widget-view+json": {
       "version_major": 2,
       "version_minor": 0,
       "model_id": "44b010f7ee27459ab6ba4e5af2f35949"
      }
     },
     "metadata": {},
     "output_type": "display_data"
    },
    {
     "data": {
      "text/plain": "Validation: 0it [00:00, ?it/s]",
      "application/vnd.jupyter.widget-view+json": {
       "version_major": 2,
       "version_minor": 0,
       "model_id": "2d6fd5b771fc4a82bc500a16769122f8"
      }
     },
     "metadata": {},
     "output_type": "display_data"
    },
    {
     "data": {
      "text/plain": "Validation: 0it [00:00, ?it/s]",
      "application/vnd.jupyter.widget-view+json": {
       "version_major": 2,
       "version_minor": 0,
       "model_id": "e15328710ba64f3189cc8b172978f7ba"
      }
     },
     "metadata": {},
     "output_type": "display_data"
    },
    {
     "data": {
      "text/plain": "Validation: 0it [00:00, ?it/s]",
      "application/vnd.jupyter.widget-view+json": {
       "version_major": 2,
       "version_minor": 0,
       "model_id": "ff8aee1d250543edadd049e729573489"
      }
     },
     "metadata": {},
     "output_type": "display_data"
    },
    {
     "data": {
      "text/plain": "Validation: 0it [00:00, ?it/s]",
      "application/vnd.jupyter.widget-view+json": {
       "version_major": 2,
       "version_minor": 0,
       "model_id": "edc63dcaab254b80babf78d369f2df80"
      }
     },
     "metadata": {},
     "output_type": "display_data"
    },
    {
     "data": {
      "text/plain": "Validation: 0it [00:00, ?it/s]",
      "application/vnd.jupyter.widget-view+json": {
       "version_major": 2,
       "version_minor": 0,
       "model_id": "41c88f3064654cb0b3d6b3a8fdb47b5b"
      }
     },
     "metadata": {},
     "output_type": "display_data"
    },
    {
     "data": {
      "text/plain": "Validation: 0it [00:00, ?it/s]",
      "application/vnd.jupyter.widget-view+json": {
       "version_major": 2,
       "version_minor": 0,
       "model_id": "7a9e58e509b047daa6351d7fcb6fad00"
      }
     },
     "metadata": {},
     "output_type": "display_data"
    },
    {
     "data": {
      "text/plain": "Validation: 0it [00:00, ?it/s]",
      "application/vnd.jupyter.widget-view+json": {
       "version_major": 2,
       "version_minor": 0,
       "model_id": "6e10f127be204f769b3922f60a1ba1c4"
      }
     },
     "metadata": {},
     "output_type": "display_data"
    },
    {
     "data": {
      "text/plain": "Validation: 0it [00:00, ?it/s]",
      "application/vnd.jupyter.widget-view+json": {
       "version_major": 2,
       "version_minor": 0,
       "model_id": "b149b7636865417db2732ae8d79cb5a4"
      }
     },
     "metadata": {},
     "output_type": "display_data"
    },
    {
     "data": {
      "text/plain": "Validation: 0it [00:00, ?it/s]",
      "application/vnd.jupyter.widget-view+json": {
       "version_major": 2,
       "version_minor": 0,
       "model_id": "52b1d97714f7453dbe27464879feb239"
      }
     },
     "metadata": {},
     "output_type": "display_data"
    },
    {
     "data": {
      "text/plain": "Validation: 0it [00:00, ?it/s]",
      "application/vnd.jupyter.widget-view+json": {
       "version_major": 2,
       "version_minor": 0,
       "model_id": "c95c1d52bc044a99949c4c396c25c4ff"
      }
     },
     "metadata": {},
     "output_type": "display_data"
    },
    {
     "data": {
      "text/plain": "Validation: 0it [00:00, ?it/s]",
      "application/vnd.jupyter.widget-view+json": {
       "version_major": 2,
       "version_minor": 0,
       "model_id": "b10de5c4089141c596304ee55930739e"
      }
     },
     "metadata": {},
     "output_type": "display_data"
    },
    {
     "data": {
      "text/plain": "Validation: 0it [00:00, ?it/s]",
      "application/vnd.jupyter.widget-view+json": {
       "version_major": 2,
       "version_minor": 0,
       "model_id": "f085660ebf8c43839f2c68157d5a5dbc"
      }
     },
     "metadata": {},
     "output_type": "display_data"
    },
    {
     "data": {
      "text/plain": "Validation: 0it [00:00, ?it/s]",
      "application/vnd.jupyter.widget-view+json": {
       "version_major": 2,
       "version_minor": 0,
       "model_id": "a392f1772a17483ea29b08759939fc73"
      }
     },
     "metadata": {},
     "output_type": "display_data"
    },
    {
     "data": {
      "text/plain": "Validation: 0it [00:00, ?it/s]",
      "application/vnd.jupyter.widget-view+json": {
       "version_major": 2,
       "version_minor": 0,
       "model_id": "58b0f399de734bbc8be69532b886d62e"
      }
     },
     "metadata": {},
     "output_type": "display_data"
    },
    {
     "data": {
      "text/plain": "Validation: 0it [00:00, ?it/s]",
      "application/vnd.jupyter.widget-view+json": {
       "version_major": 2,
       "version_minor": 0,
       "model_id": "3999da5b4e45466ba66c44ffcd7c9266"
      }
     },
     "metadata": {},
     "output_type": "display_data"
    },
    {
     "data": {
      "text/plain": "Validation: 0it [00:00, ?it/s]",
      "application/vnd.jupyter.widget-view+json": {
       "version_major": 2,
       "version_minor": 0,
       "model_id": "7c30554ba4a840049633803b289b37e8"
      }
     },
     "metadata": {},
     "output_type": "display_data"
    },
    {
     "data": {
      "text/plain": "Validation: 0it [00:00, ?it/s]",
      "application/vnd.jupyter.widget-view+json": {
       "version_major": 2,
       "version_minor": 0,
       "model_id": "a7506bc5418e4385bffd94b70e122a28"
      }
     },
     "metadata": {},
     "output_type": "display_data"
    },
    {
     "data": {
      "text/plain": "Validation: 0it [00:00, ?it/s]",
      "application/vnd.jupyter.widget-view+json": {
       "version_major": 2,
       "version_minor": 0,
       "model_id": "7926e62b00104c5ba378079732e1b6a5"
      }
     },
     "metadata": {},
     "output_type": "display_data"
    },
    {
     "data": {
      "text/plain": "Validation: 0it [00:00, ?it/s]",
      "application/vnd.jupyter.widget-view+json": {
       "version_major": 2,
       "version_minor": 0,
       "model_id": "558170e2b9fe4b96b51c64b0dfab4b04"
      }
     },
     "metadata": {},
     "output_type": "display_data"
    },
    {
     "data": {
      "text/plain": "Validation: 0it [00:00, ?it/s]",
      "application/vnd.jupyter.widget-view+json": {
       "version_major": 2,
       "version_minor": 0,
       "model_id": "7bb9576d5e414262a724043f2497682c"
      }
     },
     "metadata": {},
     "output_type": "display_data"
    },
    {
     "data": {
      "text/plain": "Validation: 0it [00:00, ?it/s]",
      "application/vnd.jupyter.widget-view+json": {
       "version_major": 2,
       "version_minor": 0,
       "model_id": "cbebe4f8621341bd9a9f37f106b4ee63"
      }
     },
     "metadata": {},
     "output_type": "display_data"
    },
    {
     "data": {
      "text/plain": "Validation: 0it [00:00, ?it/s]",
      "application/vnd.jupyter.widget-view+json": {
       "version_major": 2,
       "version_minor": 0,
       "model_id": "b5180ce675a4463f93453c2cd9d78b4f"
      }
     },
     "metadata": {},
     "output_type": "display_data"
    },
    {
     "data": {
      "text/plain": "Validation: 0it [00:00, ?it/s]",
      "application/vnd.jupyter.widget-view+json": {
       "version_major": 2,
       "version_minor": 0,
       "model_id": "bee7d029e5224bddbba411214fab8bcb"
      }
     },
     "metadata": {},
     "output_type": "display_data"
    },
    {
     "data": {
      "text/plain": "Validation: 0it [00:00, ?it/s]",
      "application/vnd.jupyter.widget-view+json": {
       "version_major": 2,
       "version_minor": 0,
       "model_id": "c415a8d79c5a445697ce6fd60e88be48"
      }
     },
     "metadata": {},
     "output_type": "display_data"
    },
    {
     "data": {
      "text/plain": "Validation: 0it [00:00, ?it/s]",
      "application/vnd.jupyter.widget-view+json": {
       "version_major": 2,
       "version_minor": 0,
       "model_id": "dfa2a4f12d75448598cd45f2ecae27a2"
      }
     },
     "metadata": {},
     "output_type": "display_data"
    },
    {
     "data": {
      "text/plain": "Validation: 0it [00:00, ?it/s]",
      "application/vnd.jupyter.widget-view+json": {
       "version_major": 2,
       "version_minor": 0,
       "model_id": "59bd748914e84c938983cee5a3e06494"
      }
     },
     "metadata": {},
     "output_type": "display_data"
    },
    {
     "data": {
      "text/plain": "Validation: 0it [00:00, ?it/s]",
      "application/vnd.jupyter.widget-view+json": {
       "version_major": 2,
       "version_minor": 0,
       "model_id": "347f116d337b4487ad0c13a1705bd6ad"
      }
     },
     "metadata": {},
     "output_type": "display_data"
    },
    {
     "data": {
      "text/plain": "Validation: 0it [00:00, ?it/s]",
      "application/vnd.jupyter.widget-view+json": {
       "version_major": 2,
       "version_minor": 0,
       "model_id": "944280a648fa4d3bb1ccacb8b5b92a5d"
      }
     },
     "metadata": {},
     "output_type": "display_data"
    },
    {
     "data": {
      "text/plain": "Validation: 0it [00:00, ?it/s]",
      "application/vnd.jupyter.widget-view+json": {
       "version_major": 2,
       "version_minor": 0,
       "model_id": "90c3f7152b344a708f3130fd29b49d52"
      }
     },
     "metadata": {},
     "output_type": "display_data"
    },
    {
     "data": {
      "text/plain": "Validation: 0it [00:00, ?it/s]",
      "application/vnd.jupyter.widget-view+json": {
       "version_major": 2,
       "version_minor": 0,
       "model_id": "780b8abc5ac14a8ca392fa1bc4f2cd85"
      }
     },
     "metadata": {},
     "output_type": "display_data"
    },
    {
     "data": {
      "text/plain": "Validation: 0it [00:00, ?it/s]",
      "application/vnd.jupyter.widget-view+json": {
       "version_major": 2,
       "version_minor": 0,
       "model_id": "0d66a0bcb77e4c2dbfba35807ad5c0b9"
      }
     },
     "metadata": {},
     "output_type": "display_data"
    },
    {
     "data": {
      "text/plain": "Validation: 0it [00:00, ?it/s]",
      "application/vnd.jupyter.widget-view+json": {
       "version_major": 2,
       "version_minor": 0,
       "model_id": "ce4ffdf1b98045478c9a009df5f6b70a"
      }
     },
     "metadata": {},
     "output_type": "display_data"
    },
    {
     "data": {
      "text/plain": "Validation: 0it [00:00, ?it/s]",
      "application/vnd.jupyter.widget-view+json": {
       "version_major": 2,
       "version_minor": 0,
       "model_id": "b1b371ae0de446218cba1d506ae0e93c"
      }
     },
     "metadata": {},
     "output_type": "display_data"
    },
    {
     "data": {
      "text/plain": "Validation: 0it [00:00, ?it/s]",
      "application/vnd.jupyter.widget-view+json": {
       "version_major": 2,
       "version_minor": 0,
       "model_id": "ece9f42c0e774b96ace4433cabcb0a2e"
      }
     },
     "metadata": {},
     "output_type": "display_data"
    },
    {
     "data": {
      "text/plain": "Validation: 0it [00:00, ?it/s]",
      "application/vnd.jupyter.widget-view+json": {
       "version_major": 2,
       "version_minor": 0,
       "model_id": "efa5e6a65b89474aa409d6a61eaeaf43"
      }
     },
     "metadata": {},
     "output_type": "display_data"
    },
    {
     "data": {
      "text/plain": "Validation: 0it [00:00, ?it/s]",
      "application/vnd.jupyter.widget-view+json": {
       "version_major": 2,
       "version_minor": 0,
       "model_id": "c2bfc330799d4884b3b49a32d3ef96fa"
      }
     },
     "metadata": {},
     "output_type": "display_data"
    },
    {
     "data": {
      "text/plain": "Validation: 0it [00:00, ?it/s]",
      "application/vnd.jupyter.widget-view+json": {
       "version_major": 2,
       "version_minor": 0,
       "model_id": "86b379b55222408fa66716dc9e27bcd7"
      }
     },
     "metadata": {},
     "output_type": "display_data"
    },
    {
     "name": "stderr",
     "output_type": "stream",
     "text": [
      "`Trainer.fit` stopped: `max_epochs=100` reached.\n"
     ]
    }
   ],
   "source": [
    "trainer = pl.Trainer(max_epochs=100)\n",
    "trainer.fit(model, datamodule=data_module)\n",
    "\n",
    "# `tensorboard --logdir=lightning_logs` to launch tensorboard"
   ],
   "metadata": {
    "collapsed": false,
    "ExecuteTime": {
     "end_time": "2024-03-22T19:27:21.547474960Z",
     "start_time": "2024-03-22T19:27:14.883794386Z"
    }
   },
   "id": "c5cd67506ab1bc16"
  },
  {
   "cell_type": "code",
   "execution_count": 11,
   "outputs": [],
   "source": [],
   "metadata": {
    "collapsed": false,
    "ExecuteTime": {
     "end_time": "2024-03-22T19:27:21.547562663Z",
     "start_time": "2024-03-22T19:27:21.547091406Z"
    }
   },
   "id": "227743e7359794"
  }
 ],
 "metadata": {
  "kernelspec": {
   "display_name": "Python 3",
   "language": "python",
   "name": "python3"
  },
  "language_info": {
   "codemirror_mode": {
    "name": "ipython",
    "version": 2
   },
   "file_extension": ".py",
   "mimetype": "text/x-python",
   "name": "python",
   "nbconvert_exporter": "python",
   "pygments_lexer": "ipython2",
   "version": "2.7.6"
  }
 },
 "nbformat": 4,
 "nbformat_minor": 5
}
